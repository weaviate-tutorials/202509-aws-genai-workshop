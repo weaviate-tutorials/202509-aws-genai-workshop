{
 "cells": [
  {
   "cell_type": "markdown",
   "metadata": {},
   "source": [
    "# Vector playground - Pre-vectorized data\n",
    "\n",
    "Learn how to work with pre-computed vectors in Weaviate. This notebook shows how to create collections without vectorizers and insert your own embeddings."
   ]
  },
  {
   "cell_type": "markdown",
   "metadata": {},
   "source": [
    "## Connect to Weaviate\n",
    "\n",
    "Connect to a Weaviate instance."
   ]
  },
  {
   "cell_type": "code",
   "execution_count": 1,
   "metadata": {
    "execution": {
     "iopub.execute_input": "2025-09-04T16:35:15.050282Z",
     "iopub.status.busy": "2025-09-04T16:35:15.049765Z",
     "iopub.status.idle": "2025-09-04T16:35:15.200376Z",
     "shell.execute_reply": "2025-09-04T16:35:15.199567Z",
     "shell.execute_reply.started": "2025-09-04T16:35:15.050249Z"
    }
   },
   "outputs": [],
   "source": [
    "# Refresh credentials & load the Weaviate IP\n",
    "from helpers import update_creds\n",
    "\n",
    "AWS_ACCESS_KEY, AWS_SECRET_KEY, AWS_SESSION_TOKEN = update_creds()\n",
    "\n",
    "%store -r WEAVIATE_IP"
   ]
  },
  {
   "cell_type": "code",
   "execution_count": 2,
   "metadata": {
    "execution": {
     "iopub.execute_input": "2025-09-04T16:35:15.201617Z",
     "iopub.status.busy": "2025-09-04T16:35:15.201212Z",
     "iopub.status.idle": "2025-09-04T16:35:16.095735Z",
     "shell.execute_reply": "2025-09-04T16:35:16.094897Z",
     "shell.execute_reply.started": "2025-09-04T16:35:15.201587Z"
    }
   },
   "outputs": [
    {
     "data": {
      "text/plain": [
       "True"
      ]
     },
     "execution_count": 2,
     "metadata": {},
     "output_type": "execute_result"
    }
   ],
   "source": [
    "import weaviate\n",
    "\n",
    "client = weaviate.connect_to_local(\n",
    "    WEAVIATE_IP,\n",
    "    headers = {\n",
    "        \"X-AWS-Access-Key\": AWS_ACCESS_KEY,\n",
    "        \"X-AWS-Secret-Key\": AWS_SECRET_KEY,\n",
    "        \"X-AWS-Session-Token\": AWS_SESSION_TOKEN,\n",
    "    }        \n",
    ")\n",
    "\n",
    "client.is_ready()"
   ]
  },
  {
   "cell_type": "markdown",
   "metadata": {},
   "source": [
    "## Create a collection with no vectorizer\n",
    "\n",
    "When working with pre-computed vectors, configure the collection without an automatic vectorizer.\n",
    "\n",
    "[Docs - Vector configuration](https://weaviate.io/developers/weaviate/config-refs/schema/vector-index)"
   ]
  },
  {
   "cell_type": "code",
   "execution_count": 3,
   "metadata": {
    "execution": {
     "iopub.execute_input": "2025-09-04T16:35:16.098730Z",
     "iopub.status.busy": "2025-09-04T16:35:16.098544Z",
     "iopub.status.idle": "2025-09-04T16:35:16.267278Z",
     "shell.execute_reply": "2025-09-04T16:35:16.266571Z",
     "shell.execute_reply.started": "2025-09-04T16:35:16.098711Z"
    }
   },
   "outputs": [
    {
     "name": "stdout",
     "output_type": "stream",
     "text": [
      "Successfully created collection: PlaygroundCollection\n"
     ]
    }
   ],
   "source": [
    "from weaviate.classes.config import Configure, VectorDistances\n",
    "\n",
    "# Delete the collection if it already exists\n",
    "if client.collections.exists(\"PlaygroundCollection\"):\n",
    "    client.collections.delete(\"PlaygroundCollection\")\n",
    "\n",
    "client.collections.create(\n",
    "    name=\"PlaygroundCollection\",\n",
    "    vector_config=Configure.Vectors.self_provided(\n",
    "        vector_index_config=Configure.VectorIndex.hnsw(\n",
    "            distance_metric=VectorDistances.COSINE  # Choose distance metric\n",
    "        ),\n",
    "    )\n",
    ")\n",
    "\n",
    "print(f\"Successfully created collection: PlaygroundCollection\")"
   ]
  },
  {
   "cell_type": "markdown",
   "metadata": {},
   "source": [
    "## Insert an object with a vector\n",
    "\n",
    "Add a single object with its pre-computed vector embedding."
   ]
  },
  {
   "cell_type": "code",
   "execution_count": 4,
   "metadata": {
    "execution": {
     "iopub.execute_input": "2025-09-04T16:35:16.269978Z",
     "iopub.status.busy": "2025-09-04T16:35:16.269608Z",
     "iopub.status.idle": "2025-09-04T16:35:16.285957Z",
     "shell.execute_reply": "2025-09-04T16:35:16.285337Z",
     "shell.execute_reply.started": "2025-09-04T16:35:16.269958Z"
    }
   },
   "outputs": [
    {
     "data": {
      "text/plain": [
       "UUID('0e77c825-35d9-4988-81ef-8f20afb370ab')"
      ]
     },
     "execution_count": 4,
     "metadata": {},
     "output_type": "execute_result"
    }
   ],
   "source": [
    "playground = client.collections.use(\"PlaygroundCollection\")\n",
    "\n",
    "playground.data.insert(\n",
    "    properties={\n",
    "        \"title\": \"First Document\",\n",
    "        \"content\": \"This is a sample document about machine learning.\",\n",
    "        \"category\": \"technology\"\n",
    "    },\n",
    "    vector=[0.1, 0.1, 0.1, 0.1, 0.1, 0.1]\n",
    ")"
   ]
  },
  {
   "cell_type": "code",
   "execution_count": 5,
   "metadata": {
    "execution": {
     "iopub.execute_input": "2025-09-04T16:35:16.288070Z",
     "iopub.status.busy": "2025-09-04T16:35:16.287754Z",
     "iopub.status.idle": "2025-09-04T16:35:16.293744Z",
     "shell.execute_reply": "2025-09-04T16:35:16.293189Z",
     "shell.execute_reply.started": "2025-09-04T16:35:16.288041Z"
    }
   },
   "outputs": [
    {
     "name": "stdout",
     "output_type": "stream",
     "text": [
      "Properties: {'title': 'First Document', 'content': 'This is a sample document about machine learning.', 'category': 'technology'}\n",
      "Vector: {'default': [0.10000000149011612, 0.10000000149011612, 0.10000000149011612, 0.10000000149011612, 0.10000000149011612, 0.10000000149011612]}\n"
     ]
    }
   ],
   "source": [
    "# Verify the object was inserted with its vector\n",
    "response = playground.query.fetch_objects(include_vector=True, limit=1)\n",
    "\n",
    "print(\"Properties:\", response.objects[0].properties)\n",
    "print(\"Vector:\", response.objects[0].vector)"
   ]
  },
  {
   "cell_type": "markdown",
   "metadata": {},
   "source": [
    "## Insert many objects with vectors using batch\n",
    "\n",
    "Use batch processing for efficient bulk insertion of pre-vectorized data."
   ]
  },
  {
   "cell_type": "code",
   "execution_count": 6,
   "metadata": {
    "execution": {
     "iopub.execute_input": "2025-09-04T16:35:16.296957Z",
     "iopub.status.busy": "2025-09-04T16:35:16.296739Z",
     "iopub.status.idle": "2025-09-04T16:35:16.302112Z",
     "shell.execute_reply": "2025-09-04T16:35:16.301414Z",
     "shell.execute_reply.started": "2025-09-04T16:35:16.296938Z"
    }
   },
   "outputs": [
    {
     "name": "stdout",
     "output_type": "stream",
     "text": [
      "Sample data prepared: 4 documents\n"
     ]
    }
   ],
   "source": [
    "# Sample data with pre-computed vectors\n",
    "sample_data = [\n",
    "    {\n",
    "        \"title\": \"AI Research Paper\",\n",
    "        \"content\": \"Deep learning advances in computer vision applications.\",\n",
    "        \"category\": \"research\",\n",
    "        \"vector\": [0.2, 0.3, 0.4, 0.5, 0.6, 0.7]\n",
    "    },\n",
    "    {\n",
    "        \"title\": \"Financial Analysis\",\n",
    "        \"content\": \"Market trends and economic indicators for Q4.\",\n",
    "        \"category\": \"finance\",\n",
    "        \"vector\": [0.3, 0.1, -0.1, -0.3, -0.5, -0.7]\n",
    "    },\n",
    "    {\n",
    "        \"title\": \"Cloud Computing Guide\",\n",
    "        \"content\": \"Best practices for AWS infrastructure deployment.\",\n",
    "        \"category\": \"technology\",\n",
    "        \"vector\": [0.4, 0.41, 0.42, 0.43, 0.44, 0.45]\n",
    "    },\n",
    "    {\n",
    "        \"title\": \"Healthcare Innovation\",\n",
    "        \"content\": \"Digital transformation in medical diagnosis systems.\",\n",
    "        \"category\": \"healthcare\",\n",
    "        \"vector\": [0.5, 0.5, 0, 0, 0, 0]\n",
    "    },\n",
    "]\n",
    "\n",
    "print(f\"Sample data prepared: {len(sample_data)} documents\")"
   ]
  },
  {
   "cell_type": "code",
   "execution_count": 7,
   "metadata": {
    "execution": {
     "iopub.execute_input": "2025-09-04T16:35:16.303305Z",
     "iopub.status.busy": "2025-09-04T16:35:16.302981Z",
     "iopub.status.idle": "2025-09-04T16:35:17.344689Z",
     "shell.execute_reply": "2025-09-04T16:35:17.343850Z",
     "shell.execute_reply.started": "2025-09-04T16:35:16.303269Z"
    }
   },
   "outputs": [
    {
     "name": "stdout",
     "output_type": "stream",
     "text": [
      "Total objects in collection: 5\n"
     ]
    }
   ],
   "source": [
    "# Batch insert the sample data\n",
    "with playground.batch.dynamic() as batch:\n",
    "    for item in sample_data:\n",
    "        batch.add_object(\n",
    "            properties={\n",
    "                \"title\": item[\"title\"],\n",
    "                \"content\": item[\"content\"],\n",
    "                \"category\": item[\"category\"],\n",
    "            },\n",
    "            vector=item[\"vector\"]\n",
    "        )\n",
    "\n",
    "print(f\"Total objects in collection: {len(playground)}\")"
   ]
  },
  {
   "cell_type": "markdown",
   "metadata": {},
   "source": [
    "## Vector search queries\n",
    "\n",
    "Available query types when working with vector embeddings:\n",
    "\n",
    "1. [near_vector](https://weaviate.io/developers/weaviate/search/similarity#search-with-a-vector) - Search with a query vector\n",
    "2. [near_object](https://weaviate.io/developers/weaviate/search/similarity#search-with-an-existing-object) - Search with an existing object"
   ]
  },
  {
   "cell_type": "markdown",
   "metadata": {},
   "source": [
    "### Near vector search\n",
    "\n",
    "Search using a query vector to find similar documents."
   ]
  },
  {
   "cell_type": "code",
   "execution_count": 8,
   "metadata": {
    "execution": {
     "iopub.execute_input": "2025-09-04T16:35:17.349002Z",
     "iopub.status.busy": "2025-09-04T16:35:17.348703Z",
     "iopub.status.idle": "2025-09-04T16:35:17.356723Z",
     "shell.execute_reply": "2025-09-04T16:35:17.355926Z",
     "shell.execute_reply.started": "2025-09-04T16:35:17.348981Z"
    }
   },
   "outputs": [
    {
     "name": "stdout",
     "output_type": "stream",
     "text": [
      "Basic vector search results:\n",
      "- First Document (technology)\n",
      "  UUID: 0e77c825-35d9-4988-81ef-8f20afb370ab\n",
      "\n"
     ]
    }
   ],
   "source": [
    "# Basic vector search\n",
    "response = playground.query.near_vector(\n",
    "    near_vector=[0.1, 0.2, 0.3, 0.4, 0.5, 0.6],\n",
    "    limit=3,\n",
    ")\n",
    "\n",
    "print(\"Basic vector search results:\")\n",
    "for item in response.objects:\n",
    "    print(f\"- {item.properties['title']} ({item.properties['category']})\")\n",
    "    print(f\"  UUID: {item.uuid}\\n\")"
   ]
  },
  {
   "cell_type": "code",
   "execution_count": 9,
   "metadata": {
    "execution": {
     "iopub.execute_input": "2025-09-04T16:35:17.358332Z",
     "iopub.status.busy": "2025-09-04T16:35:17.358126Z",
     "iopub.status.idle": "2025-09-04T16:35:17.365536Z",
     "shell.execute_reply": "2025-09-04T16:35:17.364735Z",
     "shell.execute_reply.started": "2025-09-04T16:35:17.358314Z"
    }
   },
   "outputs": [
    {
     "name": "stdout",
     "output_type": "stream",
     "text": [
      "Vector search with metadata:\n",
      "Title: First Document\n",
      "Distance: 0.1013\n",
      "Vector: {'default': [0.10000000149011612, 0.10000000149011612, 0.10000000149011612, 0.10000000149011612, 0.10000000149011612, 0.10000000149011612]}\n",
      "\n"
     ]
    }
   ],
   "source": [
    "# Vector search with distance and vector output\n",
    "from weaviate.classes.query import MetadataQuery\n",
    "\n",
    "response = playground.query.near_vector(\n",
    "    near_vector=[0.1, 0.2, 0.3, 0.4, 0.5, 0.6],\n",
    "    include_vector=True,\n",
    "    return_metadata=MetadataQuery(distance=True),\n",
    "    limit=2,\n",
    ")\n",
    "\n",
    "print(\"Vector search with metadata:\")\n",
    "for item in response.objects:\n",
    "    print(f\"Title: {item.properties['title']}\")\n",
    "    print(f\"Distance: {item.metadata.distance:.4f}\")\n",
    "    print(f\"Vector: {item.vector}\\n\")"
   ]
  },
  {
   "cell_type": "markdown",
   "metadata": {},
   "source": [
    "### Vector search with filters\n",
    "\n",
    "Combine vector similarity with property-based filtering."
   ]
  },
  {
   "cell_type": "code",
   "execution_count": 10,
   "metadata": {
    "execution": {
     "iopub.execute_input": "2025-09-04T16:35:17.369539Z",
     "iopub.status.busy": "2025-09-04T16:35:17.369359Z",
     "iopub.status.idle": "2025-09-04T16:35:17.376032Z",
     "shell.execute_reply": "2025-09-04T16:35:17.375326Z",
     "shell.execute_reply.started": "2025-09-04T16:35:17.369521Z"
    }
   },
   "outputs": [
    {
     "name": "stdout",
     "output_type": "stream",
     "text": [
      "Technology documents (filtered search):\n",
      "- First Document\n",
      "  Category: technology\n",
      "  Distance: 0.1013\n",
      "\n"
     ]
    }
   ],
   "source": [
    "from weaviate.classes.query import Filter, MetadataQuery\n",
    "\n",
    "# Search for technology-related documents only\n",
    "response = playground.query.near_vector(\n",
    "    near_vector=[0.1, 0.2, 0.3, 0.4, 0.5, 0.6],\n",
    "    return_metadata=MetadataQuery(distance=True),\n",
    "    filters=Filter.by_property(\"category\").equal(\"technology\"),\n",
    "    limit=5,\n",
    ")\n",
    "\n",
    "print(\"Technology documents (filtered search):\")\n",
    "for item in response.objects:\n",
    "    print(f\"- {item.properties['title']}\")\n",
    "    print(f\"  Category: {item.properties['category']}\")\n",
    "    print(f\"  Distance: {item.metadata.distance:.4f}\\n\")"
   ]
  },
  {
   "cell_type": "markdown",
   "metadata": {},
   "source": [
    "### Near object search\n",
    "\n",
    "Find similar objects using an existing object as reference.\n",
    "\n",
    "> Note: The first result is always the reference object itself (distance = 0)."
   ]
  },
  {
   "cell_type": "code",
   "execution_count": 11,
   "metadata": {
    "execution": {
     "iopub.execute_input": "2025-09-04T16:35:17.378612Z",
     "iopub.status.busy": "2025-09-04T16:35:17.378448Z",
     "iopub.status.idle": "2025-09-04T16:35:17.384055Z",
     "shell.execute_reply": "2025-09-04T16:35:17.383359Z",
     "shell.execute_reply.started": "2025-09-04T16:35:17.378594Z"
    }
   },
   "outputs": [
    {
     "name": "stdout",
     "output_type": "stream",
     "text": [
      "Using reference object: Financial Analysis\n",
      "Reference UUID: 0dc498aa-c846-4639-b410-5598063ee573\n",
      "\n"
     ]
    }
   ],
   "source": [
    "# Get an object ID to use as reference\n",
    "reference_response = playground.query.fetch_objects(limit=1)\n",
    "reference_uuid = reference_response.objects[0].uuid\n",
    "\n",
    "print(f\"Using reference object: {reference_response.objects[0].properties['title']}\")\n",
    "print(f\"Reference UUID: {reference_uuid}\\n\")"
   ]
  },
  {
   "cell_type": "code",
   "execution_count": 12,
   "metadata": {
    "execution": {
     "iopub.execute_input": "2025-09-04T16:35:17.384754Z",
     "iopub.status.busy": "2025-09-04T16:35:17.384497Z",
     "iopub.status.idle": "2025-09-04T16:35:17.392366Z",
     "shell.execute_reply": "2025-09-04T16:35:17.391551Z",
     "shell.execute_reply.started": "2025-09-04T16:35:17.384734Z"
    }
   },
   "outputs": [
    {
     "name": "stdout",
     "output_type": "stream",
     "text": [
      "Objects similar to reference:\n",
      "1. First Document (reference)\n",
      "   Category: technology\n",
      "   Distance: 1.5053\n",
      "\n"
     ]
    }
   ],
   "source": [
    "from weaviate.classes.query import MetadataQuery\n",
    "\n",
    "# Find objects similar to the reference object\n",
    "response = playground.query.near_object(\n",
    "    near_object=reference_uuid,\n",
    "    return_metadata=MetadataQuery(distance=True),\n",
    "    limit=4,\n",
    ")\n",
    "\n",
    "print(\"Objects similar to reference:\")\n",
    "for i, item in enumerate(response.objects):\n",
    "    marker = \"(reference)\" if i == 0 else \"\"\n",
    "    print(f\"{i+1}. {item.properties['title']} {marker}\")\n",
    "    print(f\"   Category: {item.properties['category']}\")\n",
    "    print(f\"   Distance: {item.metadata.distance:.4f}\\n\")"
   ]
  },
  {
   "cell_type": "markdown",
   "metadata": {},
   "source": [
    "## Data exploration\n",
    "\n",
    "Explore the collection contents and verify data quality."
   ]
  },
  {
   "cell_type": "code",
   "execution_count": 13,
   "metadata": {
    "execution": {
     "iopub.execute_input": "2025-09-04T16:35:17.395507Z",
     "iopub.status.busy": "2025-09-04T16:35:17.395326Z",
     "iopub.status.idle": "2025-09-04T16:35:17.403270Z",
     "shell.execute_reply": "2025-09-04T16:35:17.402480Z",
     "shell.execute_reply.started": "2025-09-04T16:35:17.395489Z"
    }
   },
   "outputs": [
    {
     "name": "stdout",
     "output_type": "stream",
     "text": [
      "All documents in PlaygroundCollection (5 total):\n",
      "- Financial Analysis [finance]\n",
      "  Content: Market trends and economic indicators for Q4....\n",
      "\n",
      "- First Document [technology]\n",
      "  Content: This is a sample document about machine learning....\n",
      "\n",
      "- Cloud Computing Guide [technology]\n",
      "  Content: Best practices for AWS infrastructure deployment....\n",
      "\n",
      "- Healthcare Innovation [healthcare]\n",
      "  Content: Digital transformation in medical diagnosis system...\n",
      "\n",
      "- AI Research Paper [research]\n",
      "  Content: Deep learning advances in computer vision applicat...\n",
      "\n"
     ]
    }
   ],
   "source": [
    "# Show all documents in the collection\n",
    "response = playground.query.fetch_objects(limit=10)\n",
    "\n",
    "print(f\"All documents in PlaygroundCollection ({len(response.objects)} total):\")\n",
    "for item in response.objects:\n",
    "    print(f\"- {item.properties['title']} [{item.properties['category']}]\")\n",
    "    print(f\"  Content: {item.properties['content'][:50]}...\")\n",
    "    print()"
   ]
  },
  {
   "cell_type": "markdown",
   "metadata": {},
   "source": [
    "## Close the client\n",
    "\n",
    "Always close your connection when finished."
   ]
  },
  {
   "cell_type": "code",
   "execution_count": 14,
   "metadata": {
    "execution": {
     "iopub.execute_input": "2025-09-04T16:35:17.409895Z",
     "iopub.status.busy": "2025-09-04T16:35:17.409692Z",
     "iopub.status.idle": "2025-09-04T16:35:17.415206Z",
     "shell.execute_reply": "2025-09-04T16:35:17.414569Z",
     "shell.execute_reply.started": "2025-09-04T16:35:17.409875Z"
    }
   },
   "outputs": [],
   "source": [
    "client.close()"
   ]
  }
 ],
 "metadata": {
  "kernelspec": {
   "display_name": "Python 3 (ipykernel)",
   "language": "python",
   "name": "python3"
  },
  "language_info": {
   "codemirror_mode": {
    "name": "ipython",
    "version": 3
   },
   "file_extension": ".py",
   "mimetype": "text/x-python",
   "name": "python",
   "nbconvert_exporter": "python",
   "pygments_lexer": "ipython3",
   "version": "3.12.9"
  }
 },
 "nbformat": 4,
 "nbformat_minor": 4
}
