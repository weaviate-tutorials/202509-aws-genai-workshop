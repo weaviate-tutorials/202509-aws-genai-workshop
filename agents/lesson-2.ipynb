{
 "cells": [
  {
   "cell_type": "markdown",
   "id": "3a401bac",
   "metadata": {},
   "source": [
    "# Lesson 2 - Pydantic Agents with tools\n",
    "\n",
    "In this lesson you will learn how to build an agent that uses tools to complete tasks given by the user.\n",
    "\n",
    "Tools are super useful, as they give the agent extra skills.<br/>\n",
    "They might even help them count Rs in strawberry 🍓"
   ]
  },
  {
   "cell_type": "markdown",
   "id": "0fea16a0",
   "metadata": {},
   "source": [
    "## Create the first tool - `character_counting_tool`\n",
    "\n",
    "Let's create a tool that can count characters in a given string.\n",
    "The good news is that Python has a function to do just that."
   ]
  },
  {
   "cell_type": "code",
   "execution_count": null,
   "id": "a67080fe",
   "metadata": {},
   "outputs": [],
   "source": [
    "count = \"Strawberry\".lower().count(\"R\".lower())\n",
    "print(count)"
   ]
  },
  {
   "cell_type": "markdown",
   "id": "2ffde792",
   "metadata": {},
   "source": [
    " A good tool is made of two parts:\n",
    "* **The Code** – that performs the task\n",
    "* **A Clear Description** – for the agent telling it: what the tool does, how to call it, and what to expect in return.\n",
    "\n",
    "There are two ways we could provide the tool description with Docstring or Pydantic's annotation.\n",
    "\n",
    "### Docstring style"
   ]
  },
  {
   "cell_type": "code",
   "execution_count": null,
   "id": "4807b944",
   "metadata": {},
   "outputs": [],
   "source": [
    "def character_counting_tool(\n",
    "    text: str,\n",
    "    character: str\n",
    ") -> int:\n",
    "    \"\"\"TODO-description-goes-here--tell-the-agent-the-purpose-of-this-function\n",
    "    \n",
    "    Args:\n",
    "        text: TODO-text-property-description-here\n",
    "        character: TODO-character-property-description-here\n",
    "\n",
    "    Returns:\n",
    "        TODO-return-response-goes-here\n",
    "    \"\"\"\n",
    "\n",
    "    count = text.lower().count(character.lower())\n",
    "    return count"
   ]
  },
  {
   "cell_type": "markdown",
   "id": "74cdf75e",
   "metadata": {},
   "source": [
    "### Pydantic's annotations style"
   ]
  },
  {
   "cell_type": "code",
   "execution_count": null,
   "id": "cdc045ff",
   "metadata": {},
   "outputs": [],
   "source": [
    "from typing import Annotated\n",
    "from pydantic import Field\n",
    "\n",
    "def character_counting_tool(\n",
    "    text:      Annotated[str, Field(description=\"TODO-text-property-description-here\")],\n",
    "    character: Annotated[str, Field(description=\"TODO-character-property-description-here\")],\n",
    ") -> Annotated[int, Field(description=\"TODO-return-response-goes-here\")]:\n",
    "    \"\"\"TODO-description-goes-here--tell-the-agent-the-purpose-of-this-function\n",
    "    \"\"\"\n",
    "\n",
    "    print(f\"🤖 TOOL: character_counting_tool({text}, {character})\")\n",
    "\n",
    "    count = text.lower().count(character.lower())\n",
    "    print(count)\n",
    "    return count"
   ]
  },
  {
   "cell_type": "markdown",
   "id": "1ab6a8f3",
   "metadata": {},
   "source": [
    "### Refusal and Nickname tools\n",
    "\n",
    "It is also great to give a way out for our agents in case they don't have the necessary tools to complete the task.<br/>\n",
    "This is where a refusal tool comes into play.\n",
    "\n",
    "In the refusal tool tell the agent to:\n",
    "* use nickname_tool to respond\n",
    "* appologise\n",
    "* list tools (maybe tell it to skip refusal_tool and nickname_tool)\n",
    "* give it a fun hint (like ask my overlord to upgrade me)\n",
    "\n",
    "Also, let's have some fun, and call the user some nice nicknames."
   ]
  },
  {
   "cell_type": "code",
   "execution_count": null,
   "id": "3fcb6feb",
   "metadata": {},
   "outputs": [],
   "source": [
    "def refusal_tool() -> Annotated[str, Field(description=\"The response provides you with instructions on how to respond to the user\")]:\n",
    "    \"\"\"This is a refusal tool, it tells you how to respond to the user\"\"\"\n",
    "    print(\"🤖 TOOL: refusal_tool()\")\n",
    "\n",
    "    return \"\"\"\n",
    "        Appologise that you can't help them.\n",
    "        TODO: add the rest of the error message\n",
    "        \"\"\""
   ]
  },
  {
   "cell_type": "code",
   "execution_count": null,
   "id": "f84d7648",
   "metadata": {},
   "outputs": [],
   "source": [
    "import random\n",
    "names = [\"Buddy\", \"Friend\", \"Boss\", \"Gorgeous\"]\n",
    "\n",
    "def nickname_tool() -> Annotated[str, Field(description=\"An endearing name, you can use to call the user\")]:\n",
    "    \"\"\"Returns a random name that can be used to call the user\"\"\"\n",
    "    print(\"🤖 TOOL: nickname_tool()\")\n",
    "\n",
    "\n",
    "    random_index = random.randint(0,len(names)-1)\n",
    "    return names[random_index]"
   ]
  },
  {
   "cell_type": "markdown",
   "id": "bb932d0b",
   "metadata": {},
   "source": [
    "## Create an agent with Tools"
   ]
  },
  {
   "cell_type": "code",
   "execution_count": null,
   "id": "0816123d",
   "metadata": {},
   "outputs": [],
   "source": [
    "from pydantic_ai import Agent\n",
    "from pydantic_ai.tools import Tool\n",
    "\n",
    "def prepare_agent() -> Agent:\n",
    "    return Agent(\n",
    "        model=\"bedrock:anthropic.claude-3-5-sonnet-20241022-v2:0\",\n",
    "        instructions=\"\"\"\n",
    "        You are a helpful assistant answering any questions a user may have.\n",
    "        You have access to the following tools:\n",
    "        - character_counting_tool\n",
    "\n",
    "        You should only try to provide the response only with the provided tools.\n",
    "        Use refusal_tool to understand how to respond when you don't have the tools to answer.\n",
    "\n",
    "        When responding to the user, always use a nickname, you must get the nickname from nickname_tool.\n",
    "        \"\"\",\n",
    "        tools=[\n",
    "            Tool(character_counting_tool, takes_ctx=False),\n",
    "            # TODO: add refusal_tool\n",
    "            # TODO: add nickname_tool\n",
    "        ]\n",
    "    )\n",
    "\n",
    "agent = prepare_agent()"
   ]
  },
  {
   "cell_type": "code",
   "execution_count": null,
   "id": "7e7074d6",
   "metadata": {},
   "outputs": [],
   "source": [
    "response = await agent.run(\"What is the fastest way to Mars?\")\n",
    "print(response.output)"
   ]
  },
  {
   "cell_type": "code",
   "execution_count": null,
   "id": "0ad68eba",
   "metadata": {},
   "outputs": [],
   "source": [
    "response = await agent.run(\"How many Rs are there in the Polish word truskawka when translated to English?\")\n",
    "print(response.output)"
   ]
  },
  {
   "cell_type": "markdown",
   "id": "7c358e75",
   "metadata": {},
   "source": [
    "## Have fun"
   ]
  }
 ],
 "metadata": {
  "kernelspec": {
   "display_name": ".venv",
   "language": "python",
   "name": "python3"
  },
  "language_info": {
   "codemirror_mode": {
    "name": "ipython",
    "version": 3
   },
   "file_extension": ".py",
   "mimetype": "text/x-python",
   "name": "python",
   "nbconvert_exporter": "python",
   "pygments_lexer": "ipython3",
   "version": "3.11.8"
  }
 },
 "nbformat": 4,
 "nbformat_minor": 5
}
