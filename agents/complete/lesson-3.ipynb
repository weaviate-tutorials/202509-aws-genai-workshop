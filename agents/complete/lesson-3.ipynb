{
 "cells": [
  {
   "cell_type": "markdown",
   "id": "d201c20d",
   "metadata": {},
   "source": [
    "# Lesson 3 - Agent with data access\n",
    "\n",
    "In this lesson you will learn how to create an agent with access to Financial data and convert currency values."
   ]
  },
  {
   "cell_type": "markdown",
   "id": "241c7c2e",
   "metadata": {},
   "source": [
    "## Get Auth your Auth credentials"
   ]
  },
  {
   "cell_type": "markdown",
   "id": "99a098b1",
   "metadata": {},
   "source": [
    "## Connect to your Weaviate instance"
   ]
  },
  {
   "cell_type": "code",
   "execution_count": null,
   "id": "1fd79e35",
   "metadata": {},
   "outputs": [],
   "source": [
    "from weaviate_connect import WeaviateConnect\n",
    "client = WeaviateConnect.connect()"
   ]
  },
  {
   "cell_type": "code",
   "execution_count": null,
   "id": "05364e78",
   "metadata": {},
   "outputs": [],
   "source": [
    "client.collections.list_all()"
   ]
  },
  {
   "cell_type": "markdown",
   "id": "7d1a2e28",
   "metadata": {},
   "source": [
    "## Quickly test a vector query"
   ]
  },
  {
   "cell_type": "code",
   "execution_count": null,
   "id": "e4fef152",
   "metadata": {},
   "outputs": [],
   "source": [
    "collection = client.collections.use(\"FinancialArticles\")\n",
    "res = collection.query.near_text(\n",
    "    query=\"Tech stock\",\n",
    "    target_vector=\"body\",\n",
    "    auto_limit=1,\n",
    ")\n",
    "\n",
    "for item in res.objects:\n",
    "    print(item.properties)"
   ]
  },
  {
   "cell_type": "markdown",
   "id": "76995f07",
   "metadata": {},
   "source": [
    "## Build Financial Search tool"
   ]
  },
  {
   "cell_type": "code",
   "execution_count": null,
   "id": "b981de5f",
   "metadata": {},
   "outputs": [],
   "source": [
    "from weaviateconnect import WeaviateConnect\n",
    "\n",
    "from typing import Annotated, List\n",
    "from pydantic import Field\n",
    "\n",
    "\n",
    "def search_financial_articles_tool(\n",
    "        query: Annotated[str, Field(description=\"Search query term\")]\n",
    "    ) -> Annotated[List, Field(description=\"A list of database object. See .properties for the data items.\")]:\n",
    "    \"\"\"\n",
    "    A tool to search through Financial Articles.\n",
    "    \"\"\"\n",
    "\n",
    "    print(f\"🤖 TOOL: search_financial_articles_tool({query})\")\n",
    "\n",
    "    # Get the connect to Weaviate first\n",
    "    client = WeaviateConnect.connect()\n",
    "    \n",
    "    # Run the query\n",
    "    articles = client.collections.use(\"FinancialArticles\")\n",
    "    response = articles.query.near_text(\n",
    "        query,\n",
    "        target_vector=\"title\",\n",
    "        limit=5,\n",
    "    )\n",
    "    \n",
    "    return response.objects"
   ]
  },
  {
   "cell_type": "markdown",
   "id": "becd65ee",
   "metadata": {},
   "source": [
    "## Other tools"
   ]
  },
  {
   "cell_type": "code",
   "execution_count": null,
   "id": "fde824f7",
   "metadata": {},
   "outputs": [],
   "source": [
    "!pip install requests"
   ]
  },
  {
   "cell_type": "code",
   "execution_count": null,
   "id": "4e6d9ec1",
   "metadata": {},
   "outputs": [],
   "source": [
    "import requests\n",
    "\n",
    "def refusal_tool() -> Annotated[str, Field(description=\"The response provides you with instructions on how to respond to the user\")]:\n",
    "    \"\"\"This is a refusal tool, it tells you how to respond to the user\"\"\"\n",
    "    print(\"🤖 TOOL: refusal_tool()\")\n",
    "\n",
    "    return \"\"\"\n",
    "        Make sure to use the nickname_tool to respond.\n",
    "        Appologise that you can't help them.\n",
    "        List the names of the tools that you have available, but don't mention refusal_tool and nickname_tool\n",
    "        And tell them to talk to Sebastian to upgrade you.\"\"\"\n",
    "\n",
    "def currency_exchange_tool(\n",
    "        currency_from: Annotated[str, Field(description=\"Source currency code (e.g., 'usd', 'eur')\")],\n",
    "        currency_to: Annotated[str, Field(description=\"Target currency code (e.g., 'usd', 'eur', 'btc')\")]\n",
    "    ) -> Annotated[float, Field(description=\"Exchange rate from source to target currency, or 1.0 if not found\")]:\n",
    "    \"\"\"\n",
    "    Get the exchange rate between two currencies.\n",
    "    \"\"\"\n",
    "\n",
    "    print(f\"🤖 TOOL: Checking currency rates {currency_from}->{currency_to}\")\n",
    "\n",
    "    # Convert to lowercase to match API format\n",
    "    currency_from = currency_from.lower()\n",
    "    currency_to = currency_to.lower()\n",
    "\n",
    "    # If same currency, return 1\n",
    "    if currency_from == currency_to:\n",
    "        return 1.0\n",
    "\n",
    "    try:\n",
    "        # Make API call to get exchange rates for the source currency\n",
    "        url = f\"https://latest.currency-api.pages.dev/v1/currencies/{currency_from}.json\"\n",
    "        response = requests.get(url)\n",
    "        \n",
    "        # Check if the request was successful\n",
    "        if response.status_code != 200:\n",
    "            print(f\"Warning: Unable to fetch exchange rates for '{currency_from}'. HTTP status: {response.status_code}\")\n",
    "            return 1.0\n",
    "        \n",
    "        # Parse the JSON response\n",
    "        data = response.json()\n",
    "        \n",
    "        # Check if the source currency data exists\n",
    "        if currency_from not in data:\n",
    "            print(f\"Warning: Source currency '{currency_from}' not found in the response.\")\n",
    "            return 1.0\n",
    "        \n",
    "        # Get the exchange rates for the source currency\n",
    "        exchange_rates = data[currency_from]\n",
    "        \n",
    "        # Check if the target currency is available\n",
    "        if currency_to not in exchange_rates:\n",
    "            print(f\"Warning: Target currency '{currency_to}' not found for source currency '{currency_from}'.\")\n",
    "            return 1.0\n",
    "        \n",
    "        # Return the exchange rate\n",
    "        print(f\"The exchange rate for {currency_from} to {currency_to} is {exchange_rates[currency_to]}\")\n",
    "        return float(exchange_rates[currency_to])\n",
    "    \n",
    "    except Exception as e:\n",
    "        print(f\"Warning: An unexpected error occurred: {e}\")\n",
    "        return 1.0"
   ]
  },
  {
   "cell_type": "markdown",
   "id": "2b6aadcc",
   "metadata": {},
   "source": [
    "## Create an agent"
   ]
  },
  {
   "cell_type": "code",
   "execution_count": null,
   "id": "6d9945d2",
   "metadata": {},
   "outputs": [],
   "source": [
    "from pydantic_ai import Agent\n",
    "from pydantic_ai.tools import Tool\n",
    "\n",
    "def prepare_agent() -> Agent:\n",
    "    return Agent(\n",
    "        # model=\"bedrock:anthropic.claude-3-5-sonnet-20241022-v2:0\",\n",
    "        model=\"openai:gpt-4o\",\n",
    "        instructions=\"\"\"\n",
    "        You are a helpful assistant answering financial questions.\n",
    "        You have access to the following tools:\n",
    "        - search_financial_articles_tool\n",
    "        - currency_exchange_tool\n",
    "\n",
    "        You should only try to provide the response only with the provided tools.\n",
    "        Use refusal_tool to understand how to respond when you don't have the tools to answer.\n",
    "        \"\"\",\n",
    "        tools=[\n",
    "            Tool(search_financial_articles_tool, takes_ctx=False),\n",
    "            Tool(currency_exchange_tool, takes_ctx=False),\n",
    "            Tool(refusal_tool, takes_ctx=False),\n",
    "        ]\n",
    "    )\n",
    "\n",
    "agent = prepare_agent()"
   ]
  },
  {
   "cell_type": "markdown",
   "id": "265aac31",
   "metadata": {},
   "source": [
    "## Test the agent"
   ]
  },
  {
   "cell_type": "code",
   "execution_count": null,
   "id": "7ee87618",
   "metadata": {},
   "outputs": [],
   "source": [
    "result = await agent.run(\"What are popular tech stocks? Which one grew the most?\")\n",
    "print(result.output)"
   ]
  },
  {
   "cell_type": "markdown",
   "id": "a625d58d",
   "metadata": {},
   "source": [
    "## Run the agent in a loop"
   ]
  },
  {
   "cell_type": "code",
   "execution_count": null,
   "id": "6ce83f6c",
   "metadata": {},
   "outputs": [],
   "source": [
    "import logging\n",
    "\n",
    "logging.basicConfig(level=logging.INFO)\n",
    "logger = logging.getLogger(__name__)\n",
    "\n",
    "COL_BLUE = '\\033[94m'\n",
    "COL_RESET = '\\033[0m'\n",
    "\n",
    "async def main():\n",
    "    logger.info(\"Starting Pydantic AI demo with Weaviate search and text processing tools\")\n",
    "\n",
    "    print(\"Welcome to the Pydantic AI Demo!\")\n",
    "    print(\"You can ask me to:\")\n",
    "    print(\"- Search for documents (e.g., 'Search for machine learning papers')\")\n",
    "    print(\"- Count characters in text (e.g., 'Count the letter r in programming')\")\n",
    "    print(\"Type 'quit' to exit.\\n\")\n",
    "\n",
    "    agent = prepare_agent()\n",
    "    result = None\n",
    "\n",
    "    while True:\n",
    "        try:\n",
    "            user_input = input(\"You: \")\n",
    "            if user_input.lower() in ['quit', 'exit']:\n",
    "                break\n",
    "\n",
    "            if user_input.lower() in ['clear', 'clr']:\n",
    "                result = None\n",
    "                continue\n",
    "\n",
    "            if(result == None):\n",
    "                result = await agent.run(user_input)\n",
    "            else:\n",
    "                result = await agent.run(user_input, message_history=result.all_messages())\n",
    "\n",
    "            print(f\"{COL_BLUE}Assistant: {result.output}\\n{COL_RESET}\")\n",
    "\n",
    "        except KeyboardInterrupt:\n",
    "            break\n",
    "        except Exception as e:\n",
    "            logger.error(f\"Error processing request: {e}\")\n",
    "            print(f\"Sorry, there was an error: {e}\\n\")\n",
    "\n",
    "    print(\"Goodbye!\")\n",
    "\n",
    "await main()\n"
   ]
  }
 ],
 "metadata": {
  "kernelspec": {
   "display_name": ".venv",
   "language": "python",
   "name": "python3"
  },
  "language_info": {
   "codemirror_mode": {
    "name": "ipython",
    "version": 3
   },
   "file_extension": ".py",
   "mimetype": "text/x-python",
   "name": "python",
   "nbconvert_exporter": "python",
   "pygments_lexer": "ipython3",
   "version": "3.11.8"
  }
 },
 "nbformat": 4,
 "nbformat_minor": 5
}
