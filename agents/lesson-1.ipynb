{
 "cells": [
  {
   "cell_type": "markdown",
   "id": "275e7a72",
   "metadata": {},
   "source": [
    "# Lesson 1 - Your First Pydantic Agent\n",
    "\n",
    "In this lesson you will learn how to build a simple agent, which will use a Bedrock model to answer user questions and follow-up questions."
   ]
  },
  {
   "cell_type": "markdown",
   "id": "acaf54f8",
   "metadata": {},
   "source": [
    "## Install Pydantic"
   ]
  },
  {
   "cell_type": "code",
   "execution_count": null,
   "id": "607b79d1",
   "metadata": {},
   "outputs": [],
   "source": [
    "!pip install pydantic-ai"
   ]
  },
  {
   "cell_type": "markdown",
   "id": "9ebda283",
   "metadata": {},
   "source": [
    "## Check Anthropic models"
   ]
  },
  {
   "cell_type": "code",
   "execution_count": 11,
   "id": "c67158aa",
   "metadata": {},
   "outputs": [
    {
     "name": "stdout",
     "output_type": "stream",
     "text": [
      "Error listing Bedrock models: You must specify a region.\n"
     ]
    }
   ],
   "source": [
    "import boto3\n",
    "\n",
    "def list_bedrock_models():\n",
    "    \"\"\"List available Bedrock foundation models\"\"\"\n",
    "    try:\n",
    "        bedrock = boto3.client('bedrock')\n",
    "        \n",
    "        # List foundation models\n",
    "        response = bedrock.list_foundation_models(byProvider=\"Anthropic\")\n",
    "        \n",
    "        print(\"=== Available Bedrock Models ===\")\n",
    "        for model in response['modelSummaries']:\n",
    "            print(f\"Model ID: {model['modelId']}\")\n",
    "            print(f\"Model Name: {model['modelName']}\")\n",
    "            # print(f\"Provider: {model['providerName']}\")\n",
    "            # if 'inputModalities' in model:\n",
    "            #     print(f\"Input: {model['inputModalities']}\")\n",
    "            # if 'outputModalities' in model:\n",
    "            #     print(f\"Output: {model['outputModalities']}\")\n",
    "            print(\"-\" * 40)\n",
    "            \n",
    "    except Exception as e:\n",
    "        print(f\"Error listing Bedrock models: {e}\")\n",
    "\n",
    "list_bedrock_models()"
   ]
  },
  {
   "cell_type": "markdown",
   "id": "e55b128b",
   "metadata": {},
   "source": [
    "## Create the first Agent\n",
    "\n",
    "To create your first Pydantic agent, you need to pick a model and give it instructions.\n",
    "\n",
    "Let's use `bedrock:anthropic.claude-3-5-sonnet-20241022-v2:0` as the model.\n",
    "\n",
    "`TODO:`<br>\n",
    "Give your agent the following instructions: tell it that it is a helpful assistant, and it should prompt the user with follow-up questions.<br>\n",
    "Have fun with it, and get creative with the description."
   ]
  },
  {
   "cell_type": "code",
   "execution_count": null,
   "id": "aadcdba7",
   "metadata": {},
   "outputs": [],
   "source": [
    "from pydantic_ai import Agent\n",
    "\n",
    "agent = Agent(\n",
    "    # model=\"bedrock:anthropic.claude-3-sonnet-20240229-v1:0\",\n",
    "    model=\"bedrock:anthropic.claude-3-5-sonnet-20241022-v2:0\",\n",
    "    instructions=\"\"\"\n",
    "    TODO: Add agent instructions here - tell it that is a helpful assistant and that it should prompt the user with follow-up questions\n",
    "    \"\"\",\n",
    ")"
   ]
  },
  {
   "cell_type": "markdown",
   "id": "86baf73e",
   "metadata": {},
   "source": [
    "### Ask an opening question\n",
    "\n",
    "Now, let's ask the first question. To do it, you just need to call `agent.run(\"your question/prompt here\")`.\n",
    "\n",
    "How about we ask for the \"longest river\" or \"fatest water animal\"?\n",
    "\n",
    "`TODO:`<br>\n",
    "Call the agent with `agent.run()`\n",
    "\n",
    "> Note. it is an async function, so you need to use `await` to capture the response."
   ]
  },
  {
   "cell_type": "code",
   "execution_count": null,
   "id": "c7fab20d",
   "metadata": {},
   "outputs": [],
   "source": [
    "result = #TODO: call agent run here\n",
    "print(result.output)"
   ]
  },
  {
   "cell_type": "markdown",
   "id": "fdc16f65",
   "metadata": {},
   "source": [
    "### Ask a follow-up question\n",
    "\n",
    "Agents are stateless, each time you send a new request they don't remember what happened before. <br>\n",
    "\n",
    "`TODO:`<br>\n",
    "Use `message_history` and `.all_messages()` from the result to provide context."
   ]
  },
  {
   "cell_type": "code",
   "execution_count": null,
   "id": "fd667a7f",
   "metadata": {},
   "outputs": [],
   "source": [
    "result = await agent.run(\"Yes\", ) # TODO: add message_history here, you can get it from the result.all_messages()\n",
    "print(result.output)"
   ]
  }
 ],
 "metadata": {
  "kernelspec": {
   "display_name": ".venv",
   "language": "python",
   "name": "python3"
  },
  "language_info": {
   "codemirror_mode": {
    "name": "ipython",
    "version": 3
   },
   "file_extension": ".py",
   "mimetype": "text/x-python",
   "name": "python",
   "nbconvert_exporter": "python",
   "pygments_lexer": "ipython3",
   "version": "3.11.8"
  }
 },
 "nbformat": 4,
 "nbformat_minor": 5
}
