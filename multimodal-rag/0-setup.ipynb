{
 "cells": [
  {
   "cell_type": "code",
   "execution_count": null,
   "metadata": {
    "execution": {
     "iopub.execute_input": "2025-09-04T16:30:49.351259Z",
     "iopub.status.busy": "2025-09-04T16:30:49.350778Z",
     "iopub.status.idle": "2025-09-04T16:30:50.205491Z",
     "shell.execute_reply": "2025-09-04T16:30:50.204336Z",
     "shell.execute_reply.started": "2025-09-04T16:30:49.351229Z"
    }
   },
   "outputs": [],
   "source": [
    "try:\n",
    "    import weaviate\n",
    "except ImportError:\n",
    "    %pip install -Uqq weaviate-client"
   ]
  },
  {
   "cell_type": "code",
   "execution_count": null,
   "metadata": {
    "execution": {
     "iopub.execute_input": "2025-09-04T16:30:50.207523Z",
     "iopub.status.busy": "2025-09-04T16:30:50.207208Z",
     "iopub.status.idle": "2025-09-04T16:30:50.967084Z",
     "shell.execute_reply": "2025-09-04T16:30:50.966292Z",
     "shell.execute_reply.started": "2025-09-04T16:30:50.207499Z"
    }
   },
   "outputs": [],
   "source": [
    "import boto3\n",
    "from boto3 import Session\n",
    "import weaviate\n",
    "import weaviate.classes as wvc\n",
    "\n",
    "# Initialize AWS clients\n",
    "ecs_client = boto3.client('ecs')\n",
    "ec2_client = boto3.client('ec2')\n",
    "\n",
    "# Get the task ARN\n",
    "response = ecs_client.list_tasks(cluster='weaviate-cluster', serviceName='weaviate-service')\n",
    "task_arn = response['taskArns'][0]\n",
    "\n",
    "# Get the ENI ID\n",
    "response = ecs_client.describe_tasks(cluster='weaviate-cluster', tasks=[task_arn])\n",
    "eni_id = next(\n",
    "    detail['value']\n",
    "    for task in response['tasks']\n",
    "    for attachment in task['attachments']\n",
    "    for detail in attachment['details']\n",
    "    if detail['name'] == 'networkInterfaceId'\n",
    ")\n",
    "\n",
    "# Get the Weaviate IP\n",
    "response = ec2_client.describe_network_interfaces(NetworkInterfaceIds=[eni_id])\n",
    "WEAVIATE_IP = response['NetworkInterfaces'][0]['Association']['PublicIp']\n",
    "\n",
    "print(f\"Weaviate IP: {WEAVIATE_IP}\")\n",
    "%store WEAVIATE_IP\n",
    "\n",
    "# Get the AWS Credentials\n",
    "session = Session()\n",
    "credentials = session.get_credentials()\n",
    "current_credentials = credentials.get_frozen_credentials()\n",
    "\n",
    "AWS_ACCESS_KEY = current_credentials.access_key\n",
    "AWS_SECRET_KEY = current_credentials.secret_key\n",
    "AWS_SESSION_TOKEN = current_credentials.token\n",
    "\n",
    "print(f\"AWS_ACCESS_KEY:\\t{AWS_ACCESS_KEY}\")\n",
    "print(f\"AWS_SECRET_KEY:\\t{AWS_SECRET_KEY}\")\n",
    "print(f\"AWS_SESSION_TOKEN:\\t{AWS_SESSION_TOKEN}\")\n",
    "print(f\"WEAVIATE_IP:\\t{WEAVIATE_IP}\")\n",
    "\n",
    "%store AWS_ACCESS_KEY\n",
    "%store AWS_SECRET_KEY\n",
    "%store AWS_SESSION_TOKEN\n",
    "\n",
    "# Connect to Weaviate\n",
    "client = weaviate.connect_to_local(WEAVIATE_IP)\n",
    "\n",
    "collection = client.collections.create(\n",
    "    name=\"TestCollection\",\n",
    "    properties=[\n",
    "        wvc.config.Property(\n",
    "            name=\"title\",\n",
    "            data_type=wvc.config.DataType.TEXT\n",
    "        )\n",
    "    ]\n",
    ")\n",
    "print(\"Created collection.\")\n",
    "collections = client.collections.list_all().keys()\n",
    "print(collections)\n",
    "client.collections.delete(\"TestCollection\")\n",
    "client.close()"
   ]
  },
  {
   "cell_type": "markdown",
   "metadata": {},
   "source": [
    "### Helper function\n",
    "\n",
    "For security reasons, these tokens expire periodicaly. \n",
    "\n",
    "We've set up a helper function here, which you can use to refresh them as needed."
   ]
  },
  {
   "cell_type": "code",
   "execution_count": null,
   "metadata": {
    "execution": {
     "iopub.execute_input": "2025-09-04T16:30:50.970094Z",
     "iopub.status.busy": "2025-09-04T16:30:50.969863Z",
     "iopub.status.idle": "2025-09-04T16:30:50.987739Z",
     "shell.execute_reply": "2025-09-04T16:30:50.986991Z",
     "shell.execute_reply.started": "2025-09-04T16:30:50.970074Z"
    }
   },
   "outputs": [],
   "source": [
    "from helpers import update_creds\n",
    "\n",
    "AWS_ACCESS_KEY, AWS_SECRET_KEY, AWS_SESSION_TOKEN = update_creds()"
   ]
  },
  {
   "cell_type": "code",
   "execution_count": null,
   "metadata": {},
   "outputs": [],
   "source": []
  }
 ],
 "metadata": {
  "kernelspec": {
   "display_name": "202509-aws-genai-workshop",
   "language": "python",
   "name": "python3"
  },
  "language_info": {
   "codemirror_mode": {
    "name": "ipython",
    "version": 3
   },
   "file_extension": ".py",
   "mimetype": "text/x-python",
   "name": "python",
   "nbconvert_exporter": "python",
   "pygments_lexer": "ipython3",
   "version": "3.10.16"
  }
 },
 "nbformat": 4,
 "nbformat_minor": 4
}
