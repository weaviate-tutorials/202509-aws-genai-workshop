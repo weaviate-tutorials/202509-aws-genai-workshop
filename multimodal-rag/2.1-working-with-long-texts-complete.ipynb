{
 "cells": [
  {
   "cell_type": "markdown",
   "id": "34fbb67f",
   "metadata": {},
   "source": [
    "## PDF Text extraction & chunking"
   ]
  },
  {
   "cell_type": "markdown",
   "id": "8b8693ef",
   "metadata": {},
   "source": [
    "### PDF to text\n",
    "\n",
    "PDFs contain rich formatting that needs to be extracted as clean text for AI processing. \n",
    "\n",
    "Modern libraries like `docling` can preserve document structure while converting to text format, making the text easier to process while maintaining semantic relationships."
   ]
  },
  {
   "cell_type": "markdown",
   "id": "3f7edd6c",
   "metadata": {},
   "source": [
    "Inspect a PDF converted with `docling`:"
   ]
  },
  {
   "cell_type": "code",
   "execution_count": null,
   "id": "ce9dd1ca",
   "metadata": {
    "executionCancelledAt": null,
    "executionTime": 47,
    "lastExecutedAt": 1756203792603,
    "lastExecutedByKernel": "fe7640a5-8f98-4365-917b-a2fa71df5513",
    "lastScheduledRunId": null,
    "lastSuccessfullyExecutedCode": "md_filepath = Path(\"data/parsed/howto-free-threading-python-parsed-text.md\")\nmd_txt = md_filepath.read_text()\nprint(md_txt[:2000])",
    "outputsMetadata": {
     "0": {
      "height": 616,
      "type": "stream"
     }
    }
   },
   "outputs": [
    {
     "name": "stdout",
     "output_type": "stream",
     "text": [
      "amazon\n",
      "\n",
      "<!-- image -->\n",
      "\n",
      "## AMAZON.COM ANNOUNCES SECOND QUARTER RESULTS\n",
      "\n",
      "SEATTLE-(BUSINESS WIRE) July 31, 2025-Amazon.com, Inc. (NASDAQ: AMZN) today announced financial results for its second quarter ended June 30, 2025.\n",
      "\n",
      "- Net sales increased 13% to $167.7 billion in the second quarter, compared with $148.0 billion in second quarter 2024. Excluding the $1.5 billion favorable impact from year-over-year changes in foreign exchange rates throughout the quarter, net sales increased 12% compared with\n"
     ]
    }
   ],
   "source": [
    "from pathlib import Path\n",
    "\n",
    "md_filepath = Path(\"data/parsed/amazon-2025-08-8k-excerpts-parsed-text.md\")\n",
    "md_txt = md_filepath.read_text()\n",
    "print(md_txt[:500])"
   ]
  },
  {
   "cell_type": "code",
   "execution_count": 2,
   "id": "3843973f",
   "metadata": {},
   "outputs": [
    {
     "name": "stdout",
     "output_type": "stream",
     "text": [
      "\n",
      "\n",
      "(in millions, except per share data)\n",
      "\n",
      "(unaudited)\n",
      "\n",
      "|                                                                    | Three Months Ended June 30,   | Three Months Ended June 30,   | Six Months Ended June 30,   | Six Months Ended June 30,   |\n",
      "|--------------------------------------------------------------------|-------------------------------|-------------------------------|-----------------------------|-----------------------------|\n",
      "|                                                                    | 2024                          | 2025                          | 2024                        | 2025                        |\n",
      "| Net product sales                                                  | $ 61,569                      | $ 68,246                      | $ 122,484                   | $ 132,216                   |\n",
      "| Net service sales                                                  | 86,408                        | 99,456                        | 168,806                     | 191,153                     |\n",
      "| Total net sales                                                    | 147,977                       | 167,702                       | 291,290                     | 323,369                     |\n",
      "| Operating expenses:                                                |                               |                               |                             |                             |\n",
      "| Cost of sales                                                      | 73,785                        | 80,809                        | 146,418                     | 157,785                     |\n",
      "| Fulfillment                                                        | 23,566                        | 25,976                        | 45,883                      | 50,569                      |\n",
      "| Technology and infrastructure                                      | 22,304                        | 27,166                        | 42,728                      | 50,160                     \n"
     ]
    }
   ],
   "source": [
    "table_example = md_txt.split(\"## Consolidated Statements of Operations\")[1]\n",
    "print(table_example[:2000])"
   ]
  },
  {
   "cell_type": "markdown",
   "id": "23b62b17",
   "metadata": {},
   "source": [
    "### Chunking\n",
    "\n",
    "Raw text from PDFs is often too long for AI models to process effectively. Chunking breaks documents into smaller, manageable pieces while preserving context. "
   ]
  },
  {
   "cell_type": "markdown",
   "id": "ac3f956e",
   "metadata": {},
   "source": [
    "#### Chunk by text length\n",
    "\n",
    "Fixed-length chunks are simple but can break sentences or paragraphs mid-thought. This approach is fast and predictable, making it suitable for initial processing or when document structure is uniform."
   ]
  },
  {
   "cell_type": "markdown",
   "id": "f6773b88",
   "metadata": {},
   "source": [
    "![images/chunking_why.png](images/chunking_why.png)"
   ]
  },
  {
   "cell_type": "markdown",
   "id": "99973c13",
   "metadata": {},
   "source": [
    "Different chunking strategies serve different use cases. \n",
    "\n",
    "![images/chunking_methods.png](images/chunking_methods.png)"
   ]
  },
  {
   "cell_type": "markdown",
   "id": "da9c3c26",
   "metadata": {},
   "source": [
    "Let's try a few options:"
   ]
  },
  {
   "cell_type": "markdown",
   "id": "7ddfa414",
   "metadata": {},
   "source": [
    "#### Chunk by text length with overlap\n",
    "\n",
    "Overlapping chunks help maintain context across boundaries. \n",
    "\n",
    "When a concept spans multiple chunks, the overlap helps to capture it. This is especially important for maintaining semantic coherence in search and retrieval systems."
   ]
  },
  {
   "cell_type": "code",
   "execution_count": 3,
   "id": "ad3329d7",
   "metadata": {
    "executionCancelledAt": null,
    "executionTime": 47,
    "lastExecutedAt": 1756203792650,
    "lastExecutedByKernel": "fe7640a5-8f98-4365-917b-a2fa71df5513",
    "lastScheduledRunId": null,
    "lastSuccessfullyExecutedCode": "def get_chunks_by_length_with_overlap(src_text: str, chunk_length: int = 500, overlap: int = 100) -> list[str]:\n    \"\"\"\n    Split text into chunks of approximately `chunk_length` characters.\n    \"\"\"\n    chunks = []\n    for i in range(0, len(src_text), chunk_length):\n        chunks.append(src_text[i:i + chunk_length + overlap])\n    return chunks"
   },
   "outputs": [],
   "source": [
    "def get_chunks_by_length_with_overlap(src_text: str, chunk_length: int = 500, overlap: int = 100) -> list[str]:\n",
    "    \"\"\"\n",
    "    Split text into chunks of approximately `chunk_length` characters.\n",
    "    \"\"\"\n",
    "    chunks = []\n",
    "    for i in range(0, len(src_text), chunk_length):\n",
    "        chunks.append(src_text[i:i + chunk_length + overlap])\n",
    "    return chunks"
   ]
  },
  {
   "cell_type": "code",
   "execution_count": null,
   "id": "dbc39a6c",
   "metadata": {
    "executionCancelledAt": null,
    "executionTime": 49,
    "lastExecutedAt": 1756203792700,
    "lastExecutedByKernel": "fe7640a5-8f98-4365-917b-a2fa71df5513",
    "lastScheduledRunId": null,
    "lastSuccessfullyExecutedCode": "chunks = get_chunks_by_length_with_overlap(md_txt)\ndisplay(chunks[:5])\nprint(len(chunks[0]))",
    "outputsMetadata": {
     "1": {
      "height": 38,
      "type": "stream"
     }
    }
   },
   "outputs": [
    {
     "data": {
      "text/plain": [
       "['amazon\\n\\n<!-- image -->\\n\\n## AMAZON.COM ANNOUNCES SECOND QUARTER RESULTS\\n\\nSEATTLE-(BUSINESS WIRE) July 31, 2025-Amazon.com, Inc. (NASDAQ: AMZN) today announced financial results for its second quarter ended June 30, 2025.\\n\\n- Net sales increased 13% to $167.7 billion in the second quarter, compared with $148.0 billion in second quarter 2024. Excluding the $1.5 billion favorable impact from year-over-year changes in foreign exchange rates throughout the quarter, net sales increased 12% compared with second quarter 2024.\\n- North America segment sales increased 11% year-over-year to $100.1 billion.\\n',\n",
       " ' second quarter 2024.\\n- North America segment sales increased 11% year-over-year to $100.1 billion.\\n- International segment sales increased 16% year-over-year to $36.8 billion, or increased 11% excluding changes in foreign exchange rates.\\n- AWS segment sales increased 17.5% year-over-year to $30.9 billion.\\n- Operating income increased to $19.2 billion in the second quarter, compared with $14.7 billion in second quarter 2024.\\n- North America segment operating income was $7.5 billion, compared with $5.1 billion in second quarter 2024.\\n- International segment operating income was $1.5 billion, co',\n",
       " 'h $5.1 billion in second quarter 2024.\\n- International segment operating income was $1.5 billion, compared with $0.3 billion in second quarter 2024.\\n- AWS segment operating income was $10.2 billion, compared with $9.3 billion in second quarter 2024.\\n- Net income increased to $18.2 billion in the second quarter, or $1.68 per diluted share, compared with $13.5 billion, or $1.26 per diluted share, in second quarter 2024.\\n- Operating cash flow increased 12% to $121.1 billion for the trailing twelve months, compared with $108.0 billion for the trailing twelve months ended June 30, 2024.\\n- Free cash',\n",
       " \"months, compared with $108.0 billion for the trailing twelve months ended June 30, 2024.\\n- Free cash flow decreased to $18.2 billion for the trailing twelve months, compared with $53.0 billion for the trailing twelve months ended June 30, 2024.\\n\\n'Our conviction that AI will change every customer experience is starting to play out as we've expanded Alexa+ to millions of customers, continue to see our shopping agent used by many millions of customers, launched AI models like DeepFleet that optimize productivity paths for our 1M+ robots, made it much easier for software developers to write code w\",\n",
       " \"e productivity paths for our 1M+ robots, made it much easier for software developers to write code with Kiro (our new agentic IDE), launched Strands to make it easier to build AI agents, and released Bedrock AgentCore to enable agents to be operated securely and scalably,' said Andy Jassy, President and CEO, Amazon. 'Our AI progress across the board continues to improve our customer experiences, speed of innovation, operational efficiency, and business growth, and I'm excited for what lies ahead.'\\n\\nSome other highlights since the company's last earnings announcement include that Amazon:\\n\\n- Hel\"]"
      ]
     },
     "metadata": {},
     "output_type": "display_data"
    },
    {
     "name": "stdout",
     "output_type": "stream",
     "text": [
      "600\n"
     ]
    }
   ],
   "source": [
    "# STUDENT TODO\n",
    "# Chunk `md_text_1` with `get_chunks_by_length_with_overlap`\n",
    "# Inspect the first 5 or so chunks\n",
    "# START_SOLUTION\n",
    "chunks = get_chunks_by_length_with_overlap(md_txt)\n",
    "\n",
    "for chunk in chunks[:5]:\n",
    "    print(\"\\n\\nChunk: \" + \"=\" * 10 + f\"\\n{chunk}\")\n",
    "# END_SOLUTION"
   ]
  },
  {
   "cell_type": "markdown",
   "id": "b694e768",
   "metadata": {},
   "source": [
    "#### Chunk using markers\n",
    "\n",
    "Using document markers (like headers) creates chunks that respect natural document boundaries. \n",
    "\n",
    "This approach preserves semantic structure and is ideal for documents with clear hierarchical organization like reports, manuals, or academic papers."
   ]
  },
  {
   "cell_type": "code",
   "execution_count": 5,
   "id": "35daea7d",
   "metadata": {
    "executionCancelledAt": null,
    "executionTime": 46,
    "lastExecutedAt": 1756203792746,
    "lastExecutedByKernel": "fe7640a5-8f98-4365-917b-a2fa71df5513",
    "lastScheduledRunId": null,
    "lastSuccessfullyExecutedCode": "def get_chunks_using_markers(src_text: str) -> list[str]:\n    \"\"\"\n    Split the source text into chunks using markers.\n    \"\"\"\n    marker = \"\\n##\"\n\n    # Split by marker and reconstruct with markers (except first chunk)\n    parts = src_text.split(marker)\n    chunks = []\n\n    # Add first chunk if it exists and isn't empty\n    if parts[0].strip():\n        chunks.append(parts[0].strip())\n\n    # Add remaining chunks with markers reattached\n    for part in parts[1:]:\n        if part.strip():\n            chunks.append(marker + part.strip())\n\n    return chunks"
   },
   "outputs": [],
   "source": [
    "def get_chunks_using_markers(src_text: str) -> list[str]:\n",
    "    \"\"\"\n",
    "    Split the source text into chunks using markers.\n",
    "    \"\"\"\n",
    "    marker = \"\\n##\"\n",
    "\n",
    "    # Split by marker and reconstruct with markers (except first chunk)\n",
    "    parts = src_text.split(marker)\n",
    "    chunks = []\n",
    "\n",
    "    # Add first chunk if it exists and isn't empty\n",
    "    if parts[0].strip():\n",
    "        chunks.append(parts[0].strip())\n",
    "\n",
    "    # Add remaining chunks with markers reattached\n",
    "    for part in parts[1:]:\n",
    "        if part.strip():\n",
    "            chunks.append(marker + part.strip())\n",
    "\n",
    "    return chunks"
   ]
  },
  {
   "cell_type": "code",
   "execution_count": null,
   "id": "ccd11080",
   "metadata": {
    "executionCancelledAt": null,
    "executionTime": 49,
    "lastExecutedAt": 1756203792796,
    "lastExecutedByKernel": "fe7640a5-8f98-4365-917b-a2fa71df5513",
    "lastScheduledRunId": null,
    "lastSuccessfullyExecutedCode": "md_file_1 = Path(\"data/parsed/howto-free-threading-python-parsed-text.md\")\nmd_text_1 = md_file_1.read_text(encoding=\"utf-8\")\nchunks = get_chunks_using_markers(md_text_1)\n\nfor chunk in chunks[:5]:\n    print(\"\\n\\nChunk: \" + \"=\" * 10 + f\"\\n{chunk}\")",
    "outputsMetadata": {
     "0": {
      "height": 616,
      "type": "stream"
     }
    }
   },
   "outputs": [
    {
     "name": "stdout",
     "output_type": "stream",
     "text": [
      "\n",
      "\n",
      "Chunk: ==========\n",
      "amazon\n",
      "\n",
      "<!-- image -->\n",
      "\n",
      "\n",
      "Chunk: ==========\n",
      "\n",
      "##AMAZON.COM ANNOUNCES SECOND QUARTER RESULTS\n",
      "\n",
      "SEATTLE-(BUSINESS WIRE) July 31, 2025-Amazon.com, Inc. (NASDAQ: AMZN) today announced financial results for its second quarter ended June 30, 2025.\n",
      "\n",
      "- Net sales increased 13% to $167.7 billion in the second quarter, compared with $148.0 billion in second quarter 2024. Excluding the $1.5 billion favorable impact from year-over-year changes in foreign exchange rates throughout the quarter, net sales increased 12% compared with second quarter 2024.\n",
      "- North America segment sales increased 11% year-over-year to $100.1 billion.\n",
      "- International segment sales increased 16% year-over-year to $36.8 billion, or increased 11% excluding changes in foreign exchange rates.\n",
      "- AWS segment sales increased 17.5% year-over-year to $30.9 billion.\n",
      "- Operating income increased to $19.2 billion in the second quarter, compared with $14.7 billion in second quarter 2024.\n",
      "- North America segment operating income was $7.5 billion, compared with $5.1 billion in second quarter 2024.\n",
      "- International segment operating income was $1.5 billion, compared with $0.3 billion in second quarter 2024.\n",
      "- AWS segment operating income was $10.2 billion, compared with $9.3 billion in second quarter 2024.\n",
      "- Net income increased to $18.2 billion in the second quarter, or $1.68 per diluted share, compared with $13.5 billion, or $1.26 per diluted share, in second quarter 2024.\n",
      "- Operating cash flow increased 12% to $121.1 billion for the trailing twelve months, compared with $108.0 billion for the trailing twelve months ended June 30, 2024.\n",
      "- Free cash flow decreased to $18.2 billion for the trailing twelve months, compared with $53.0 billion for the trailing twelve months ended June 30, 2024.\n",
      "\n",
      "'Our conviction that AI will change every customer experience is starting to play out as we've expanded Alexa+ to millions of customers, continue to see our shopping agent used by many millions of customers, launched AI models like DeepFleet that optimize productivity paths for our 1M+ robots, made it much easier for software developers to write code with Kiro (our new agentic IDE), launched Strands to make it easier to build AI agents, and released Bedrock AgentCore to enable agents to be operated securely and scalably,' said Andy Jassy, President and CEO, Amazon. 'Our AI progress across the board continues to improve our customer experiences, speed of innovation, operational efficiency, and business growth, and I'm excited for what lies ahead.'\n",
      "\n",
      "Some other highlights since the company's last earnings announcement include that Amazon:\n",
      "\n",
      "- Held its biggest Prime Day event ever, with customers saving billions of dollars and independent sellers achieving record sales.\n",
      "- Announced expansion of Same-Day and Next-Day Delivery to tens of millions of U.S. customers in 4,000+ smaller cities, towns, and rural communities by end of 2025.\n",
      "- Expanded selection with brands like Away, Aveda, Marc Jacobs Fragrances, Milk Makeup, and Origins.\n",
      "- Announced a Nike storefront on Amazon.com where U.S. customers will be able to shop a range of footwear, apparel, and accessories.\n",
      "- Launched generative AI tools to enhance shopping experience, including 'Hear the highlights' to turn product summaries and reviews into audio clips, and 'Enhance My Listing' to keep listings current and compelling.\n",
      "- Expanded Alexa+ Early Access to millions of customers.\n",
      "- Increased Project Kuiper's satellite internet fleet in low earth orbit with two successful launches.\n",
      "- Announced Prime Video's NBA broadcast team, including Stan Van Gundy, Kevin Harlan, Dwyane Wade, Taylor Rooks, Blake Griffin, Dirk Nowitzki, Steve Nash, and Candace Parker.\n",
      "- Drew approximately 2 million viewers per race and youngest audience among NASCAR broadcasters in more than a decade to Prime Video's NASCAR Cup Series coverage.\n",
      "- Announced Denis Villeneuve as director of next James Bond film.\n",
      "- Announced integration with Roku that gives advertisers access to largest authenticated Connected TV footprint in the U.S., reaching an estimated 80 million households.\n",
      "- Innovated across Amazon Nova, including:\n",
      "- The most comprehensive suite of model customization capabilities.\n",
      "- Launched Nova Act, which makes it much easier for customers to build agents that can take automated actions across websites.\n",
      "- Expanded languages for Nova Sonic voice AI to include Spanish, French, Italian, and German.\n",
      "- Signed new AWS agreements with PepsiCo, Airbnb, Peloton, London Stock Exchange, Nissan Motor Co., GitLab Inc., SAP, Warner Bros. Discovery Sports, TwelveLabs, FICO, Iberia Airlines, SK Telecom, and NatWest Group.\n",
      "- Announced 'AI Zones' in the Kingdom of Saudi Arabia (with HUMAIN) and Korea (with SK Group).\n",
      "- Announced multi-billion dollar investments to expand cloud infrastructure and advance AI innovation in North Carolina, Pennsylvania, and Australia.\n",
      "- Announced new AWS offerings, including:\n",
      "- Kiro, an agentic integrated development environment that transforms software development through innovations like spec-driven development, intelligent agent hooks, and a purpose-built interface for developer workflows.\n",
      "- Bedrock AgentCore for deploying and operating highly capable agents securely at enterprise scale.\n",
      "- General availability of AWS Transform, an AWS agent that cuts mainframe modernization timelines from years to months, completes VMware network conversions up to 80x faster, and reduces operating costs for .NET applications by up to 40%.\n",
      "- Strands Agents, an open source tool that enables developers to more easily build new agents, offering support for popular open source frameworks like A2A and MCP.\n",
      "- AI agents and tools in AWS Marketplace, with listings from leading providers including Anthropic, Accenture, PwC, Salesforce, and IBM, so customers can easily discover and deploy agents.\n",
      "- New foundation models in Amazon Bedrock, including Anthropic's Claude 4 and TwelveLabs' Marengo and Pegasus.\n",
      "- General availability of Amazon EC2 instances powered by NVIDIA Grace Blackwell Superchips, AWS's most powerful GPU-accelerated instance for training and deploying the largest, most sophisticated AI models.\n",
      "- General availability of Oracle Database@AWS for seamless migration of Oracle Exadata and RAC workloads, zero-ETL integration with Amazon Redshift, and ability to build powerful ML and AI applications.\n",
      "- Amazon S3 Vectors, which delivers vector storage for AI agents, AI inference, and semantic search, reducing the cost of uploading, storing, and querying vectors by up to 90%.\n",
      "- Introduced DeepFleet, an AI model that makes Amazon's one million+ robots work smarter by coordinating movements to find optimal paths and reduce bottlenecks, improving robot travel efficiency by 10%.\n",
      "- Enhanced inventory management with AI-powered demand forecasting, improving regional accuracy by 20%, and optimizing inventory placement and delivery speeds for millions of popular items.\n",
      "- Introduced Vulcan, Amazon's first robot to combine sight and touch to navigate cluttered spaces like humans do, making jobs safer and easier.\n",
      "- Announced 700,000+ employees participated in upskilling programs to date.\n",
      "- Launched new robotics and engineering apprenticeships for U.S. employees.\n",
      "- Announced 134,000+ employees in 55 countries participated in Amazon's Global Month of Volunteering, supporting 2,500+ organizations and communities.\n",
      "- Announced expansion of water recycling to 120+ AWS U.S. data centers by 2030, expected to preserve over 530 million gallons of drinking water annually.\n",
      "- Supported communities impacted by flooding in central Texas by donating 68,000+ relief items.\n",
      "\n",
      "\n",
      "Chunk: ==========\n",
      "\n",
      "##Financial Guidance\n",
      "\n",
      "The following forward-looking statements reflect Amazon.com's expectations as of July 31, 2025, and are subject to substantial uncertainty. Our results are inherently unpredictable and may be materially affected by many factors, such as fluctuations in foreign exchange rates, changes in global economic and geopolitical conditions, tariff and trade policies, and customer demand and spending (including the impact of recessionary fears), inflation, interest rates, regional labor market constraints, world events, the rate of growth of the internet, online commerce, cloud services, and new and emerging technologies, and the various factors detailed below.\n",
      "\n",
      "\n",
      "Chunk: ==========\n",
      "\n",
      "##Third Quarter 2025 Guidance\n",
      "\n",
      "- Net sales are expected to be between $174.0 billion and $179.5 billion, or to grow between 10% and 13% compared with third quarter 2024. This guidance anticipates a favorable impact of approximately 130 basis points from foreign exchange rates.\n",
      "- Operating income is expected to be between $15.5 billion and $20.5 billion, compared with $17.4 billion in third quarter 2024.\n",
      "- This guidance assumes, among other things, that no additional business acquisitions, restructurings, or legal settlements are concluded.\n",
      "\n",
      "\n",
      "Chunk: ==========\n",
      "\n",
      "##Conference Call Information\n",
      "\n",
      "A conference call will be webcast live today at 2:00 p.m. PT/5:00 p.m. ET, and will be available for at least three months at amazon.com/ir. This call will contain forward-looking statements and other material information regarding the Company's financial and operating results.\n"
     ]
    }
   ],
   "source": [
    "md_file_1 = Path(\"data/parsed/amazon-2025-08-8k-excerpts-parsed-text.md\")\n",
    "md_text_1 = md_file_1.read_text(encoding=\"utf-8\")\n",
    "\n",
    "# STUDENT TODO\n",
    "# Chunk `md_text_1` with `get_chunks_using_markers`\n",
    "# Inspect the first 5 or so chunks\n",
    "# START_SOLUTION\n",
    "chunks = get_chunks_using_markers(md_text_1)\n",
    "\n",
    "for chunk in chunks[:5]:\n",
    "    print(\"\\n\\nChunk: \" + \"=\" * 10 + f\"\\n{chunk}\")\n",
    "# END_SOLUTION"
   ]
  },
  {
   "cell_type": "markdown",
   "id": "af0841b2",
   "metadata": {},
   "source": [
    "### Choosing the right strategy\n",
    "\n",
    "The best chunking strategy depends on your use case. \n",
    "\n",
    "Marker-based chunking excels with structured documents as you saw. But in some cases, it may not work as well:"
   ]
  },
  {
   "cell_type": "code",
   "execution_count": null,
   "id": "4251fc27",
   "metadata": {
    "executionCancelledAt": null,
    "executionTime": 47,
    "lastExecutedAt": 1756203792843,
    "lastExecutedByKernel": "fe7640a5-8f98-4365-917b-a2fa71df5513",
    "lastScheduledRunId": null,
    "lastSuccessfullyExecutedCode": "md_file_2 = Path(\"data/parsed/hai_ai-index-report-2025_chapter2_excerpts-parsed-text.md\")\nmd_text_2 = md_file_2.read_text(encoding=\"utf-8\")\nchunks = get_chunks_using_markers(md_text_2)\n\nfor chunk in chunks[:5]:\n    print(\"\\n\\nChunk:\" + \"=\" * 10 + f\"\\n{chunk}\")",
    "outputsMetadata": {
     "0": {
      "height": 616,
      "type": "stream"
     }
    }
   },
   "outputs": [
    {
     "name": "stdout",
     "output_type": "stream",
     "text": [
      "\n",
      "\n",
      "Chunk:==========\n",
      "<!-- image -->\n",
      "\n",
      "\n",
      "Chunk:==========\n",
      "\n",
      "##Chapter Highlights\n",
      "\n",
      "- 1.  AI  masters  new  ben\n",
      "\n",
      "\n",
      "Chunk:==========\n",
      "\n",
      "##Chapter Highlights (cont'd)\n",
      "\n",
      "- 6. More challeng\n",
      "\n",
      "\n",
      "Chunk:==========\n",
      "\n",
      "##Chapter 2: Technical Performance\n",
      "\n",
      "\n",
      "Chunk:==========\n",
      "\n",
      "##RAG: Retrieval Augment Generation (RAG)\n",
      "\n",
      "An  in\n"
     ]
    }
   ],
   "source": [
    "md_file_2 = Path(\"data/parsed/hai_ai-index-report-2025_chapter2_excerpts-parsed-text.md\")\n",
    "md_text_2 = md_file_2.read_text(encoding=\"utf-8\")\n",
    "\n",
    "chunks = get_chunks_using_markers(md_text_2)\n",
    "\n",
    "for chunk in chunks[:5]:\n",
    "    print(\"\\n\\nChunk:\" + \"=\" * 10 + f\"\\n{chunk[:50]}\")"
   ]
  },
  {
   "cell_type": "markdown",
   "id": "96380962",
   "metadata": {},
   "source": [
    "Here, the page headers are mistakenly interpreted as headings, which confuses our structure. \n",
    "\n",
    "In general, the best chunking strategy for you will depend on your specific set of circumstances. But a fixed-length chunking strategy with overlap is a good default choice."
   ]
  }
 ],
 "metadata": {
  "editor": "DataLab",
  "kernelspec": {
   "display_name": "Python 3 (ipykernel)",
   "language": "python",
   "name": "python3"
  },
  "language_info": {
   "codemirror_mode": {
    "name": "ipython",
    "version": 3
   },
   "file_extension": ".py",
   "mimetype": "text/x-python",
   "name": "python",
   "nbconvert_exporter": "python",
   "pygments_lexer": "ipython3",
   "version": "3.12.9"
  }
 },
 "nbformat": 4,
 "nbformat_minor": 5
}
