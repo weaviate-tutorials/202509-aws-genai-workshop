{
 "cells": [
  {
   "cell_type": "markdown",
   "metadata": {},
   "source": [
    "# Query data\n",
    "\n",
    "Learn three search methods: **Vector** (semantic similarity), **Keyword** (BM25), and **Hybrid** (combines both)."
   ]
  },
  {
   "cell_type": "markdown",
   "metadata": {},
   "source": [
    "## Connect to Weaviate\n",
    "\n",
    "Connect to a Weaviate instance."
   ]
  },
  {
   "cell_type": "code",
   "execution_count": null,
   "metadata": {
    "execution": {
     "iopub.execute_input": "2025-09-04T16:34:36.286944Z",
     "iopub.status.busy": "2025-09-04T16:34:36.286625Z",
     "iopub.status.idle": "2025-09-04T16:34:36.426265Z",
     "shell.execute_reply": "2025-09-04T16:34:36.425547Z",
     "shell.execute_reply.started": "2025-09-04T16:34:36.286921Z"
    }
   },
   "outputs": [],
   "source": [
    "# Refresh credentials & load the Weaviate IP\n",
    "from helpers import update_creds\n",
    "\n",
    "AWS_ACCESS_KEY, AWS_SECRET_KEY, AWS_SESSION_TOKEN = update_creds()\n",
    "\n",
    "%store -r WEAVIATE_IP"
   ]
  },
  {
   "cell_type": "code",
   "execution_count": null,
   "metadata": {
    "execution": {
     "iopub.execute_input": "2025-09-04T16:34:36.427294Z",
     "iopub.status.busy": "2025-09-04T16:34:36.426937Z",
     "iopub.status.idle": "2025-09-04T16:34:37.331905Z",
     "shell.execute_reply": "2025-09-04T16:34:37.331241Z",
     "shell.execute_reply.started": "2025-09-04T16:34:36.427262Z"
    }
   },
   "outputs": [],
   "source": [
    "import weaviate\n",
    "\n",
    "client = weaviate.connect_to_local(\n",
    "    WEAVIATE_IP,\n",
    "    headers = {\n",
    "        \"X-AWS-Access-Key\": AWS_ACCESS_KEY,\n",
    "        \"X-AWS-Secret-Key\": AWS_SECRET_KEY,\n",
    "        \"X-AWS-Session-Token\": AWS_SESSION_TOKEN,\n",
    "    }\n",
    ")\n",
    "\n",
    "client.is_ready()"
   ]
  },
  {
   "cell_type": "markdown",
   "metadata": {},
   "source": [
    "### Helper function\n",
    "\n",
    "Get our collection of financial articles (5000 articles total)."
   ]
  },
  {
   "cell_type": "code",
   "execution_count": null,
   "metadata": {
    "execution": {
     "iopub.execute_input": "2025-09-04T16:34:37.337183Z",
     "iopub.status.busy": "2025-09-04T16:34:37.336989Z",
     "iopub.status.idle": "2025-09-04T16:34:37.342323Z",
     "shell.execute_reply": "2025-09-04T16:34:37.341659Z",
     "shell.execute_reply.started": "2025-09-04T16:34:37.337165Z"
    }
   },
   "outputs": [],
   "source": [
    "# STUDENT TODO:\n",
    "# Instantiate the \"FinancialArticles\" collection object\n",
    "# ADD YOUR CODE HERE"
   ]
  },
  {
   "cell_type": "code",
   "execution_count": null,
   "metadata": {
    "execution": {
     "iopub.execute_input": "2025-09-04T16:34:37.344593Z",
     "iopub.status.busy": "2025-09-04T16:34:37.343951Z",
     "iopub.status.idle": "2025-09-04T16:34:37.351201Z",
     "shell.execute_reply": "2025-09-04T16:34:37.350416Z",
     "shell.execute_reply.started": "2025-09-04T16:34:37.344567Z"
    }
   },
   "outputs": [],
   "source": [
    "# STUDENT TODO:\n",
    "# Check the collection size (hint: use len())\n",
    "# ADD YOUR CODE HERE"
   ]
  },
  {
   "cell_type": "markdown",
   "metadata": {},
   "source": [
    "### Fetch objects"
   ]
  },
  {
   "cell_type": "code",
   "execution_count": null,
   "metadata": {},
   "outputs": [],
   "source": [
    "# STUDENT TODO:\n",
    "# Use .query.fetch_objects() to fetch 5 objects from the collection\n",
    "# And iterate through the response to print the article titles\n",
    "# Hint: response.objects gives you a list of the objects; each object has a .properties dictionary\n",
    "# ADD YOUR CODE HERE"
   ]
  },
  {
   "cell_type": "markdown",
   "metadata": {},
   "source": [
    "## Filters\n",
    "\n",
    "Add conditions to narrow down search results before querying."
   ]
  },
  {
   "cell_type": "markdown",
   "metadata": {},
   "source": [
    "### Fetch with filters"
   ]
  },
  {
   "cell_type": "code",
   "execution_count": null,
   "metadata": {
    "execution": {
     "iopub.execute_input": "2025-09-04T16:34:37.503392Z",
     "iopub.status.busy": "2025-09-04T16:34:37.503097Z",
     "iopub.status.idle": "2025-09-04T16:34:37.517885Z",
     "shell.execute_reply": "2025-09-04T16:34:37.517237Z",
     "shell.execute_reply.started": "2025-09-04T16:34:37.503362Z"
    }
   },
   "outputs": [],
   "source": [
    "from weaviate.classes.query import Filter\n",
    "\n",
    "# STUDENT TODO:\n",
    "# Perfrom the same query as above, but filter the results to only include articles with \"apple\" in the title\n",
    "# Hint: use Filter.by_property(<property_name>).like(<search_pattern>)\n",
    "# ADD YOUR CODE HERE\n",
    "\n",
    "print(f\"Returned object count: {len(response.objects)}\")\n",
    "\n",
    "for item in response.objects:\n",
    "    print(item.properties[\"article_title\"])"
   ]
  },
  {
   "cell_type": "code",
   "execution_count": null,
   "metadata": {
    "execution": {
     "iopub.execute_input": "2025-09-04T16:34:37.519010Z",
     "iopub.status.busy": "2025-09-04T16:34:37.518786Z",
     "iopub.status.idle": "2025-09-04T16:34:37.533534Z",
     "shell.execute_reply": "2025-09-04T16:34:37.532699Z",
     "shell.execute_reply.started": "2025-09-04T16:34:37.518975Z"
    }
   },
   "outputs": [],
   "source": [
    "from weaviate.classes.query import Filter\n",
    "\n",
    "# STUDENT TODO:\n",
    "# Try another filter - fetch articles with \"aust*\" and \"ev\" in the title\n",
    "# Hint: use & to combine multiple Filter conditions\n",
    "# ADD YOUR CODE HERE\n",
    "\n",
    "print(f\"Returned object count: {len(response.objects)}\")\n",
    "\n",
    "for item in response.objects:\n",
    "    print(item.properties[\"article_title\"])"
   ]
  },
  {
   "cell_type": "markdown",
   "metadata": {},
   "source": [
    "## Keyword Search\n",
    "\n",
    "![images/search_keyword.png](images/search_keyword.png)\n",
    "\n",
    "[Docs - keyword/bm25](https://weaviate.io/developers/weaviate/search/bm25)"
   ]
  },
  {
   "cell_type": "code",
   "execution_count": null,
   "metadata": {
    "execution": {
     "iopub.execute_input": "2025-09-04T16:34:37.614748Z",
     "iopub.status.busy": "2025-09-04T16:34:37.614552Z",
     "iopub.status.idle": "2025-09-04T16:34:37.627374Z",
     "shell.execute_reply": "2025-09-04T16:34:37.626557Z",
     "shell.execute_reply.started": "2025-09-04T16:34:37.614729Z"
    }
   },
   "outputs": [],
   "source": [
    "# STUDENT TODO:\n",
    "# Construct a BM25 query to find articles about \"earnings report\"\n",
    "# Query the \"article_title\" property\n",
    "# Limit the results to 5 articles\n",
    "# ADD YOUR CODE HERE\n",
    "\n",
    "for item in response.objects:\n",
    "    print(item.properties[\"article_title\"])"
   ]
  },
  {
   "cell_type": "code",
   "execution_count": null,
   "metadata": {
    "execution": {
     "iopub.execute_input": "2025-09-04T16:34:37.628414Z",
     "iopub.status.busy": "2025-09-04T16:34:37.628202Z",
     "iopub.status.idle": "2025-09-04T16:34:37.641119Z",
     "shell.execute_reply": "2025-09-04T16:34:37.640469Z",
     "shell.execute_reply.started": "2025-09-04T16:34:37.628396Z"
    }
   },
   "outputs": [],
   "source": [
    "from weaviate.classes.query import MetadataQuery\n",
    "\n",
    "response = articles.query.bm25(\n",
    "    query=\"earnings report\",\n",
    "    query_properties=[\"article_title\"],\n",
    "    limit=5,\n",
    "    return_metadata=MetadataQuery(score=True)\n",
    ")\n",
    "\n",
    "for item in response.objects:\n",
    "    print(item.properties[\"article_title\"])\n",
    "    print(item.metadata.score)"
   ]
  },
  {
   "cell_type": "code",
   "execution_count": null,
   "metadata": {
    "execution": {
     "iopub.execute_input": "2025-09-04T16:34:37.642340Z",
     "iopub.status.busy": "2025-09-04T16:34:37.642112Z",
     "iopub.status.idle": "2025-09-04T16:34:37.726782Z",
     "shell.execute_reply": "2025-09-04T16:34:37.725861Z",
     "shell.execute_reply.started": "2025-09-04T16:34:37.642320Z"
    }
   },
   "outputs": [],
   "source": [
    "from weaviate.classes.query import MetadataQuery\n",
    "\n",
    "# STUDENT TODO:\n",
    "# Perform the same query, but also return the score metadata\n",
    "# Hint: from weaviate.classes.query import MetadataQuery\n",
    "# Use this in the return_metadata parameter: MetadataQuery(score=True)\n",
    "# ADD YOUR CODE HERE\n",
    "\n",
    "for item in response.objects:\n",
    "    print(item.properties[\"article_title\"])\n",
    "    print(item.metadata.score)"
   ]
  },
  {
   "cell_type": "markdown",
   "metadata": {},
   "source": [
    "## Vector search\n",
    "\n",
    "![images/search_vector.png](images/search_vector.png)\n",
    "\n",
    "[Docs - near_text](https://weaviate.io/developers/weaviate/search/similarity#an-input-medium)"
   ]
  },
  {
   "cell_type": "code",
   "execution_count": null,
   "metadata": {},
   "outputs": [],
   "source": [
    "# STUDENT TODO:\n",
    "# Perform a `near_text` query to find the top 5 articles\n",
    "# with `title` target vector closest to \"tech market trends\"\n",
    "# ADD YOUR CODE HERE\n",
    "\n",
    "for item in response.objects:\n",
    "    print(item.properties[\"article_title\"])"
   ]
  },
  {
   "cell_type": "code",
   "execution_count": null,
   "metadata": {},
   "outputs": [],
   "source": [
    "from weaviate.classes.query import MetadataQuery\n",
    "\n",
    "# STUDENT TODO:\n",
    "# Perform the same query, but also return the distance metadata\n",
    "# Use this in the return_metadata parameter: MetadataQuery(distance=True)\n",
    "# ADD YOUR CODE HERE"
   ]
  },
  {
   "cell_type": "markdown",
   "metadata": {},
   "source": [
    "## Search with filters\n",
    "\n",
    "Combine vector search with filters for precise results."
   ]
  },
  {
   "cell_type": "code",
   "execution_count": null,
   "metadata": {},
   "outputs": [],
   "source": [
    "from weaviate.classes.query import Filter\n",
    "\n",
    "# STUDENT TODO:\n",
    "# Perform the near_text query again, but filter the results to only include articles with \"netflix\" in the title\n",
    "# Hint: use Filter.by_property(<property_name>).like(<search_pattern>)\n",
    "# ADD YOUR CODE HERE\n",
    "\n",
    "print(f\"Returned object count: {len(response.objects)}\")\n",
    "\n",
    "for item in response.objects:\n",
    "    print(item.properties[\"article_title\"])"
   ]
  },
  {
   "cell_type": "markdown",
   "metadata": {},
   "source": [
    "## Hybrid search\n",
    "\n",
    "![images/search_hybrid.png](images/search_hybrid.png)\n",
    "\n",
    "[Docs - hybrid](https://weaviate.io/developers/weaviate/search/hybrid)"
   ]
  },
  {
   "cell_type": "code",
   "execution_count": null,
   "metadata": {
    "execution": {
     "iopub.execute_input": "2025-09-04T16:34:37.816411Z",
     "iopub.status.busy": "2025-09-04T16:34:37.815934Z",
     "iopub.status.idle": "2025-09-04T16:34:37.899323Z",
     "shell.execute_reply": "2025-09-04T16:34:37.898462Z",
     "shell.execute_reply.started": "2025-09-04T16:34:37.816390Z"
    }
   },
   "outputs": [],
   "source": [
    "# STUDENT TODO:\n",
    "# Perform a hybrid query to find articles about \"earnings report\"\n",
    "# Query the \"article_title\" property (the property used for BM25)\n",
    "# Target the \"title\" vector (the vector used for near_text)\n",
    "# Limit the results to 5 articles\n",
    "# Use an alpha value of 0.7 to weight the vector search results more heavily\n",
    "# ADD YOUR CODE HERE\n",
    "\n",
    "for item in response.objects:\n",
    "    print(item.properties[\"article_title\"])"
   ]
  },
  {
   "cell_type": "markdown",
   "metadata": {},
   "source": [
    "### Hybrid - Explain score\n",
    "\n",
    "See how hybrid search combines vector and keyword scores."
   ]
  },
  {
   "cell_type": "code",
   "execution_count": null,
   "metadata": {
    "execution": {
     "iopub.execute_input": "2025-09-04T16:34:37.905462Z",
     "iopub.status.busy": "2025-09-04T16:34:37.904935Z",
     "iopub.status.idle": "2025-09-04T16:34:37.983548Z",
     "shell.execute_reply": "2025-09-04T16:34:37.982637Z",
     "shell.execute_reply.started": "2025-09-04T16:34:37.905429Z"
    }
   },
   "outputs": [],
   "source": [
    "from weaviate.classes.query import MetadataQuery\n",
    "\n",
    "# STUDENT TODO:\n",
    "# Perform the same query, but also return the score and explain_score metadata\n",
    "# Use this in the return_metadata parameter: MetadataQuery(score=True, explain_score=True)\n",
    "# ADD YOUR CODE HERE\n",
    "\n",
    "for item in response.objects:\n",
    "    print(item.properties[\"article_title\"])\n",
    "    print(item.metadata.score)\n",
    "    print(item.metadata.explain_score)"
   ]
  },
  {
   "cell_type": "markdown",
   "metadata": {},
   "source": [
    "## Close the client\n",
    "\n",
    "Always close your connection when finished."
   ]
  },
  {
   "cell_type": "code",
   "execution_count": null,
   "metadata": {
    "execution": {
     "iopub.execute_input": "2025-09-04T16:34:37.987491Z",
     "iopub.status.busy": "2025-09-04T16:34:37.987013Z",
     "iopub.status.idle": "2025-09-04T16:34:37.994092Z",
     "shell.execute_reply": "2025-09-04T16:34:37.993042Z",
     "shell.execute_reply.started": "2025-09-04T16:34:37.987459Z"
    }
   },
   "outputs": [],
   "source": [
    "client.close()"
   ]
  }
 ],
 "metadata": {
  "kernelspec": {
   "display_name": "Python 3 (ipykernel)",
   "language": "python",
   "name": "python3"
  },
  "language_info": {
   "codemirror_mode": {
    "name": "ipython",
    "version": 3
   },
   "file_extension": ".py",
   "mimetype": "text/x-python",
   "name": "python",
   "nbconvert_exporter": "python",
   "pygments_lexer": "ipython3",
   "version": "3.12.9"
  }
 },
 "nbformat": 4,
 "nbformat_minor": 4
}
