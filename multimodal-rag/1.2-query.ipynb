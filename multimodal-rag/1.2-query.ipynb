{
 "cells": [
  {
   "cell_type": "markdown",
   "metadata": {},
   "source": [
    "# Query data\n",
    "\n",
    "Learn three search methods: **Vector** (semantic similarity), **Keyword** (BM25), and **Hybrid** (combines both)."
   ]
  },
  {
   "cell_type": "markdown",
   "metadata": {},
   "source": [
    "## Connect to Weaviate\n",
    "\n",
    "Connect to a Weaviate instance."
   ]
  },
  {
   "cell_type": "code",
   "execution_count": null,
   "metadata": {
    "execution": {
     "iopub.execute_input": "2025-09-09T12:56:47.248170Z",
     "iopub.status.busy": "2025-09-09T12:56:47.247984Z",
     "iopub.status.idle": "2025-09-09T12:56:48.053070Z",
     "shell.execute_reply": "2025-09-09T12:56:48.052627Z",
     "shell.execute_reply.started": "2025-09-09T12:56:47.248152Z"
    }
   },
   "outputs": [],
   "source": [
    "# Refresh credentials & load the Weaviate IP\n",
    "from helpers import update_creds\n",
    "\n",
    "AWS_ACCESS_KEY, AWS_SECRET_KEY, AWS_SESSION_TOKEN = update_creds()\n",
    "\n",
    "%store -r WEAVIATE_IP"
   ]
  },
  {
   "cell_type": "code",
   "execution_count": null,
   "metadata": {
    "execution": {
     "iopub.execute_input": "2025-09-09T12:56:48.053941Z",
     "iopub.status.busy": "2025-09-09T12:56:48.053652Z",
     "iopub.status.idle": "2025-09-09T12:56:48.259307Z",
     "shell.execute_reply": "2025-09-09T12:56:48.258766Z",
     "shell.execute_reply.started": "2025-09-09T12:56:48.053920Z"
    }
   },
   "outputs": [],
   "source": [
    "import weaviate\n",
    "\n",
    "client = weaviate.connect_to_local(\n",
    "    WEAVIATE_IP,\n",
    "    headers = {\n",
    "        \"X-AWS-Access-Key\": AWS_ACCESS_KEY,\n",
    "        \"X-AWS-Secret-Key\": AWS_SECRET_KEY,\n",
    "        \"X-AWS-Session-Token\": AWS_SESSION_TOKEN,\n",
    "    }\n",
    ")\n",
    "\n",
    "client.is_ready()"
   ]
  },
  {
   "cell_type": "markdown",
   "metadata": {},
   "source": [
    "### Helper function\n",
    "\n",
    "Get our collection of financial articles (5000 articles total)."
   ]
  },
  {
   "cell_type": "code",
   "execution_count": null,
   "metadata": {
    "execution": {
     "iopub.execute_input": "2025-09-09T12:56:48.262840Z",
     "iopub.status.busy": "2025-09-09T12:56:48.262654Z",
     "iopub.status.idle": "2025-09-09T12:56:48.266122Z",
     "shell.execute_reply": "2025-09-09T12:56:48.265509Z",
     "shell.execute_reply.started": "2025-09-09T12:56:48.262823Z"
    }
   },
   "outputs": [],
   "source": [
    "# STUDENT TODO:\n",
    "# Instantiate the \"FinancialArticles\" collection object\n",
    "# ADD YOUR CODE HERE"
   ]
  },
  {
   "cell_type": "markdown",
   "metadata": {},
   "source": [
    "## Filters\n",
    "\n",
    "Add conditions to narrow down search results before querying."
   ]
  },
  {
   "cell_type": "markdown",
   "metadata": {},
   "source": [
    "### Fetch with filters"
   ]
  },
  {
   "cell_type": "code",
   "execution_count": null,
   "metadata": {
    "execution": {
     "iopub.execute_input": "2025-09-09T12:56:48.270745Z",
     "iopub.status.busy": "2025-09-09T12:56:48.270556Z",
     "iopub.status.idle": "2025-09-09T12:56:48.278933Z",
     "shell.execute_reply": "2025-09-09T12:56:48.278488Z",
     "shell.execute_reply.started": "2025-09-09T12:56:48.270728Z"
    }
   },
   "outputs": [],
   "source": [
    "from weaviate.classes.query import Filter\n",
    "\n",
    "# STUDENT TODO:\n",
    "# Perfrom articles.query.fetch_objects, but add a filter the results\n",
    "# to only include articles with \"apple\" in the title\n",
    "# Hint: filters=Filter.by_property(<property_name>).like(<search_pattern>)\n",
    "# ADD YOUR CODE HERE\n",
    "\n",
    "print(f\"Returned object count: {len(response.objects)}\")\n",
    "\n",
    "for item in response.objects:\n",
    "    print(item.properties[\"article_title\"])"
   ]
  },
  {
   "cell_type": "code",
   "execution_count": null,
   "metadata": {
    "execution": {
     "iopub.execute_input": "2025-09-09T12:56:48.279646Z",
     "iopub.status.busy": "2025-09-09T12:56:48.279461Z",
     "iopub.status.idle": "2025-09-09T12:56:48.284939Z",
     "shell.execute_reply": "2025-09-09T12:56:48.284526Z",
     "shell.execute_reply.started": "2025-09-09T12:56:48.279628Z"
    }
   },
   "outputs": [],
   "source": [
    "from weaviate.classes.query import Filter\n",
    "\n",
    "response = articles.query.fetch_objects(\n",
    "    limit=5,\n",
    "    filters=(\n",
    "        Filter.by_property(\"article_title\").like(\"aust*\") &\n",
    "        Filter.by_property(\"article_title\").like(\"ev\")\n",
    "    )\n",
    ")\n",
    "\n",
    "print(f\"Returned object count: {len(response.objects)}\")\n",
    "\n",
    "for item in response.objects:\n",
    "    print(item.properties[\"article_title\"])"
   ]
  },
  {
   "cell_type": "markdown",
   "metadata": {},
   "source": [
    "## Keyword Search\n",
    "\n",
    "![images/search_keyword.png](images/search_keyword.png)\n",
    "\n",
    "[Docs - keyword/bm25](https://weaviate.io/developers/weaviate/search/bm25)"
   ]
  },
  {
   "cell_type": "code",
   "execution_count": null,
   "metadata": {
    "execution": {
     "iopub.execute_input": "2025-09-09T12:56:48.287423Z",
     "iopub.status.busy": "2025-09-09T12:56:48.287247Z",
     "iopub.status.idle": "2025-09-09T12:56:48.381738Z",
     "shell.execute_reply": "2025-09-09T12:56:48.381215Z",
     "shell.execute_reply.started": "2025-09-09T12:56:48.287407Z"
    }
   },
   "outputs": [],
   "source": [
    "# STUDENT TODO:\n",
    "# Keyword search for articles about \"earnings report\"\n",
    "# Limit the results to 5 articles\n",
    "# ADD YOUR CODE HERE\n",
    "\n",
    "for item in response.objects:\n",
    "    print(item.properties[\"article_title\"])"
   ]
  },
  {
   "cell_type": "markdown",
   "metadata": {},
   "source": [
    "Retrieve scores also"
   ]
  },
  {
   "cell_type": "code",
   "execution_count": null,
   "metadata": {
    "execution": {
     "iopub.execute_input": "2025-09-09T12:56:48.384401Z",
     "iopub.status.busy": "2025-09-09T12:56:48.384228Z",
     "iopub.status.idle": "2025-09-09T12:56:48.391118Z",
     "shell.execute_reply": "2025-09-09T12:56:48.390527Z",
     "shell.execute_reply.started": "2025-09-09T12:56:48.384384Z"
    }
   },
   "outputs": [],
   "source": [
    "from weaviate.classes.query import MetadataQuery\n",
    "\n",
    "response = articles.query.bm25(\n",
    "    query=\"earnings report\",\n",
    "    query_properties=[\"article_title\"],\n",
    "    limit=5,\n",
    "    return_metadata=MetadataQuery(score=True)\n",
    ")\n",
    "\n",
    "for item in response.objects:\n",
    "    print(item.properties[\"article_title\"])\n",
    "    # STUDENT TODO - inspect keyword search \"score\"\n",
    "    # ADD YOUR CODE HERE"
   ]
  },
  {
   "cell_type": "markdown",
   "metadata": {},
   "source": [
    "## Vector search\n",
    "\n",
    "![images/search_vector.png](images/search_vector.png)\n",
    "\n",
    "[Docs - near_text](https://weaviate.io/developers/weaviate/search/similarity#an-input-medium)"
   ]
  },
  {
   "cell_type": "code",
   "execution_count": null,
   "metadata": {
    "execution": {
     "iopub.execute_input": "2025-09-09T12:56:48.394647Z",
     "iopub.status.busy": "2025-09-09T12:56:48.394460Z",
     "iopub.status.idle": "2025-09-09T12:56:48.458120Z",
     "shell.execute_reply": "2025-09-09T12:56:48.457494Z",
     "shell.execute_reply.started": "2025-09-09T12:56:48.394631Z"
    }
   },
   "outputs": [],
   "source": [
    "# STUDENT TODO:\n",
    "# Perform a `near_text` query to find the top 5 articles\n",
    "# with `title` target vector closest to \"tech market trends\"\n",
    "# ADD YOUR CODE HERE\n",
    "\n",
    "for item in response.objects:\n",
    "    print(item.properties[\"article_title\"])"
   ]
  },
  {
   "cell_type": "code",
   "execution_count": null,
   "metadata": {
    "execution": {
     "iopub.execute_input": "2025-09-09T12:56:48.459028Z",
     "iopub.status.busy": "2025-09-09T12:56:48.458833Z",
     "iopub.status.idle": "2025-09-09T12:56:48.518955Z",
     "shell.execute_reply": "2025-09-09T12:56:48.518220Z",
     "shell.execute_reply.started": "2025-09-09T12:56:48.459011Z"
    }
   },
   "outputs": [],
   "source": [
    "from weaviate.classes.query import MetadataQuery\n",
    "\n",
    "response = articles.query.near_text(\n",
    "    query=\"tech market trends\",\n",
    "    limit=5,\n",
    "    target_vector=\"title\",\n",
    "    return_metadata=MetadataQuery(distance=True)\n",
    ")\n",
    "\n",
    "for item in response.objects:\n",
    "    print(item.properties[\"article_title\"])\n",
    "    print(item.metadata.distance)"
   ]
  },
  {
   "cell_type": "markdown",
   "metadata": {},
   "source": [
    "## Search with filters\n",
    "\n",
    "Combine vector search with filters for precise results."
   ]
  },
  {
   "cell_type": "code",
   "execution_count": null,
   "metadata": {
    "execution": {
     "iopub.execute_input": "2025-09-09T12:56:48.521959Z",
     "iopub.status.busy": "2025-09-09T12:56:48.521771Z",
     "iopub.status.idle": "2025-09-09T12:56:48.597809Z",
     "shell.execute_reply": "2025-09-09T12:56:48.597089Z",
     "shell.execute_reply.started": "2025-09-09T12:56:48.521940Z"
    }
   },
   "outputs": [],
   "source": [
    "from weaviate.classes.query import Filter\n",
    "\n",
    "response = articles.query.near_text(\n",
    "    query=\"strategy\",\n",
    "    target_vector=\"title\",\n",
    "    limit=5,\n",
    "    filters=Filter.by_property(\"article_title\").like(\"netflix\")\n",
    ")\n",
    "\n",
    "print(f\"Returned object count: {len(response.objects)}\")\n",
    "\n",
    "for item in response.objects:\n",
    "    print(item.properties[\"article_title\"])"
   ]
  },
  {
   "cell_type": "markdown",
   "metadata": {},
   "source": [
    "## Hybrid search\n",
    "\n",
    "![images/search_hybrid.png](images/search_hybrid.png)\n",
    "\n",
    "[Docs - hybrid](https://weaviate.io/developers/weaviate/search/hybrid)"
   ]
  },
  {
   "cell_type": "code",
   "execution_count": null,
   "metadata": {
    "execution": {
     "iopub.execute_input": "2025-09-09T12:56:48.600538Z",
     "iopub.status.busy": "2025-09-09T12:56:48.600340Z",
     "iopub.status.idle": "2025-09-09T12:56:48.674860Z",
     "shell.execute_reply": "2025-09-09T12:56:48.674336Z",
     "shell.execute_reply.started": "2025-09-09T12:56:48.600520Z"
    }
   },
   "outputs": [],
   "source": [
    "response = articles.query.hybrid(\n",
    "    query=\"earnings report\",\n",
    "    query_properties=[\"article_title\"],\n",
    "    limit=5,\n",
    "    target_vector=\"title\",\n",
    "    alpha=0.7\n",
    ")\n",
    "\n",
    "for item in response.objects:\n",
    "    print(item.properties[\"article_title\"])"
   ]
  },
  {
   "cell_type": "markdown",
   "metadata": {},
   "source": [
    "### Hybrid - Explain score\n",
    "\n",
    "See how hybrid search combines vector and keyword scores."
   ]
  },
  {
   "cell_type": "code",
   "execution_count": null,
   "metadata": {
    "execution": {
     "iopub.execute_input": "2025-09-09T12:56:48.677465Z",
     "iopub.status.busy": "2025-09-09T12:56:48.677278Z",
     "iopub.status.idle": "2025-09-09T12:56:48.750490Z",
     "shell.execute_reply": "2025-09-09T12:56:48.749879Z",
     "shell.execute_reply.started": "2025-09-09T12:56:48.677446Z"
    }
   },
   "outputs": [],
   "source": [
    "from weaviate.classes.query import MetadataQuery\n",
    "\n",
    "response = articles.query.hybrid(\n",
    "    query=\"earnings report\",\n",
    "    query_properties=[\"article_title\"],\n",
    "    limit=5,\n",
    "    target_vector=\"title\",\n",
    "    alpha=0.7,\n",
    "    return_metadata=MetadataQuery(score=True, explain_score=True)\n",
    ")\n",
    "\n",
    "for item in response.objects:\n",
    "    print(item.properties[\"article_title\"])\n",
    "    print(item.metadata.score)\n",
    "    print(item.metadata.explain_score)"
   ]
  },
  {
   "cell_type": "markdown",
   "metadata": {},
   "source": [
    "## Close the client\n",
    "\n",
    "Always close your connection when finished."
   ]
  },
  {
   "cell_type": "code",
   "execution_count": null,
   "metadata": {
    "execution": {
     "iopub.execute_input": "2025-09-09T12:56:48.752933Z",
     "iopub.status.busy": "2025-09-09T12:56:48.752747Z",
     "iopub.status.idle": "2025-09-09T12:56:48.757756Z",
     "shell.execute_reply": "2025-09-09T12:56:48.757270Z",
     "shell.execute_reply.started": "2025-09-09T12:56:48.752916Z"
    }
   },
   "outputs": [],
   "source": [
    "client.close()"
   ]
  }
 ],
 "metadata": {
  "kernelspec": {
   "display_name": "Python 3 (ipykernel)",
   "language": "python",
   "name": "python3"
  },
  "language_info": {
   "codemirror_mode": {
    "name": "ipython",
    "version": 3
   },
   "file_extension": ".py",
   "mimetype": "text/x-python",
   "name": "python",
   "nbconvert_exporter": "python",
   "pygments_lexer": "ipython3",
   "version": "3.12.9"
  }
 },
 "nbformat": 4,
 "nbformat_minor": 4
}
