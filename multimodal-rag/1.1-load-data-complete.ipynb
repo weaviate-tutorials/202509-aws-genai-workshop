{
 "cells": [
  {
   "cell_type": "markdown",
   "metadata": {},
   "source": [
    "Refresh credentials and load the Weaviate IP. \n",
    "\n",
    "If the credentials expire, run this cell again to refresh them."
   ]
  },
  {
   "cell_type": "code",
   "execution_count": 1,
   "metadata": {
    "execution": {
     "iopub.execute_input": "2025-09-04T16:32:32.255557Z",
     "iopub.status.busy": "2025-09-04T16:32:32.255337Z",
     "iopub.status.idle": "2025-09-04T16:32:32.395873Z",
     "shell.execute_reply": "2025-09-04T16:32:32.395055Z",
     "shell.execute_reply.started": "2025-09-04T16:32:32.255536Z"
    }
   },
   "outputs": [],
   "source": [
    "from helpers import update_creds\n",
    "\n",
    "AWS_ACCESS_KEY, AWS_SECRET_KEY, AWS_SESSION_TOKEN = update_creds()\n",
    "\n",
    "%store -r WEAVIATE_IP"
   ]
  },
  {
   "cell_type": "markdown",
   "metadata": {},
   "source": [
    "# Working with Weaviate"
   ]
  },
  {
   "cell_type": "markdown",
   "metadata": {},
   "source": [
    "![Weaviate architecture](images/weaviate-explainer-architecture.png)"
   ]
  },
  {
   "cell_type": "markdown",
   "metadata": {},
   "source": [
    "Connect to a Weaviate instance"
   ]
  },
  {
   "cell_type": "code",
   "execution_count": null,
   "metadata": {
    "execution": {
     "iopub.execute_input": "2025-09-04T16:32:32.399899Z",
     "iopub.status.busy": "2025-09-04T16:32:32.399617Z",
     "iopub.status.idle": "2025-09-04T16:32:33.313428Z",
     "shell.execute_reply": "2025-09-04T16:32:33.312740Z",
     "shell.execute_reply.started": "2025-09-04T16:32:32.399869Z"
    }
   },
   "outputs": [],
   "source": [
    "import weaviate\n",
    "import os\n",
    "from weaviate.classes.init import Auth\n",
    "\n",
    "client = weaviate.connect_to_local(\n",
    "    # STUDENT TODO:\n",
    "    # Add WEAVIATE_IP as the first positional argument\n",
    "    # Add the AWS credentials as the headers argument like below:\n",
    "    # headers ={\n",
    "    #     \"X-AWS-Access-Key\": AWS_ACCESS_KEY,\n",
    "    #     \"X-AWS-Secret-Key\": AWS_SECRET_KEY,\n",
    "    #     \"X-AWS-Session-Token\": AWS_SESSION_TOKEN,\n",
    "    # }\n",
    "    # BEGIN_SOLUTION\n",
    "    WEAVIATE_IP,\n",
    "    headers = {\n",
    "        \"X-AWS-Access-Key\": AWS_ACCESS_KEY,\n",
    "        \"X-AWS-Secret-Key\": AWS_SECRET_KEY,\n",
    "        \"X-AWS-Session-Token\": AWS_SESSION_TOKEN,\n",
    "    }\n",
    "    # END_SOLUTION\n",
    ")\n",
    "\n",
    "client.is_ready()"
   ]
  },
  {
   "cell_type": "markdown",
   "metadata": {},
   "source": [
    "## Create collection with vectorizer\n",
    "\n",
    "Create a collection for financial articles with separate embeddings for title and content.\n",
    "\n",
    "[Docs - Collection configuration](https://weaviate.io/developers/weaviate/manage-data/collections)"
   ]
  },
  {
   "cell_type": "markdown",
   "metadata": {},
   "source": [
    "![Weaviate collections](images/weaviate-explainer-collections.png)"
   ]
  },
  {
   "cell_type": "code",
   "execution_count": null,
   "metadata": {
    "execution": {
     "iopub.execute_input": "2025-09-04T16:32:33.317441Z",
     "iopub.status.busy": "2025-09-04T16:32:33.316931Z",
     "iopub.status.idle": "2025-09-04T16:32:33.513819Z",
     "shell.execute_reply": "2025-09-04T16:32:33.513104Z",
     "shell.execute_reply.started": "2025-09-04T16:32:33.317411Z"
    }
   },
   "outputs": [],
   "source": [
    "from weaviate.classes.config import Configure, Property, DataType\n",
    "\n",
    "# Delete collection if it exists\n",
    "if client.collections.exists(\"FinancialArticles\"):\n",
    "    client.collections.delete(\"FinancialArticles\")\n",
    "\n",
    "# Create collection with named vectors for title and content\n",
    "client.collections.create(\n",
    "    name=\"FinancialArticles\",\n",
    "    # Define property schema\n",
    "    properties=[\n",
    "        Property(name=\"article_title\", data_type=DataType.TEXT),\n",
    "        # STUDENT TODO:\n",
    "        # Add two additional properties - \"article\" and \"url\"\n",
    "        # Both should be of data_type DataType.TEXT\n",
    "        # BEGIN_SOLUTION\n",
    "        Property(name=\"article\", data_type=DataType.TEXT),\n",
    "        Property(name=\"url\", data_type=DataType.TEXT),\n",
    "        # END_SOLUTION\n",
    "    ],\n",
    "    # Configure separate embeddings for title and article content\n",
    "    vector_config=[\n",
    "        Configure.Vectors.text2vec_aws(\n",
    "            name=\"title\",\n",
    "            source_properties=[\"article_title\"],\n",
    "            region=\"us-west-2\",\n",
    "            service=\"bedrock\",\n",
    "            model=\"amazon.titan-embed-text-v2:0\"\n",
    "        ),\n",
    "        # STUDENT TODO:\n",
    "        # Add a second vector configuration\n",
    "        # Call it \"content\"\n",
    "        # Use the source property \"article\"\n",
    "        # using the same region, service, and model as above\n",
    "        # BEGIN_SOLUTION\n",
    "        Configure.Vectors.text2vec_aws(\n",
    "            name=\"content\",\n",
    "            source_properties=[\"article\"],\n",
    "            region=\"us-west-2\",\n",
    "            service=\"bedrock\",\n",
    "            model=\"amazon.titan-embed-text-v2:0\"\n",
    "        )\n",
    "        # END_SOLUTION\n",
    "    ],\n",
    ")"
   ]
  },
  {
   "cell_type": "markdown",
   "metadata": {},
   "source": [
    "## Load financial articles data\n",
    "\n",
    "Import the financial news dataset using batch processing for efficient loading."
   ]
  },
  {
   "cell_type": "code",
   "execution_count": null,
   "metadata": {
    "execution": {
     "iopub.execute_input": "2025-09-04T16:32:33.517861Z",
     "iopub.status.busy": "2025-09-04T16:32:33.517323Z",
     "iopub.status.idle": "2025-09-04T16:32:34.463796Z",
     "shell.execute_reply": "2025-09-04T16:32:34.462630Z",
     "shell.execute_reply.started": "2025-09-04T16:32:33.517828Z"
    }
   },
   "outputs": [],
   "source": [
    "import pandas as pd\n",
    "from tqdm import tqdm\n",
    "from weaviate.util import generate_uuid5\n",
    "\n",
    "# Load the financial articles dataset\n",
    "df = pd.read_parquet(\"data/fin_news_articles_5000.parquet\")\n",
    "\n",
    "print(f\"Loaded {len(df)} articles\")\n",
    "print(\"Sample data:\")\n",
    "df.head()"
   ]
  },
  {
   "cell_type": "code",
   "execution_count": null,
   "metadata": {
    "execution": {
     "iopub.execute_input": "2025-09-04T16:32:34.466101Z",
     "iopub.status.busy": "2025-09-04T16:32:34.465643Z",
     "iopub.status.idle": "2025-09-04T16:33:59.396133Z",
     "shell.execute_reply": "2025-09-04T16:33:59.395202Z",
     "shell.execute_reply.started": "2025-09-04T16:32:34.466077Z"
    }
   },
   "outputs": [],
   "source": [
    "# Get collection reference\n",
    "# STUDENT TODO:\n",
    "# Use client.collections.use to get a reference to the \"FinancialArticles\" collection\n",
    "# Assign it to the variable 'articles'\n",
    "# BEGIN_SOLUTION\n",
    "articles = client.collections.use(\"FinancialArticles\")\n",
    "# END_SOLUTION"
   ]
  },
  {
   "cell_type": "code",
   "execution_count": null,
   "metadata": {},
   "outputs": [],
   "source": [
    "# Import data with batch processing\n",
    "with articles.batch.fixed_size(batch_size=100) as batch:\n",
    "    for _, row in tqdm(df.iterrows(), total=len(df)):\n",
    "        # Create object from dataframe row\n",
    "        obj = {\n",
    "            \"article_title\": row[\"article_title\"],\n",
    "            \"article\": row[\"article\"],\n",
    "            \"url\": row[\"url\"] if \"url\" in row else \"\"\n",
    "        }\n",
    "\n",
    "        # Generate UUID to prevent duplicates\n",
    "        uuid = generate_uuid5(row[\"article_title\"] + str(row.get(\"url\", \"\")))\n",
    "\n",
    "        # STUDENT TODO:\n",
    "        # Add the object to the batch using batch.add_object\n",
    "        # Use the obj dictionary and the generated uuid\n",
    "        # BEGIN_SOLUTION\n",
    "        batch.add_object(\n",
    "            properties=obj,\n",
    "            uuid=uuid\n",
    "        )\n",
    "        # END_SOLUTION\n",
    "\n",
    "        # Check for errors during import\n",
    "        # STUDENT TODO:\n",
    "        # If batch.number_errors exceeds 10\n",
    "        # print \"Too many errors during import\" and `break` the loop\n",
    "        # BEGIN_SOLUTION\n",
    "        if batch.number_errors > 10:\n",
    "            print(\"Too many errors during import\")\n",
    "            break\n",
    "        # END_SOLUTION\n",
    "\n",
    "print(f\"\\nImported {len(articles)} articles\")"
   ]
  },
  {
   "cell_type": "markdown",
   "metadata": {},
   "source": [
    "## Check for import errors"
   ]
  },
  {
   "cell_type": "code",
   "execution_count": null,
   "metadata": {
    "execution": {
     "iopub.execute_input": "2025-09-04T16:33:59.400608Z",
     "iopub.status.busy": "2025-09-04T16:33:59.398922Z",
     "iopub.status.idle": "2025-09-04T16:33:59.406148Z",
     "shell.execute_reply": "2025-09-04T16:33:59.405016Z",
     "shell.execute_reply.started": "2025-09-04T16:33:59.399111Z"
    }
   },
   "outputs": [],
   "source": [
    "if len(articles.batch.failed_objects) > 0:\n",
    "    print(f\"Import completed with {len(articles.batch.failed_objects)} errors\")\n",
    "    for err in articles.batch.failed_objects[:5]:  # Show first 5 errors\n",
    "        print(err)\n",
    "else:\n",
    "    print(\"Import completed successfully with no errors\")"
   ]
  },
  {
   "cell_type": "markdown",
   "metadata": {},
   "source": [
    "## Verify the data\n",
    "\n",
    "Check that articles were imported correctly with embeddings."
   ]
  },
  {
   "cell_type": "code",
   "execution_count": null,
   "metadata": {
    "execution": {
     "iopub.execute_input": "2025-09-04T16:33:59.410936Z",
     "iopub.status.busy": "2025-09-04T16:33:59.410712Z",
     "iopub.status.idle": "2025-09-04T16:33:59.425193Z",
     "shell.execute_reply": "2025-09-04T16:33:59.423793Z",
     "shell.execute_reply.started": "2025-09-04T16:33:59.410915Z"
    }
   },
   "outputs": [],
   "source": [
    "# Check collection size\n",
    "# STUDENT TODO:\n",
    "# Use the built-in len() function on the 'articles' collection to get the total number of articles\n",
    "# BEGIN_SOLUTION\n",
    "print(f\"Total articles in collection: {len(articles)}\")\n",
    "# END_SOLUTION"
   ]
  },
  {
   "cell_type": "code",
   "execution_count": null,
   "metadata": {},
   "outputs": [],
   "source": [
    "# View sample data\n",
    "# STUDENT TODO:\n",
    "# Fetch 3 sample objects from the 'articles' collection and assign to 'response'\n",
    "# using articles.query.fetch_objects, with a limit of 3\n",
    "# START_SOLUTION\n",
    "response = articles.query.fetch_objects(limit=3)\n",
    "# END_SOLUTION\n",
    "\n",
    "# STUDENT TODO:\n",
    "# For each item in response.objects,\n",
    "# print the article title and a preview of the article content (first 100 characters)\n",
    "# Hint: `.properties` attribute contains the object properties\n",
    "# START_SOLUTION\n",
    "for item in response.objects:\n",
    "    print(f\"Title: {item.properties['article_title']}\")\n",
    "    print(f\"Content preview: {item.properties['article'][:100]}...\\n\")\n",
    "# END_SOLUTION"
   ]
  },
  {
   "cell_type": "code",
   "execution_count": null,
   "metadata": {
    "execution": {
     "iopub.execute_input": "2025-09-04T16:33:59.426296Z",
     "iopub.status.busy": "2025-09-04T16:33:59.426068Z",
     "iopub.status.idle": "2025-09-04T16:33:59.434453Z",
     "shell.execute_reply": "2025-09-04T16:33:59.433823Z",
     "shell.execute_reply.started": "2025-09-04T16:33:59.426277Z"
    }
   },
   "outputs": [],
   "source": [
    "# Verify embeddings were created\n",
    "response = articles.query.fetch_objects(\n",
    "    limit=2,\n",
    "    # STUDENT TODO:\n",
    "    # Add the include_vector argument to fetch the vectors for both \"title\" and \"content\"\n",
    "    # START_SOLUTION\n",
    "    include_vector=[\"title\", \"content\"]\n",
    "    # END_SOLUTION\n",
    ")\n",
    "\n",
    "for item in response.objects:\n",
    "    print(f\"Article: {item.properties['article_title']}\")\n",
    "    # STUDENT TODO:\n",
    "    # Print the dimensions of the title and content vectors\n",
    "    # And the first 5 dimensions of each vector\n",
    "    # START_SOLUTION\n",
    "    print(f\"Title vector dimension: {len(item.vector['title'])}\")\n",
    "    print(f\"Title vector: {item.vector['title'][:5]}\")\n",
    "    print(f\"Content vector dimension: {len(item.vector['content'])}\\n\")\n",
    "    print(f\"Content vector: {item.vector['content'][:5]}\")\n",
    "    # END_SOLUTION"
   ]
  },
  {
   "cell_type": "markdown",
   "metadata": {},
   "source": [
    "## Test basic search\n",
    "\n",
    "Quick test to verify the collection works with semantic search."
   ]
  },
  {
   "cell_type": "code",
   "execution_count": null,
   "metadata": {
    "execution": {
     "iopub.execute_input": "2025-09-04T16:33:59.436959Z",
     "iopub.status.busy": "2025-09-04T16:33:59.436716Z",
     "iopub.status.idle": "2025-09-04T16:33:59.515424Z",
     "shell.execute_reply": "2025-09-04T16:33:59.514738Z",
     "shell.execute_reply.started": "2025-09-04T16:33:59.436941Z"
    }
   },
   "outputs": [],
   "source": [
    "# Try semantic search on titles\n",
    "# STUDENT TODO:\n",
    "# Use `.query.near_text` to search for articles related to \"technology earnings\"\n",
    "# Supply the target_vector argument as \"title\"\n",
    "# Limit results to 3\n",
    "# START_SOLUTION\n",
    "response = articles.query.near_text(\n",
    "    query=\"technology earnings\",\n",
    "    target_vector=\"title\",\n",
    "    limit=3\n",
    ")\n",
    "# END_SOLUTION\n",
    "\n",
    "print(\"Search results for 'technology earnings':\")\n",
    "for item in response.objects:\n",
    "    print(f\"- {item.properties['article_title']}\")"
   ]
  },
  {
   "cell_type": "markdown",
   "metadata": {},
   "source": [
    "## Close the client\n",
    "\n",
    "Always close your connection when finished."
   ]
  },
  {
   "cell_type": "code",
   "execution_count": null,
   "metadata": {
    "execution": {
     "iopub.execute_input": "2025-09-04T16:33:59.519343Z",
     "iopub.status.busy": "2025-09-04T16:33:59.519016Z",
     "iopub.status.idle": "2025-09-04T16:33:59.527573Z",
     "shell.execute_reply": "2025-09-04T16:33:59.526937Z",
     "shell.execute_reply.started": "2025-09-04T16:33:59.519321Z"
    }
   },
   "outputs": [],
   "source": [
    "# STUDENT TODO:\n",
    "# Close the Weaviate client connection using client.close()\n",
    "# START_SOLUTION\n",
    "client.close()\n",
    "# END_SOLUTION"
   ]
  },
  {
   "cell_type": "code",
   "execution_count": null,
   "metadata": {},
   "outputs": [],
   "source": []
  }
 ],
 "metadata": {
  "kernelspec": {
   "display_name": "202509-aws-genai-workshop",
   "language": "python",
   "name": "python3"
  },
  "language_info": {
   "codemirror_mode": {
    "name": "ipython",
    "version": 3
   },
   "file_extension": ".py",
   "mimetype": "text/x-python",
   "name": "python",
   "nbconvert_exporter": "python",
   "pygments_lexer": "ipython3",
   "version": "3.10.16"
  }
 },
 "nbformat": 4,
 "nbformat_minor": 4
}
