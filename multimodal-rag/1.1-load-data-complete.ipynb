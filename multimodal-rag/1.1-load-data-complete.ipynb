{
 "cells": [
  {
   "cell_type": "markdown",
   "metadata": {},
   "source": [
    "Refresh credentials and load the Weaviate IP. \n",
    "\n",
    "If the credentials expire, run this cell again to refresh them."
   ]
  },
  {
   "cell_type": "code",
   "execution_count": 1,
   "metadata": {
    "execution": {
     "iopub.execute_input": "2025-09-09T12:55:39.520455Z",
     "iopub.status.busy": "2025-09-09T12:55:39.520182Z",
     "iopub.status.idle": "2025-09-09T12:55:40.316347Z",
     "shell.execute_reply": "2025-09-09T12:55:40.315717Z",
     "shell.execute_reply.started": "2025-09-09T12:55:39.520426Z"
    }
   },
   "outputs": [],
   "source": [
    "from helpers import update_creds\n",
    "\n",
    "AWS_ACCESS_KEY, AWS_SECRET_KEY, AWS_SESSION_TOKEN = update_creds()\n",
    "\n",
    "%store -r WEAVIATE_IP"
   ]
  },
  {
   "cell_type": "markdown",
   "metadata": {},
   "source": [
    "# Working with Weaviate"
   ]
  },
  {
   "cell_type": "markdown",
   "metadata": {},
   "source": [
    "![Weaviate architecture](images/weaviate-explainer-architecture.png)"
   ]
  },
  {
   "cell_type": "markdown",
   "metadata": {},
   "source": [
    "Connect to a Weaviate instance"
   ]
  },
  {
   "cell_type": "code",
   "execution_count": null,
   "metadata": {
    "execution": {
     "iopub.execute_input": "2025-09-09T12:55:40.323897Z",
     "iopub.status.busy": "2025-09-09T12:55:40.323597Z",
     "iopub.status.idle": "2025-09-09T12:55:40.436448Z",
     "shell.execute_reply": "2025-09-09T12:55:40.435914Z",
     "shell.execute_reply.started": "2025-09-09T12:55:40.323842Z"
    }
   },
   "outputs": [
    {
     "data": {
      "text/plain": [
       "True"
      ]
     },
     "execution_count": 2,
     "metadata": {},
     "output_type": "execute_result"
    }
   ],
   "source": [
    "import weaviate\n",
    "\n",
    "client = weaviate.connect_to_local(\n",
    "    # STUDENT TODO:\n",
    "    # Add WEAVIATE_IP as the first positional argument\n",
    "    # BEGIN_SOLUTION\n",
    "    WEAVIATE_IP,\n",
    "    # END_SOLUTION\n",
    "    # These are the AWS credentials for Weaviate to use\n",
    "    headers = {\n",
    "        \"X-AWS-Access-Key\": AWS_ACCESS_KEY,\n",
    "        \"X-AWS-Secret-Key\": AWS_SECRET_KEY,\n",
    "        \"X-AWS-Session-Token\": AWS_SESSION_TOKEN,\n",
    "    }\n",
    ")\n",
    "\n",
    "client.is_ready()"
   ]
  },
  {
   "cell_type": "markdown",
   "metadata": {},
   "source": [
    "## Create collection with vectorizer\n",
    "\n",
    "Create a collection for financial articles with separate embeddings for title and content.\n",
    "\n",
    "[Docs - Collection configuration](https://weaviate.io/developers/weaviate/manage-data/collections)"
   ]
  },
  {
   "cell_type": "markdown",
   "metadata": {},
   "source": [
    "![Weaviate collections](images/weaviate-explainer-collections.png)"
   ]
  },
  {
   "cell_type": "code",
   "execution_count": 3,
   "metadata": {
    "execution": {
     "iopub.execute_input": "2025-09-09T12:55:40.441144Z",
     "iopub.status.busy": "2025-09-09T12:55:40.440967Z",
     "iopub.status.idle": "2025-09-09T12:55:40.631450Z",
     "shell.execute_reply": "2025-09-09T12:55:40.630833Z",
     "shell.execute_reply.started": "2025-09-09T12:55:40.441126Z"
    }
   },
   "outputs": [
    {
     "data": {
      "text/plain": [
       "<weaviate.collections.collection.sync.Collection at 0x7f75b055f860>"
      ]
     },
     "execution_count": 3,
     "metadata": {},
     "output_type": "execute_result"
    }
   ],
   "source": [
    "from weaviate.classes.config import Configure, Property, DataType\n",
    "\n",
    "# Delete collection if it exists\n",
    "if client.collections.exists(\"FinancialArticles\"):\n",
    "    client.collections.delete(\"FinancialArticles\")\n",
    "\n",
    "# Create collection with named vectors for title and content\n",
    "client.collections.create(\n",
    "    name=\"FinancialArticles\",\n",
    "    # Define property schema\n",
    "    properties=[\n",
    "        Property(name=\"article_title\", data_type=DataType.TEXT),\n",
    "        # STUDENT TODO:\n",
    "        # Add two additional properties - \"article\" and \"url\"\n",
    "        # Both should be of data_type DataType.TEXT\n",
    "        # BEGIN_SOLUTION\n",
    "        Property(name=\"article\", data_type=DataType.TEXT),\n",
    "        Property(name=\"url\", data_type=DataType.TEXT),\n",
    "        # END_SOLUTION\n",
    "    ],\n",
    "    # Configure separate embeddings for title and article content\n",
    "    vector_config=[\n",
    "        Configure.Vectors.text2vec_aws(\n",
    "            name=\"title\",\n",
    "            source_properties=[\"article_title\"],\n",
    "            region=\"us-east-1\",\n",
    "            service=\"bedrock\",\n",
    "            model=\"amazon.titan-embed-text-v2:0\"\n",
    "        ),\n",
    "        # STUDENT TODO:\n",
    "        # Add a second vector configuration\n",
    "        # using the same region, service, and model as above\n",
    "        # Change the name to \"content\"\n",
    "        # Change source properties to \"article\"\n",
    "        # BEGIN_SOLUTION\n",
    "        Configure.Vectors.text2vec_aws(\n",
    "            name=\"content\",\n",
    "            source_properties=[\"article\"],\n",
    "            region=\"us-east-1\",\n",
    "            service=\"bedrock\",\n",
    "            model=\"amazon.titan-embed-text-v2:0\"\n",
    "        )\n",
    "        # END_SOLUTION\n",
    "    ],\n",
    ")"
   ]
  },
  {
   "cell_type": "markdown",
   "metadata": {},
   "source": [
    "## Load financial articles data\n",
    "\n",
    "Import the financial news dataset using batch processing for efficient loading."
   ]
  },
  {
   "cell_type": "code",
   "execution_count": 4,
   "metadata": {
    "execution": {
     "iopub.execute_input": "2025-09-09T12:55:40.634176Z",
     "iopub.status.busy": "2025-09-09T12:55:40.633981Z",
     "iopub.status.idle": "2025-09-09T12:55:41.244291Z",
     "shell.execute_reply": "2025-09-09T12:55:41.243630Z",
     "shell.execute_reply.started": "2025-09-09T12:55:40.634157Z"
    }
   },
   "outputs": [
    {
     "name": "stdout",
     "output_type": "stream",
     "text": [
      "Loaded 2000 articles\n",
      "Sample data:\n"
     ]
    },
    {
     "data": {
      "text/html": [
       "<div>\n",
       "<style scoped>\n",
       "    .dataframe tbody tr th:only-of-type {\n",
       "        vertical-align: middle;\n",
       "    }\n",
       "\n",
       "    .dataframe tbody tr th {\n",
       "        vertical-align: top;\n",
       "    }\n",
       "\n",
       "    .dataframe thead th {\n",
       "        text-align: right;\n",
       "    }\n",
       "</style>\n",
       "<table border=\"1\" class=\"dataframe\">\n",
       "  <thead>\n",
       "    <tr style=\"text-align: right;\">\n",
       "      <th></th>\n",
       "      <th>date</th>\n",
       "      <th>article_title</th>\n",
       "      <th>stock_symbol</th>\n",
       "      <th>url</th>\n",
       "      <th>article</th>\n",
       "    </tr>\n",
       "  </thead>\n",
       "  <tbody>\n",
       "    <tr>\n",
       "      <th>0</th>\n",
       "      <td>2022-08-04 00:00:00 UTC</td>\n",
       "      <td>Ansys Q2 22 Earnings Conference Call At 8:30 A...</td>\n",
       "      <td>ANSS</td>\n",
       "      <td>https://www.nasdaq.com/articles/ansys-q2-22-ea...</td>\n",
       "      <td>(RTTNews) - Ansys Inc. (ANSS) will host a conf...</td>\n",
       "    </tr>\n",
       "    <tr>\n",
       "      <th>1</th>\n",
       "      <td>2012-11-26 00:00:00 UTC</td>\n",
       "      <td>Corrections Corporation of America (CXW) Ex-Di...</td>\n",
       "      <td>PAYX</td>\n",
       "      <td>https://www.nasdaq.com/articles/corrections-co...</td>\n",
       "      <td>Corrections Corporation of America ( CXW ) has...</td>\n",
       "    </tr>\n",
       "    <tr>\n",
       "      <th>2</th>\n",
       "      <td>2023-07-14 00:00:00 UTC</td>\n",
       "      <td>Technology Sector Update for 07/14/2023: ASML,...</td>\n",
       "      <td>ASML</td>\n",
       "      <td>https://www.nasdaq.com/articles/technology-sec...</td>\n",
       "      <td>Tech stocks were lower late Friday, with the T...</td>\n",
       "    </tr>\n",
       "    <tr>\n",
       "      <th>3</th>\n",
       "      <td>2020-02-16 00:00:00 UTC</td>\n",
       "      <td>3 Best Biotech Stocks to Buy for the Next Decade</td>\n",
       "      <td>VRTX</td>\n",
       "      <td>https://www.nasdaq.com/articles/3-best-biotech...</td>\n",
       "      <td>Let me start out by acknowledging that predict...</td>\n",
       "    </tr>\n",
       "    <tr>\n",
       "      <th>4</th>\n",
       "      <td>2021-08-24 00:00:00 UTC</td>\n",
       "      <td>iShares U.S. Transportation ETF Experiences Bi...</td>\n",
       "      <td>CSX</td>\n",
       "      <td>https://www.nasdaq.com/articles/ishares-u.s.-t...</td>\n",
       "      <td>Looking today at week-over-week shares outstan...</td>\n",
       "    </tr>\n",
       "  </tbody>\n",
       "</table>\n",
       "</div>"
      ],
      "text/plain": [
       "                      date                                      article_title  \\\n",
       "0  2022-08-04 00:00:00 UTC  Ansys Q2 22 Earnings Conference Call At 8:30 A...   \n",
       "1  2012-11-26 00:00:00 UTC  Corrections Corporation of America (CXW) Ex-Di...   \n",
       "2  2023-07-14 00:00:00 UTC  Technology Sector Update for 07/14/2023: ASML,...   \n",
       "3  2020-02-16 00:00:00 UTC   3 Best Biotech Stocks to Buy for the Next Decade   \n",
       "4  2021-08-24 00:00:00 UTC  iShares U.S. Transportation ETF Experiences Bi...   \n",
       "\n",
       "  stock_symbol                                                url  \\\n",
       "0         ANSS  https://www.nasdaq.com/articles/ansys-q2-22-ea...   \n",
       "1         PAYX  https://www.nasdaq.com/articles/corrections-co...   \n",
       "2         ASML  https://www.nasdaq.com/articles/technology-sec...   \n",
       "3         VRTX  https://www.nasdaq.com/articles/3-best-biotech...   \n",
       "4          CSX  https://www.nasdaq.com/articles/ishares-u.s.-t...   \n",
       "\n",
       "                                             article  \n",
       "0  (RTTNews) - Ansys Inc. (ANSS) will host a conf...  \n",
       "1  Corrections Corporation of America ( CXW ) has...  \n",
       "2  Tech stocks were lower late Friday, with the T...  \n",
       "3  Let me start out by acknowledging that predict...  \n",
       "4  Looking today at week-over-week shares outstan...  "
      ]
     },
     "execution_count": 4,
     "metadata": {},
     "output_type": "execute_result"
    }
   ],
   "source": [
    "import pandas as pd\n",
    "from tqdm import tqdm\n",
    "from weaviate.util import generate_uuid5\n",
    "\n",
    "# Load the financial articles dataset\n",
    "df = pd.read_parquet(\"data/fin_news_articles_5000.parquet\")\n",
    "df = df[:2000]\n",
    "\n",
    "print(f\"Loaded {len(df)} articles\")\n",
    "print(\"Sample data:\")\n",
    "df.head()"
   ]
  },
  {
   "cell_type": "code",
   "execution_count": 5,
   "metadata": {
    "execution": {
     "iopub.execute_input": "2025-09-09T12:55:41.245370Z",
     "iopub.status.busy": "2025-09-09T12:55:41.245012Z",
     "iopub.status.idle": "2025-09-09T12:55:41.248563Z",
     "shell.execute_reply": "2025-09-09T12:55:41.247953Z",
     "shell.execute_reply.started": "2025-09-09T12:55:41.245338Z"
    }
   },
   "outputs": [],
   "source": [
    "# Get collection reference\n",
    "# STUDENT TODO:\n",
    "# Assign client.collections.use(\"FinancialArticles\") to variable 'articles'\n",
    "# BEGIN_SOLUTION\n",
    "articles = client.collections.use(\"FinancialArticles\")\n",
    "# END_SOLUTION"
   ]
  },
  {
   "cell_type": "code",
   "execution_count": 6,
   "metadata": {
    "execution": {
     "iopub.execute_input": "2025-09-09T12:55:41.249726Z",
     "iopub.status.busy": "2025-09-09T12:55:41.249435Z",
     "iopub.status.idle": "2025-09-09T12:56:12.675671Z",
     "shell.execute_reply": "2025-09-09T12:56:12.674975Z",
     "shell.execute_reply.started": "2025-09-09T12:55:41.249700Z"
    }
   },
   "outputs": [
    {
     "name": "stderr",
     "output_type": "stream",
     "text": [
      "100%|██████████| 2000/2000 [00:27<00:00, 72.82it/s]\n"
     ]
    },
    {
     "name": "stdout",
     "output_type": "stream",
     "text": [
      "\n",
      "Imported 2000 articles\n"
     ]
    }
   ],
   "source": [
    "# Import data with batch processing\n",
    "with articles.batch.fixed_size(batch_size=100) as batch:\n",
    "    for _, row in tqdm(df.iterrows(), total=len(df)):\n",
    "        # Create object from dataframe row\n",
    "        obj = {\n",
    "            \"article_title\": row[\"article_title\"],\n",
    "            \"article\": row[\"article\"],\n",
    "            \"url\": row[\"url\"] if \"url\" in row else \"\"\n",
    "        }\n",
    "\n",
    "        # Generate UUID to prevent duplicates\n",
    "        uuid = generate_uuid5(row[\"article_title\"] + str(row.get(\"url\", \"\")))\n",
    "\n",
    "        # STUDENT TODO:\n",
    "        # Add the object to the batch\n",
    "        # using batch.add_object\n",
    "        # with properties=obj, uuid=uuid\n",
    "        # BEGIN_SOLUTION\n",
    "        batch.add_object(\n",
    "            properties=obj,\n",
    "            uuid=uuid\n",
    "        )\n",
    "        # END_SOLUTION\n",
    "\n",
    "        # Check for errors during import\n",
    "        if batch.number_errors > 10:\n",
    "            print(\"Too many errors during import\")\n",
    "            break\n",
    "\n",
    "print(f\"\\nImported {len(articles)} articles\")"
   ]
  },
  {
   "cell_type": "markdown",
   "metadata": {},
   "source": [
    "## Check for import errors"
   ]
  },
  {
   "cell_type": "code",
   "execution_count": 7,
   "metadata": {
    "execution": {
     "iopub.execute_input": "2025-09-09T12:56:12.679524Z",
     "iopub.status.busy": "2025-09-09T12:56:12.679300Z",
     "iopub.status.idle": "2025-09-09T12:56:12.683644Z",
     "shell.execute_reply": "2025-09-09T12:56:12.683071Z",
     "shell.execute_reply.started": "2025-09-09T12:56:12.679506Z"
    }
   },
   "outputs": [
    {
     "name": "stdout",
     "output_type": "stream",
     "text": [
      "Import completed successfully with no errors\n"
     ]
    }
   ],
   "source": [
    "if len(articles.batch.failed_objects) > 0:\n",
    "    print(f\"Import completed with {len(articles.batch.failed_objects)} errors\")\n",
    "    for err in articles.batch.failed_objects[:5]:  # Show first 5 errors\n",
    "        print(err)\n",
    "else:\n",
    "    print(\"Import completed successfully with no errors\")"
   ]
  },
  {
   "cell_type": "markdown",
   "metadata": {},
   "source": [
    "## Verify the data\n",
    "\n",
    "Check that articles were imported correctly with embeddings."
   ]
  },
  {
   "cell_type": "code",
   "execution_count": 8,
   "metadata": {
    "execution": {
     "iopub.execute_input": "2025-09-09T12:56:12.686578Z",
     "iopub.status.busy": "2025-09-09T12:56:12.686289Z",
     "iopub.status.idle": "2025-09-09T12:56:12.692234Z",
     "shell.execute_reply": "2025-09-09T12:56:12.691513Z",
     "shell.execute_reply.started": "2025-09-09T12:56:12.686559Z"
    }
   },
   "outputs": [
    {
     "name": "stdout",
     "output_type": "stream",
     "text": [
      "Total articles in collection: 2000\n"
     ]
    }
   ],
   "source": [
    "# Check collection size\n",
    "# STUDENT TODO:\n",
    "# Use the built-in len() function on the 'articles' collection to get the total number of articles\n",
    "# BEGIN_SOLUTION\n",
    "print(f\"Total articles in collection: {len(articles)}\")\n",
    "# END_SOLUTION"
   ]
  },
  {
   "cell_type": "code",
   "execution_count": null,
   "metadata": {
    "execution": {
     "iopub.execute_input": "2025-09-09T12:56:12.693143Z",
     "iopub.status.busy": "2025-09-09T12:56:12.692866Z",
     "iopub.status.idle": "2025-09-09T12:56:12.699439Z",
     "shell.execute_reply": "2025-09-09T12:56:12.698892Z",
     "shell.execute_reply.started": "2025-09-09T12:56:12.693117Z"
    }
   },
   "outputs": [
    {
     "name": "stdout",
     "output_type": "stream",
     "text": [
      "Title: Here's Why Galapagos NV Is Skyrocketing 18.3% Today\n",
      "Content preview: What happened\n",
      "After the company reported that its oral rheumatoid arthritis drug, filgotinib, succes...\n",
      "\n",
      "Title: 3 Things Every Investor Needs To Know\n",
      "Content preview: InvestorPlace - Stock Market News, Stock Advice & Trading Tips\n",
      "Flying an airplane is one of my passi...\n",
      "\n",
      "Title: How one large bull is playing Marvell\n",
      "Content preview: One investor expects a springtime rally for Marvell Technology, which is off to a strong start in 20...\n",
      "\n"
     ]
    }
   ],
   "source": [
    "# View sample data\n",
    "# STUDENT TODO:\n",
    "# Fetch 3 articles\n",
    "# Use articles.query.fetch_objects with `limit=3``\n",
    "# BEGIN_SOLUTION\n",
    "response = articles.query.fetch_objects(limit=3)\n",
    "# END_SOLUTION\n",
    "\n",
    "# Inspect the response\n",
    "for item in response.objects:\n",
    "    print(f\"Title: {item.properties['article_title']}\")\n",
    "    print(f\"Content preview: {item.properties['article'][:100]}...\\n\")"
   ]
  },
  {
   "cell_type": "markdown",
   "metadata": {},
   "source": [
    "## Test basic search\n",
    "\n",
    "Quick test to verify the collection works with semantic search."
   ]
  },
  {
   "cell_type": "code",
   "execution_count": null,
   "metadata": {
    "execution": {
     "iopub.execute_input": "2025-09-09T12:56:12.702527Z",
     "iopub.status.busy": "2025-09-09T12:56:12.702252Z",
     "iopub.status.idle": "2025-09-09T12:56:12.774943Z",
     "shell.execute_reply": "2025-09-09T12:56:12.774423Z",
     "shell.execute_reply.started": "2025-09-09T12:56:12.702501Z"
    }
   },
   "outputs": [
    {
     "name": "stdout",
     "output_type": "stream",
     "text": [
      "Search results for 'technology earnings':\n",
      "Title: Align Technology (ALGN) Q3 Earnings Lag Estimates, Margins Drop\n",
      "Content preview: Align Technology, Inc.’s ALGN third-quarter 2022 earnings per share (EPS) were $1.36, reflecting a 5...\n",
      "\n",
      "Title: Case Builds for Tech Dividends\n",
      "Content preview: It’s not a stretch to say a generation, perhaps two, of investors are hardwired to believe technolog...\n",
      "\n",
      "Title: Technology Sector Update for 09/01/2017: MSFT, AAPL, IBM, CSCO, GOOGL, PANW, QCOM, AMBA\n",
      "Content preview: Top Technology Stocks:\n",
      "MSFT: +0.04%\n",
      "AAPL: +0.4%\n",
      "IBM: +0.4%\n",
      "CSCO: +0.4%\n",
      "GOOGL: +0.3%\n",
      "Technology share...\n",
      "\n"
     ]
    }
   ],
   "source": [
    "# Try semantic search on titles\n",
    "# STUDENT TODO:\n",
    "# Use `.query.near_text` to search for articles related to \"technology earnings\"\n",
    "# Supply the target_vector argument as \"title\"\n",
    "# Limit results to 3\n",
    "# BEGIN_SOLUTION\n",
    "response = articles.query.near_text(\n",
    "    query=\"technology earnings\",\n",
    "    target_vector=\"title\",\n",
    "    limit=3\n",
    ")\n",
    "# END_SOLUTION\n",
    "\n",
    "\n",
    "print(\"Search results for 'technology earnings':\")\n",
    "# Inspect the response\n",
    "# STUDENT TODO:\n",
    "# BEGIN_SOLUTION\n",
    "for item in response.objects:\n",
    "    print(f\"Title: {item.properties['article_title']}\")\n",
    "    print(f\"Content preview: {item.properties['article'][:100]}...\\n\")\n",
    "# END_SOLUTION"
   ]
  },
  {
   "cell_type": "markdown",
   "metadata": {},
   "source": [
    "## Close the client\n",
    "\n",
    "Always close your connection when finished."
   ]
  },
  {
   "cell_type": "code",
   "execution_count": 11,
   "metadata": {
    "execution": {
     "iopub.execute_input": "2025-09-09T12:56:12.777518Z",
     "iopub.status.busy": "2025-09-09T12:56:12.777245Z",
     "iopub.status.idle": "2025-09-09T12:56:12.782606Z",
     "shell.execute_reply": "2025-09-09T12:56:12.782044Z",
     "shell.execute_reply.started": "2025-09-09T12:56:12.777492Z"
    }
   },
   "outputs": [],
   "source": [
    "# Close the client after use\n",
    "client.close()"
   ]
  },
  {
   "cell_type": "code",
   "execution_count": null,
   "metadata": {},
   "outputs": [],
   "source": []
  }
 ],
 "metadata": {
  "kernelspec": {
   "display_name": "202509-aws-genai-workshop",
   "language": "python",
   "name": "python3"
  },
  "language_info": {
   "codemirror_mode": {
    "name": "ipython",
    "version": 3
   },
   "file_extension": ".py",
   "mimetype": "text/x-python",
   "name": "python",
   "nbconvert_exporter": "python",
   "pygments_lexer": "ipython3",
   "version": "3.10.16"
  }
 },
 "nbformat": 4,
 "nbformat_minor": 4
}
