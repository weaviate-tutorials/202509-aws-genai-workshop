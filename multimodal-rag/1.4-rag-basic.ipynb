{
 "cells": [
  {
   "cell_type": "markdown",
   "metadata": {},
   "source": [
    "# Retrieval Augmented Generation\n",
    "\n",
    "RAG combines search (retrieval) with AI text generation. First retrieve relevant documents, then use them to generate informed responses.\n",
    "\n",
    "![images/llm_2_rag_basic.png](images/llm_2_rag_basic.png)"
   ]
  },
  {
   "cell_type": "markdown",
   "metadata": {},
   "source": [
    "## Connect to Weaviate\n",
    "\n",
    "Connect to a Weaviate instance with third party credentials as needed."
   ]
  },
  {
   "cell_type": "code",
   "execution_count": null,
   "metadata": {
    "execution": {
     "iopub.execute_input": "2025-09-09T12:44:53.712843Z",
     "iopub.status.busy": "2025-09-09T12:44:53.712667Z",
     "iopub.status.idle": "2025-09-09T12:44:54.528341Z",
     "shell.execute_reply": "2025-09-09T12:44:54.527657Z",
     "shell.execute_reply.started": "2025-09-09T12:44:53.712825Z"
    }
   },
   "outputs": [],
   "source": [
    "# Refresh credentials & load the Weaviate IP\n",
    "from helpers import update_creds\n",
    "\n",
    "AWS_ACCESS_KEY, AWS_SECRET_KEY, AWS_SESSION_TOKEN = update_creds()\n",
    "\n",
    "%store -r WEAVIATE_IP"
   ]
  },
  {
   "cell_type": "code",
   "execution_count": null,
   "metadata": {
    "execution": {
     "iopub.execute_input": "2025-09-09T12:44:54.530261Z",
     "iopub.status.busy": "2025-09-09T12:44:54.529974Z",
     "iopub.status.idle": "2025-09-09T12:44:54.637703Z",
     "shell.execute_reply": "2025-09-09T12:44:54.637153Z",
     "shell.execute_reply.started": "2025-09-09T12:44:54.530241Z"
    }
   },
   "outputs": [],
   "source": [
    "import weaviate\n",
    "\n",
    "client = weaviate.connect_to_local(\n",
    "    WEAVIATE_IP,\n",
    "    headers = {\n",
    "        \"X-AWS-Access-Key\": AWS_ACCESS_KEY,\n",
    "        \"X-AWS-Secret-Key\": AWS_SECRET_KEY,\n",
    "        \"X-AWS-Session-Token\": AWS_SESSION_TOKEN,\n",
    "    }\n",
    ")\n",
    "\n",
    "client.is_ready()"
   ]
  },
  {
   "cell_type": "markdown",
   "metadata": {},
   "source": [
    "### Start with (R) - Retrieval\n",
    "\n",
    "First step: retrieve relevant documents using search."
   ]
  },
  {
   "cell_type": "code",
   "execution_count": null,
   "metadata": {
    "execution": {
     "iopub.execute_input": "2025-09-09T12:44:54.641411Z",
     "iopub.status.busy": "2025-09-09T12:44:54.641178Z",
     "iopub.status.idle": "2025-09-09T12:44:54.730271Z",
     "shell.execute_reply": "2025-09-09T12:44:54.729699Z",
     "shell.execute_reply.started": "2025-09-09T12:44:54.641392Z"
    }
   },
   "outputs": [],
   "source": [
    "articles = client.collections.use(\"FinancialArticles\")\n",
    "\n",
    "response = articles.query.near_text(\n",
    "    query=\"cloud revenue\",\n",
    "    limit=5,\n",
    "    target_vector=\"title\",\n",
    ")\n",
    "\n",
    "for item in response.objects:\n",
    "    print(item.properties[\"article_title\"])"
   ]
  },
  {
   "cell_type": "markdown",
   "metadata": {},
   "source": [
    "### Add (AG) - augmented generation - to make full RAG\n",
    "\n",
    "Second step: use retrieved documents to generate informed responses."
   ]
  },
  {
   "cell_type": "markdown",
   "metadata": {},
   "source": [
    "#### Single Prompt\n",
    "\n",
    "> Generate a response per **retrieved** object."
   ]
  },
  {
   "cell_type": "code",
   "execution_count": null,
   "metadata": {
    "execution": {
     "iopub.execute_input": "2025-09-09T12:44:54.734376Z",
     "iopub.status.busy": "2025-09-09T12:44:54.734180Z",
     "iopub.status.idle": "2025-09-09T12:44:54.737098Z",
     "shell.execute_reply": "2025-09-09T12:44:54.736592Z",
     "shell.execute_reply.started": "2025-09-09T12:44:54.734347Z"
    }
   },
   "outputs": [],
   "source": [
    "# Let's add some colour to our lives :)\n",
    "BLUE   = \"\\033[94m\"\n",
    "PURPLE = \"\\033[95m\"\n",
    "RESET  = \"\\033[0\""
   ]
  },
  {
   "cell_type": "code",
   "execution_count": null,
   "metadata": {
    "execution": {
     "iopub.execute_input": "2025-09-09T12:44:54.737768Z",
     "iopub.status.busy": "2025-09-09T12:44:54.737592Z",
     "iopub.status.idle": "2025-09-09T12:44:55.807783Z",
     "shell.execute_reply": "2025-09-09T12:44:55.807266Z",
     "shell.execute_reply.started": "2025-09-09T12:44:54.737752Z"
    }
   },
   "outputs": [],
   "source": [
    "from weaviate.classes.generate import GenerativeConfig\n",
    "\n",
    "gen_config_aws = GenerativeConfig.aws(\n",
    "    region=\"us-east-1\",\n",
    "    service=\"bedrock\",\n",
    "    model=\"us.amazon.nova-lite-v1:0\"\n",
    ")\n",
    "\n",
    "response = articles.generate.near_text(\n",
    "    query=\"cloud revenue\",\n",
    "    limit=5,\n",
    "    target_vector=\"title\",\n",
    "    # STUDENT TODO\n",
    "    # provide generative_provider and single_prompt parameters\n",
    "    # `gen_config_aws`, and `Summarize this article to a sentence or two: {article}`\n",
    "    # ADD YOUR CODE HERE\n",
    ")\n",
    "\n",
    "for item in response.objects:\n",
    "    print(f\"{BLUE}=== Source ===\")\n",
    "    print(item.properties[\"article_title\"])\n",
    "\n",
    "    print(f\"{PURPLE}=== Generated Response ===\")\n",
    "    print(item.generative.text)\n",
    "    print(\"\\n\")"
   ]
  },
  {
   "cell_type": "markdown",
   "metadata": {},
   "source": [
    "#### Grouped Task\n",
    "\n",
    "Generate one response using all retrieved documents together."
   ]
  },
  {
   "cell_type": "code",
   "execution_count": null,
   "metadata": {
    "execution": {
     "iopub.execute_input": "2025-09-09T12:44:55.810537Z",
     "iopub.status.busy": "2025-09-09T12:44:55.810349Z",
     "iopub.status.idle": "2025-09-09T12:44:58.747508Z",
     "shell.execute_reply": "2025-09-09T12:44:58.746941Z",
     "shell.execute_reply.started": "2025-09-09T12:44:55.810518Z"
    }
   },
   "outputs": [],
   "source": [
    "response = articles.generate.near_text(\n",
    "    query=\"cloud revenue\",\n",
    "    limit=5,\n",
    "    target_vector=\"title\",\n",
    "    generative_provider=gen_config_aws,\n",
    "    # STUDENT TODO\n",
    "    # provide grouped_task parameter\n",
    "    # `Explain top 3 or so common trends or overall learnings in these articles. Please only use the provided content.`\n",
    "    # ADD YOUR CODE HERE\n",
    ")\n",
    "\n",
    "print(f\"{PURPLE}=== Generated Response ===\")\n",
    "print(response.generative.text)\n",
    "\n",
    "print(f\"{BLUE}=== Source ===\")\n",
    "for item in response.objects:\n",
    "    print(item.properties[\"article_title\"])"
   ]
  },
  {
   "cell_type": "markdown",
   "metadata": {},
   "source": [
    "![images/llm_3_rag_weaviate.png](images/llm_3_rag_weaviate.png)"
   ]
  },
  {
   "cell_type": "markdown",
   "metadata": {},
   "source": [
    "#### Specify which properties to use for grouped task\n",
    "\n",
    "Control which document fields the AI uses for generation."
   ]
  },
  {
   "cell_type": "code",
   "execution_count": null,
   "metadata": {
    "execution": {
     "iopub.execute_input": "2025-09-09T12:44:58.752187Z",
     "iopub.status.busy": "2025-09-09T12:44:58.752004Z",
     "iopub.status.idle": "2025-09-09T12:45:00.464742Z",
     "shell.execute_reply": "2025-09-09T12:45:00.464127Z",
     "shell.execute_reply.started": "2025-09-09T12:44:58.752170Z"
    }
   },
   "outputs": [],
   "source": [
    "response = articles.generate.near_text(\n",
    "    query=\"artificial intelligence\",\n",
    "    limit=50,\n",
    "    target_vector=\"title\",\n",
    "    grouped_task=\"What are the top 3 most common types of articles, based on these titles? Please only use the provided content.\",\n",
    "    generative_provider=gen_config_aws,\n",
    "    # STUDENT TODO\n",
    "    # provide grouped_properties parameter\n",
    "    # `[\"article_title\"]`\n",
    "    # ADD YOUR CODE HERE\n",
    ")\n",
    "\n",
    "print(f\"{PURPLE}=== Generated Response ===\")\n",
    "print(response.generative.text)\n",
    "\n",
    "print(f\"{BLUE}=== Source ===\")\n",
    "for item in response.objects:\n",
    "    print(item.properties[\"article_title\"])"
   ]
  },
  {
   "cell_type": "markdown",
   "metadata": {},
   "source": [
    "## Set default Generative model\n",
    "\n",
    "Configure a default model to avoid specifying it each time."
   ]
  },
  {
   "cell_type": "code",
   "execution_count": null,
   "metadata": {
    "execution": {
     "iopub.execute_input": "2025-09-09T12:45:00.468247Z",
     "iopub.status.busy": "2025-09-09T12:45:00.468059Z",
     "iopub.status.idle": "2025-09-09T12:45:00.483889Z",
     "shell.execute_reply": "2025-09-09T12:45:00.483215Z",
     "shell.execute_reply.started": "2025-09-09T12:45:00.468229Z"
    }
   },
   "outputs": [],
   "source": [
    "from weaviate.classes.config import Reconfigure\n",
    "\n",
    "articles.config.update(\n",
    "    generative_config=Reconfigure.Generative.aws(\n",
    "        region=\"us-east-1\",\n",
    "        service=\"bedrock\",\n",
    "        model=\"us.amazon.nova-pro-v1:0\"\n",
    "    )\n",
    ")"
   ]
  },
  {
   "cell_type": "markdown",
   "metadata": {},
   "source": [
    "Try generative query without specifying the model (uses default)."
   ]
  },
  {
   "cell_type": "code",
   "execution_count": null,
   "metadata": {
    "execution": {
     "iopub.execute_input": "2025-09-09T12:45:00.486532Z",
     "iopub.status.busy": "2025-09-09T12:45:00.486354Z",
     "iopub.status.idle": "2025-09-09T12:45:03.466421Z",
     "shell.execute_reply": "2025-09-09T12:45:03.465785Z",
     "shell.execute_reply.started": "2025-09-09T12:45:00.486515Z"
    }
   },
   "outputs": [],
   "source": [
    "response = articles.generate.near_text(\n",
    "    query=\"cryptocurrency regulation\",\n",
    "    limit=5,\n",
    "    target_vector=\"title\",\n",
    "    grouped_task=\"Briefly, what topics are covered in these articles? Please only use the provided content.\",\n",
    ")\n",
    "\n",
    "print(f\"{PURPLE}=== Generated Response ===\")\n",
    "print(response.generative.text)\n",
    "\n",
    "print(f\"{BLUE}=== Source ===\")\n",
    "for item in response.objects:\n",
    "    print(item.properties[\"article_title\"])"
   ]
  },
  {
   "cell_type": "markdown",
   "metadata": {},
   "source": [
    "## Close the client\n",
    "\n",
    "Always close your connection when finished."
   ]
  },
  {
   "cell_type": "code",
   "execution_count": null,
   "metadata": {
    "execution": {
     "iopub.execute_input": "2025-09-09T12:45:03.469400Z",
     "iopub.status.busy": "2025-09-09T12:45:03.469201Z",
     "iopub.status.idle": "2025-09-09T12:45:03.473104Z",
     "shell.execute_reply": "2025-09-09T12:45:03.472535Z",
     "shell.execute_reply.started": "2025-09-09T12:45:03.469383Z"
    }
   },
   "outputs": [],
   "source": [
    "client.close()"
   ]
  }
 ],
 "metadata": {
  "kernelspec": {
   "display_name": "Python 3 (ipykernel)",
   "language": "python",
   "name": "python3"
  },
  "language_info": {
   "codemirror_mode": {
    "name": "ipython",
    "version": 3
   },
   "file_extension": ".py",
   "mimetype": "text/x-python",
   "name": "python",
   "nbconvert_exporter": "python",
   "pygments_lexer": "ipython3",
   "version": "3.12.9"
  }
 },
 "nbformat": 4,
 "nbformat_minor": 4
}
