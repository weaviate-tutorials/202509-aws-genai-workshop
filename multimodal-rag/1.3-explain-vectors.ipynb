{
 "cells": [
  {
   "cell_type": "markdown",
   "id": "92aba69c",
   "metadata": {},
   "source": [
    "## Vectors embeddings & similarity: visualized"
   ]
  },
  {
   "cell_type": "markdown",
   "id": "01c1ada3",
   "metadata": {},
   "source": [
    "![What is a vector](images/weaviate-explainer-vector.png)"
   ]
  },
  {
   "cell_type": "code",
   "execution_count": null,
   "id": "ccd5cf0e",
   "metadata": {
    "execution": {
     "iopub.execute_input": "2025-09-09T12:57:06.713054Z",
     "iopub.status.busy": "2025-09-09T12:57:06.712890Z",
     "iopub.status.idle": "2025-09-09T12:57:08.027547Z",
     "shell.execute_reply": "2025-09-09T12:57:08.026929Z",
     "shell.execute_reply.started": "2025-09-09T12:57:06.713037Z"
    },
    "slideshow": {
     "slide_type": "skip"
    }
   },
   "outputs": [],
   "source": [
    "import numpy as np\n",
    "import plotly.express as px\n",
    "from sklearn.decomposition import PCA\n",
    "import pandas as pd\n",
    "import boto3\n",
    "import json"
   ]
  },
  {
   "cell_type": "markdown",
   "id": "c49b8ccd",
   "metadata": {},
   "source": [
    "Helper function to generate embeddings with Bedrock"
   ]
  },
  {
   "cell_type": "code",
   "execution_count": null,
   "id": "d5117b44",
   "metadata": {
    "execution": {
     "iopub.execute_input": "2025-09-09T12:57:08.031379Z",
     "iopub.status.busy": "2025-09-09T12:57:08.031180Z",
     "iopub.status.idle": "2025-09-09T12:57:08.035376Z",
     "shell.execute_reply": "2025-09-09T12:57:08.034748Z",
     "shell.execute_reply.started": "2025-09-09T12:57:08.031360Z"
    },
    "slideshow": {
     "slide_type": "skip"
    }
   },
   "outputs": [],
   "source": [
    "from numpy import ndarray\n",
    "\n",
    "def get_embeddings(sent_inputs: list[str]) -> ndarray:\n",
    "    bedrock_runtime = boto3.client(\n",
    "        service_name='bedrock-runtime',\n",
    "        region_name='us-west-2',\n",
    "    )\n",
    "\n",
    "    embeddings = []\n",
    "    for sent in sent_inputs:\n",
    "        body = json.dumps({\n",
    "            \"inputText\": sent,\n",
    "        })\n",
    "\n",
    "        response = bedrock_runtime.invoke_model(\n",
    "            body=body,\n",
    "            modelId='amazon.titan-embed-text-v2:0',\n",
    "            accept='application/json',\n",
    "            contentType='application/json'\n",
    "        )\n",
    "\n",
    "        response_body = json.loads(response['body'].read())\n",
    "        embeddings.append(response_body.get('embedding'))\n",
    "\n",
    "    return np.array(embeddings)"
   ]
  },
  {
   "cell_type": "markdown",
   "id": "cb292a88",
   "metadata": {},
   "source": [
    "Let's embed these sentences"
   ]
  },
  {
   "cell_type": "code",
   "execution_count": null,
   "id": "3de46be1",
   "metadata": {
    "execution": {
     "iopub.execute_input": "2025-09-09T12:57:08.038189Z",
     "iopub.status.busy": "2025-09-09T12:57:08.037946Z",
     "iopub.status.idle": "2025-09-09T12:57:08.696721Z",
     "shell.execute_reply": "2025-09-09T12:57:08.696143Z",
     "shell.execute_reply.started": "2025-09-09T12:57:08.038162Z"
    }
   },
   "outputs": [],
   "source": [
    "sent_inputs = [\n",
    "    # Cat-related sentences\n",
    "    \"The Bengal showed off its striking coat pattern.\",\n",
    "    \"A lion's powerful roar echoed through the plains.\",\n",
    "    \"A leopard's spots provided perfect camouflage in the dappled light.\",\n",
    "    \"A cheetah's unmatched speed allowed it to outrun its prey.\",\n",
    "    \"The Sphynx basked in the warmth of its owner's lap.\",\n",
    "    # Dog-related sentences\n",
    "    \"The golden retriever chased after the frisbee.\",\n",
    "    \"The playful puppy rolled in the grass.\",\n",
    "    \"A loyal companion is always by your side.\",\n",
    "    \"The Labrador retriever enjoyed playing in the water.\",\n",
    "    \"The family adopted a furry friend from the shelter.\"\n",
    "]\n",
    "\n",
    "emb_array = get_embeddings(sent_inputs)"
   ]
  },
  {
   "cell_type": "markdown",
   "id": "3f90da6c",
   "metadata": {},
   "source": [
    "![How embeddings are created](images/weaviate-explainer-embedding-creation.png)"
   ]
  },
  {
   "cell_type": "code",
   "execution_count": null,
   "id": "b1431238",
   "metadata": {
    "execution": {
     "iopub.execute_input": "2025-09-09T12:57:08.699168Z",
     "iopub.status.busy": "2025-09-09T12:57:08.698987Z",
     "iopub.status.idle": "2025-09-09T12:57:08.703386Z",
     "shell.execute_reply": "2025-09-09T12:57:08.702680Z",
     "shell.execute_reply.started": "2025-09-09T12:57:08.699150Z"
    }
   },
   "outputs": [],
   "source": [
    "print(emb_array.shape)  # Should print (10, embedding_dimension)\n",
    "for emb in emb_array[:3]:  # For the first 3 embeddings\n",
    "    print(emb[:5])  # Print first 5 dimensions of each embedding"
   ]
  },
  {
   "cell_type": "markdown",
   "id": "e02965df",
   "metadata": {},
   "source": [
    "## Visualize the embeddings"
   ]
  },
  {
   "cell_type": "markdown",
   "id": "1c086141",
   "metadata": {},
   "source": [
    "Helper functions to reduce the dimensionality"
   ]
  },
  {
   "cell_type": "code",
   "execution_count": null,
   "id": "a9874eb0",
   "metadata": {
    "execution": {
     "iopub.execute_input": "2025-09-09T12:57:08.708674Z",
     "iopub.status.busy": "2025-09-09T12:57:08.708296Z",
     "iopub.status.idle": "2025-09-09T12:57:08.713680Z",
     "shell.execute_reply": "2025-09-09T12:57:08.713173Z",
     "shell.execute_reply.started": "2025-09-09T12:57:08.708642Z"
    },
    "slideshow": {
     "slide_type": "-"
    }
   },
   "outputs": [],
   "source": [
    "from pandas import DataFrame\n",
    "\n",
    "def plot_2d_embeddings(df_in: DataFrame):\n",
    "    fig = px.scatter(\n",
    "        df_in,\n",
    "        template=\"ggplot2\",\n",
    "        x=\"PC1\",\n",
    "        y=\"PC2\",\n",
    "        color=\"category\",\n",
    "        hover_data=\"sentence\",\n",
    "    )\n",
    "    fig.update_layout(margin=dict(l=20, r=20, b=20, t=20, pad=4))\n",
    "    fig.update_traces(marker_size=20)\n",
    "    return fig\n",
    "\n",
    "\n",
    "def plot_vectors(arr_in: ndarray, text_inputs: list):\n",
    "    pca = PCA(n_components=2)\n",
    "    embeddings_pca = pca.fit_transform(arr_in)\n",
    "\n",
    "    df = pd.DataFrame(embeddings_pca, columns=[\"PC1\", \"PC2\"])\n",
    "    df[\"sentence\"] = text_inputs\n",
    "    df[\"category\"] = \"other\"\n",
    "    df.loc[:4, \"category\"] = \"cats\"\n",
    "    df.loc[5:9, \"category\"] = \"dogs\"\n",
    "    fig = plot_2d_embeddings(df)\n",
    "    return fig"
   ]
  },
  {
   "attachments": {},
   "cell_type": "markdown",
   "id": "f6f12e8b-9f4e-45b1-9221-f708e712f124",
   "metadata": {
    "slideshow": {
     "slide_type": "slide"
    }
   },
   "source": [
    "What do they look like?"
   ]
  },
  {
   "cell_type": "code",
   "execution_count": null,
   "id": "e0396eb6",
   "metadata": {
    "execution": {
     "iopub.execute_input": "2025-09-09T12:57:08.717475Z",
     "iopub.status.busy": "2025-09-09T12:57:08.717184Z"
    },
    "slideshow": {
     "slide_type": "slide"
    }
   },
   "outputs": [],
   "source": [
    "fig = plot_vectors(emb_array, sent_inputs)\n",
    "fig.show()"
   ]
  },
  {
   "cell_type": "markdown",
   "id": "ac96b54f",
   "metadata": {},
   "source": [
    "![How embeddings are compared](images/weaviate-explainer-embedding-comparison.png)"
   ]
  },
  {
   "cell_type": "markdown",
   "id": "0af67faf",
   "metadata": {},
   "source": [
    "### Try adding more data"
   ]
  },
  {
   "cell_type": "code",
   "execution_count": null,
   "id": "ae9644d7",
   "metadata": {},
   "outputs": [],
   "source": [
    "def add_embeddings_to_array(new_sents: list[str], old_embeddings: ndarray, old_sents: list[str]) -> tuple[ndarray, list[str]]:\n",
    "    resp = get_embeddings(new_sents)\n",
    "    new_embeddings = old_embeddings\n",
    "    for emb in resp:\n",
    "        new_embeddings = np.vstack([new_embeddings, emb])\n",
    "    sents_out = old_sents + new_sents\n",
    "    return new_embeddings, sents_out"
   ]
  },
  {
   "cell_type": "code",
   "execution_count": null,
   "id": "acb69a06",
   "metadata": {
    "execution": {
     "iopub.execute_input": "2025-09-09T12:57:09.314145Z",
     "iopub.status.idle": "2025-09-09T12:57:09.396856Z",
     "shell.execute_reply": "2025-09-09T12:57:09.396286Z",
     "shell.execute_reply.started": "2025-09-09T12:57:09.314116Z"
    },
    "slideshow": {
     "slide_type": "slide"
    }
   },
   "outputs": [],
   "source": [
    "emb_array, sent_inputs = add_embeddings_to_array(\n",
    "    [\"Who doesn't love going to the Alps in the summer?\"],\n",
    "    emb_array,\n",
    "    sent_inputs\n",
    ")"
   ]
  },
  {
   "cell_type": "code",
   "execution_count": null,
   "id": "56e5934f",
   "metadata": {
    "execution": {
     "iopub.execute_input": "2025-09-09T12:57:09.397871Z",
     "iopub.status.busy": "2025-09-09T12:57:09.397583Z"
    },
    "slideshow": {
     "slide_type": "subslide"
    }
   },
   "outputs": [],
   "source": [
    "fig = plot_vectors(emb_array, sent_inputs)\n",
    "fig.show()"
   ]
  },
  {
   "cell_type": "markdown",
   "id": "3f74c273",
   "metadata": {},
   "source": [
    "Even more sentences"
   ]
  },
  {
   "cell_type": "code",
   "execution_count": null,
   "id": "7d501f4f",
   "metadata": {
    "slideshow": {
     "slide_type": "slide"
    }
   },
   "outputs": [],
   "source": [
    "new_sents = [\n",
    "    \"The chef prepared a delicious vegetable stir-fry for dinner.\",\n",
    "    \"The astronomer gazed at the distant stars, searching for undiscovered galaxies.\",\n",
    "    \"The young artist skillfully painted a beautiful landscape on the canvas.\",\n",
    "    \"John is loving taking his new puppy out for walks in the morning.\"\n",
    "]"
   ]
  },
  {
   "cell_type": "code",
   "execution_count": null,
   "id": "6b9410f0",
   "metadata": {
    "slideshow": {
     "slide_type": "slide"
    }
   },
   "outputs": [],
   "source": [
    "emb_array, sent_inputs = add_embeddings_to_array(new_sents, emb_array, sent_inputs)\n",
    "fig = plot_vectors(emb_array, sent_inputs)\n",
    "fig.show()"
   ]
  },
  {
   "cell_type": "markdown",
   "id": "72fe2583",
   "metadata": {},
   "source": [
    "![Vector search](images/weaviate-explainer-embedding-vector-search.png)"
   ]
  },
  {
   "cell_type": "code",
   "execution_count": null,
   "id": "f6c9c95b",
   "metadata": {},
   "outputs": [],
   "source": []
  }
 ],
 "metadata": {
  "celltoolbar": "Slideshow",
  "kernelspec": {
   "display_name": "Python 3 (ipykernel)",
   "language": "python",
   "name": "python3"
  },
  "language_info": {
   "codemirror_mode": {
    "name": "ipython",
    "version": 3
   },
   "file_extension": ".py",
   "mimetype": "text/x-python",
   "name": "python",
   "nbconvert_exporter": "python",
   "pygments_lexer": "ipython3",
   "version": "3.12.9"
  },
  "varInspector": {
   "cols": {
    "lenName": 16,
    "lenType": 16,
    "lenVar": 40
   },
   "kernels_config": {
    "python": {
     "delete_cmd_postfix": "",
     "delete_cmd_prefix": "del ",
     "library": "var_list.py",
     "varRefreshCmd": "print(var_dic_list())"
    },
    "r": {
     "delete_cmd_postfix": ") ",
     "delete_cmd_prefix": "rm(",
     "library": "var_list.r",
     "varRefreshCmd": "cat(var_dic_list()) "
    }
   },
   "types_to_exclude": [
    "module",
    "function",
    "builtin_function_or_method",
    "instance",
    "_Feature"
   ],
   "window_display": false
  }
 },
 "nbformat": 4,
 "nbformat_minor": 5
}
