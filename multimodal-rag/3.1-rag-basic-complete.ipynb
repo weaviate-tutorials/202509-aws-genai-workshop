{
 "cells": [
  {
   "cell_type": "markdown",
   "metadata": {},
   "source": [
    "# Retrieval Augmented Generation\n",
    "\n",
    "RAG combines search (retrieval) with AI text generation. First retrieve relevant documents, then use them to generate informed responses.\n",
    "\n",
    "![images/llm_2_rag_basic.png](images/llm_2_rag_basic.png)"
   ]
  },
  {
   "cell_type": "markdown",
   "metadata": {},
   "source": [
    "## Connect to Weaviate\n",
    "\n",
    "Connect to a Weaviate instance with third party credentials as needed."
   ]
  },
  {
   "cell_type": "code",
   "execution_count": null,
   "metadata": {},
   "outputs": [],
   "source": [
    "# Refresh credentials & load the Weaviate IP\n",
    "from helpers import update_creds\n",
    "\n",
    "AWS_ACCESS_KEY, AWS_SECRET_KEY, AWS_SESSION_TOKEN = update_creds()\n",
    "\n",
    "%store -r WEAVIATE_IP"
   ]
  },
  {
   "cell_type": "code",
   "execution_count": 1,
   "metadata": {},
   "outputs": [
    {
     "data": {
      "text/plain": [
       "True"
      ]
     },
     "execution_count": 1,
     "metadata": {},
     "output_type": "execute_result"
    }
   ],
   "source": [
    "import weaviate\n",
    "\n",
    "client = weaviate.connect_to_local(\n",
    "    WEAVIATE_IP,\n",
    "    headers = {\n",
    "        \"X-AWS-Access-Key\": AWS_ACCESS_KEY,\n",
    "        \"X-AWS-Secret-Key\": AWS_SECRET_KEY,\n",
    "        \"X-AWS-Session-Token\": AWS_SESSION_TOKEN,\n",
    "    }        \n",
    ")\n",
    "\n",
    "client.is_ready()"
   ]
  },
  {
   "cell_type": "markdown",
   "metadata": {},
   "source": [
    "### Start with (R) - Retrieval\n",
    "\n",
    "First step: retrieve relevant documents using search."
   ]
  },
  {
   "cell_type": "code",
   "execution_count": 2,
   "metadata": {},
   "outputs": [
    {
     "name": "stdout",
     "output_type": "stream",
     "text": [
      "Accenture forecasts fourth-quarter revenue below estimates on forex hit\n",
      "Cirrus Logic (CRUS) Q2 Earnings & Revenues Top, Shares Up\n",
      "Oracle, FedEx, UPS, Adobe and General Mills are part of Zacks Earnings Preview\n",
      "BYD posts 350% jump in Q3 net profit on sales surge\n",
      "Applied Materials (AMAT) Surpasses Q1 Earnings and Revenue Estimates\n"
     ]
    }
   ],
   "source": [
    "articles = client.collections.use(\"FinancialArticles\")\n",
    "\n",
    "response = articles.query.near_text(\n",
    "    query=\"cloud revenue\",\n",
    "    limit=5,\n",
    "    target_vector=\"title\",\n",
    ")\n",
    "\n",
    "for item in response.objects:\n",
    "    print(item.properties[\"article_title\"])"
   ]
  },
  {
   "cell_type": "markdown",
   "metadata": {},
   "source": [
    "### Add (AG) - augmented generation - to make full RAG\n",
    "\n",
    "Second step: use retrieved documents to generate informed responses."
   ]
  },
  {
   "cell_type": "markdown",
   "metadata": {},
   "source": [
    "#### Single Prompt\n",
    "\n",
    "> Generate a response per **retrieved** object."
   ]
  },
  {
   "cell_type": "code",
   "execution_count": 3,
   "metadata": {},
   "outputs": [],
   "source": [
    "# Let's add some colour to our lives :)\n",
    "BLUE   = \"\\033[94m\"\n",
    "PURPLE = \"\\033[95m\"\n",
    "RESET  = \"\\033[0\""
   ]
  },
  {
   "cell_type": "code",
   "execution_count": 4,
   "metadata": {},
   "outputs": [
    {
     "name": "stdout",
     "output_type": "stream",
     "text": [
      "\u001b[94m=== Source ===\n",
      "Accenture forecasts fourth-quarter revenue below estimates on forex hit\n",
      "\u001b[95m=== Generated Response ===\n",
      "Accenture Plc forecasted fourth-quarter revenue between $15.0 billion and $15.5 billion, below analyst expectations of $15.70 billion, due to the negative impacts of high inflation and a stronger dollar on its international earnings. As a result, shares of the company fell 2.8% in pre-market trading.\n",
      "\n",
      "\n",
      "\u001b[94m=== Source ===\n",
      "Cirrus Logic (CRUS) Q2 Earnings & Revenues Top, Shares Up\n",
      "\u001b[95m=== Generated Response ===\n",
      "Cirrus Logic, Inc. reported better-than-expected second-quarter results, with non-GAAP earnings per share of $1.36 exceeding estimates, despite a slight year-over-year revenue decline to $425.5 million. The company provided an optimistic revenue outlook for the third quarter, anticipating revenues between $510 million and $550 million, driven by solid customer relationships and ongoing investments in the audio segment, although potential risks include reliance on Apple Inc. and competitive pressures.\n",
      "\n",
      "\n",
      "\u001b[94m=== Source ===\n",
      "Oracle, FedEx, UPS, Adobe and General Mills are part of Zacks Earnings Preview\n",
      "\u001b[95m=== Generated Response ===\n",
      "Zacks.com has released a list of companies expected to report earnings surprises, including Oracle, FedEx, UPS, Adobe, and General Mills, as Q3 earnings season begins. Oracle's tepid outlook contributed to a shaky start, while other companies like FedEx and Adobe are anticipating year-over-year growth in earnings, although General Mills is projected to experience declines. Overall, Q3 earnings are expected to grow by 3.3% compared to the previous year, although estimates have decreased since June.\n",
      "\n",
      "\n",
      "\u001b[94m=== Source ===\n",
      "BYD posts 350% jump in Q3 net profit on sales surge\n",
      "\u001b[95m=== Generated Response ===\n",
      "BYD, China's leading electric vehicle manufacturer, reported a 350% increase in net profit for the third quarter, reaching 5.72 billion yuan, driven by strong sales and a diverse product range that outpaced Tesla in the Chinese market. The company has capitalized on governmental incentives, resulting in a 250% rise in combined sales of electric and hybrid vehicles for the first nine months of the year.\n",
      "\n",
      "\n",
      "\u001b[94m=== Source ===\n",
      "Applied Materials (AMAT) Surpasses Q1 Earnings and Revenue Estimates\n",
      "\u001b[95m=== Generated Response ===\n",
      "Applied Materials (AMAT) reported quarterly earnings of $1.89 per share, surpassing expectations and showing growth from $1.39 per share a year ago, with revenues of $6.27 billion also exceeding forecasts. Although the stock has underperformed compared to the market this year, it currently holds a Zacks Rank of #3 (Hold), indicating expected performance in line with the market, while future stock movements will largely depend on management's comments during the earnings call and potential revisions to earnings estimates.\n",
      "\n",
      "\n"
     ]
    }
   ],
   "source": [
    "from weaviate.classes.generate import GenerativeConfig\n",
    "\n",
    "articles = client.collections.use(\"FinancialArticles\")\n",
    "\n",
    "response = articles.generate.near_text(\n",
    "    query=\"cloud revenue\",\n",
    "    limit=5,\n",
    "    target_vector=\"title\",\n",
    "    generative_provider=GenerativeConfig.openai(\n",
    "        model=\"gpt-4o-mini\",\n",
    "    ),\n",
    "    single_prompt=\"Summarize this article to a sentence or two: {article}\"\n",
    ")\n",
    "\n",
    "for item in response.objects:\n",
    "    print(f\"{BLUE}=== Source ===\")\n",
    "    print(item.properties[\"article_title\"])\n",
    "\n",
    "    print(f\"{PURPLE}=== Generated Response ===\")\n",
    "    print(item.generative.text)\n",
    "    print(\"\\n\")"
   ]
  },
  {
   "cell_type": "markdown",
   "metadata": {},
   "source": [
    "#### Grouped Task\n",
    "\n",
    "Generate one response using all retrieved documents together."
   ]
  },
  {
   "cell_type": "code",
   "execution_count": 5,
   "metadata": {},
   "outputs": [
    {
     "name": "stdout",
     "output_type": "stream",
     "text": [
      "\u001b[95m=== Generated Response ===\n",
      "Here are the top three common trends or overall learnings from the provided articles:\n",
      "\n",
      "1. **Impact of Economic Factors on Revenue Outlook**: Several articles highlight how external economic conditions, such as inflation and currency fluctuations, significantly affect companies' revenue forecasts. For instance, Accenture faced a revenue forecast below expectations primarily due to high inflation and a stronger dollar impacting its international earnings. Similarly, economic growth dynamics were noted to influence other sectors, affecting revenues and earnings estimates.\n",
      "\n",
      "2. **Strong Earnings Surprises Amid Challenging Conditions**: Multiple companies reported better-than-expected earnings, signifying resilience despite broader economic challenges. Cirrus Logic and Applied Materials, for example, both surpassed earnings estimates. This trend underscores the ability of certain firms to perform well through strategic positioning, innovation, or strong customer relationships, even in a fluctuating economic landscape.\n",
      "\n",
      "3. **Significant Growth in Specific Sectors (e.g., Electric Vehicles and Semiconductor)**: The articles exhibit remarkable growth in specific segments, particularly electric vehicles and semiconductor equipment. BYD's substantial profit increase demonstrated its successful adaptation to market demands for EVs, while Applied Materials reported successful earnings due to its positioning in the semiconductor equipment market. This growth in niche sectors showcases the potential for significant profitability, driven by innovation and governmental incentives. \n",
      "\n",
      "Overall, these articles reflect the intricate relationship between external economic factors, sector-specific performance, and company strategies in navigating the current market landscape.\n",
      "\u001b[94m=== Source ===\n",
      "Accenture forecasts fourth-quarter revenue below estimates on forex hit\n",
      "Cirrus Logic (CRUS) Q2 Earnings & Revenues Top, Shares Up\n",
      "Oracle, FedEx, UPS, Adobe and General Mills are part of Zacks Earnings Preview\n",
      "BYD posts 350% jump in Q3 net profit on sales surge\n",
      "Applied Materials (AMAT) Surpasses Q1 Earnings and Revenue Estimates\n"
     ]
    }
   ],
   "source": [
    "response = articles.generate.near_text(\n",
    "    query=\"cloud revenue\",\n",
    "    limit=5,\n",
    "    target_vector=\"title\",\n",
    "    generative_provider=GenerativeConfig.openai(model=\"gpt-4o-mini\"),\n",
    "    grouped_task=\"Explain top 3 or so common trends or overall learnings in these articles. Please only use the provided content.\"\n",
    ")\n",
    "\n",
    "print(f\"{PURPLE}=== Generated Response ===\")\n",
    "print(response.generative.text)\n",
    "\n",
    "print(f\"{BLUE}=== Source ===\")\n",
    "for item in response.objects:\n",
    "    print(item.properties[\"article_title\"])"
   ]
  },
  {
   "cell_type": "markdown",
   "metadata": {},
   "source": [
    "![images/llm_3_rag_weaviate.png](images/llm_3_rag_weaviate.png)"
   ]
  },
  {
   "cell_type": "markdown",
   "metadata": {},
   "source": [
    "#### Specify which properties to use for grouped task\n",
    "\n",
    "Control which document fields the AI uses for generation."
   ]
  },
  {
   "cell_type": "code",
   "execution_count": 6,
   "metadata": {},
   "outputs": [
    {
     "name": "stdout",
     "output_type": "stream",
     "text": [
      "\u001b[95m=== Generated Response ===\n",
      "Based on the provided titles, the top 3 most common types of articles are:\n",
      "\n",
      "1. **Earnings Reports and Forecasts**: Articles that discuss company earnings and financial performance, such as \"Analog Devices (ADI) Q4 Earnings to Ride on End Market Growth\" and \"Applied Materials (AMAT) Surpasses Q1 Earnings and Revenue Estimates.\"\n",
      "\n",
      "2. **Stock Performance Analysis**: Articles that analyze specific stocks or companies, such as \"Why Shares of Advanced Micro Devices Surged Today\" and \"Why Shopify Stock Was Popping Today.\"\n",
      "\n",
      "3. **Market Trends and Sector Updates**: Articles that provide insights into market trends or updates on specific sectors, such as \"Technology Sector Update for 07/14/2023: ASML, WDC, META, OPRA\" and \"US STOCKS-Wall Street falls for third day on inflation jitters, crypto plunge.\"\n",
      "\u001b[94m=== Source ===\n",
      "Nvidia Dominates AI Silicon, But That Doesn't Justify A $1 Trillion Valuation\n",
      "How to Invest in Big Tech’s AI Chatbot Craze\n",
      "How Microsoft and Google Are Turning Chatbots into Money-Making Machines\n",
      "Analog Devices (ADI) Q4 Earnings to Ride on End Market Growth\n",
      "Why Shares of Advanced Micro Devices Surged Today\n",
      "Pre-Market Most Active for Sep 16, 2022 : SQQQ, TQQQ, AAOI, FDX, QQQ, TSLA, AAPL, NIO, UBER, NOK, AMPX, CCL\n",
      "Technology Sector Update for 07/14/2023: ASML, WDC, META, OPRA\n",
      "US STOCKS-Wall Street falls for third day on inflation jitters, crypto plunge\n",
      "Semiconductors Remain Key for IoT - Zacks Analyst Interviews\n",
      "Unity Software vs. Autodesk -- Which 3D Metaverse Stock Is a Better Buy?\n",
      "Noteworthy Friday Option Activity: CI, ADTN, ON\n",
      "Amazon (AMZN) to Open First Facility in New York, Add Jobs\n",
      "Wednesday Sector Laggards: Utilities, Technology & Communications\n",
      "The Fourth of July in 2023: A Celebration of Economic Resilience\n",
      "Applied Materials (AMAT) Surpasses Q1 Earnings and Revenue Estimates\n",
      "Validea Guru Fundamental Report for AAPL - 2/25/2023\n",
      "Applied Materials sales forecast misses estimates on supply chain woes\n",
      "Monday Sector Laggards: Energy, Materials\n",
      "Noteworthy Tuesday Option Activity: GILD, CMI, AR\n",
      "Akio Toyoda set to remain a force at Toyota, even as he steps aside\n",
      "3 Reasons AbbVie's and Biogen's Latest MS Drug Might Flop\n",
      "Microsoft says product chief Panay to leave, report says headed to Amazon\n",
      "Wall Street set for muted open as investors await inflation data\n",
      "Pre-Market Most Active for Feb 4, 2014 : JCP, ATMI, KORS, SIRI, ZNGA, BAC, XIV, FB, ARMH, ALU, NMR, DB\n",
      "Why Shopify Stock Was Popping Today\n",
      "US STOCKS-Wall Street falls for third straight session worries about Fed rate hike\n",
      "Recent Rally at Risk as Dow Futures Drop 60 Points\n",
      "CrowdStrike Continues to Win Big After Broadcom's Symantec Acquisition\n",
      "Dow Takes Back 13,000, But Can't Reclaim Key Trendline Support\n",
      "Does Nvidia Have a $1 Trillion Market Opportunity?\n",
      "Notable Friday Option Activity: AXL, Z, ALGN\n",
      "A Bull Market Is Coming: 2 Phenomenal Growth Stocks Insiders Are Buying Like There's No Tomorrow\n",
      "This Oil Stock Is Planning to Prosper in 2019 No Matter What Happens With Oil Prices\n",
      "Cirrus Logic (CRUS) Q2 Earnings & Revenues Top, Shares Up\n",
      "Bernstein Upgrades Booking Holdings (BKNG)\n",
      "Lucid Group: The Pros and Cons of Investing in the Stock Right Now\n",
      "Canadian National Railway Company (CNI) Ex-Dividend Date Scheduled for June 05, 2015\n",
      "TipRanks’ All-Star Analyst – Who is the Best on AMD Stock?\n",
      "Amgen, Celgene and Novartis in the Fight Against Pancreatic Cancer\n",
      "GLOBAL MARKETS-Asia shares subdued, yen shunned as euro shines\n",
      "S&P 500 Movers: GILD, CCI\n",
      "3 Stocks to Buy for Safety in the Trade War\n",
      "What's in Store for American Electric (AEP) in Q1 Earnings?\n",
      "Accenture forecasts fourth-quarter revenue below estimates on forex hit\n",
      "Don’t Let the Class-Action Suit Dissuade You from Nvidia Stock\n",
      "Best Cheap Stocks To Buy Now? 3 Tech Stocks To Watch￼\n",
      "Incyte's Jakafi Gets FDA Approval for Polycythemia Vera - Analyst Blog\n",
      "Roche's Actemra drug continues mixed COVID-19 run after failing trial with Gilead's remdesivir\n",
      "What Is Verisk Analytics, Inc.'s (NASDAQ:VRSK) Share Price Doing?\n",
      "3 Ways McDonald's Corp. Is Winning New Customers\n"
     ]
    }
   ],
   "source": [
    "response = articles.generate.near_text(\n",
    "    query=\"artificial intelligence\",\n",
    "    limit=50,\n",
    "    target_vector=\"title\",\n",
    "    grouped_task=\"What are the top 3 most common types of articles, based on these titles? Please only use the provided content.\",\n",
    "    grouped_properties=[\"article_title\"],\n",
    "\n",
    "    generative_provider=GenerativeConfig.openai(\n",
    "        model=\"gpt-4o-mini\",\n",
    "    ),\n",
    ")\n",
    "\n",
    "print(f\"{PURPLE}=== Generated Response ===\")\n",
    "print(response.generative.text)\n",
    "\n",
    "print(f\"{BLUE}=== Source ===\")\n",
    "for item in response.objects:\n",
    "    print(item.properties[\"article_title\"])"
   ]
  },
  {
   "cell_type": "markdown",
   "metadata": {},
   "source": [
    "## Set default Generative model\n",
    "\n",
    "Configure a default model to avoid specifying it each time."
   ]
  },
  {
   "cell_type": "code",
   "execution_count": 7,
   "metadata": {},
   "outputs": [],
   "source": [
    "from weaviate.classes.config import Reconfigure\n",
    "\n",
    "articles.config.update(\n",
    "    generative_config=Reconfigure.Generative.openai(\n",
    "        model=\"gpt-4o-mini\"  # Update the generative model\n",
    "    )\n",
    ")"
   ]
  },
  {
   "cell_type": "markdown",
   "metadata": {},
   "source": [
    "Try generative query without specifying the model (uses default)."
   ]
  },
  {
   "cell_type": "code",
   "execution_count": 8,
   "metadata": {},
   "outputs": [
    {
     "name": "stdout",
     "output_type": "stream",
     "text": [
      "\u001b[95m=== Generated Response ===\n",
      "The articles cover the following topics:\n",
      "\n",
      "1. **US Stocks and Cryptocurrency Impact**: The first article discusses how Wall Street indexes fell due to a significant drop in cryptocurrencies following China's ban on crypto services, as well as concerns over inflation affecting equity markets.\n",
      "\n",
      "2. **Technology Sector Update**: The second article provides an update on major tech companies, including issues faced by ASML regarding chipmaking equipment sales in China, merger talks between Western Digital and Kioxia, and declining user engagement with Meta's Threads app.\n",
      "\n",
      "3. **Economic Developments Around Independence Day**: The third article reviews economic indicators leading up to the Fourth of July celebrations, noting a decrease in inflation, increased consumer spending, and potential economic resilience, along with sector opportunities tied to the holiday.\n",
      "\n",
      "4. **TC Energy's Expansion Project**: The fourth article discusses TC Energy Corporation's approval for the GTN XPress project, which faces opposition due to environmental concerns despite regulatory approval, highlighting the ongoing tensions around energy infrastructure development.\n",
      "\n",
      "5. **Nvidia's Stock Performance and Valuation Concerns**: The fifth article analyzes Nvidia's surge in stock price following strong earnings, its dominance in the AI chip market, and questions the sustainability of its high valuation in light of potential competition and market conditions.\n",
      "\u001b[94m=== Source ===\n",
      "US STOCKS-Wall Street falls for third day on inflation jitters, crypto plunge\n",
      "Technology Sector Update for 07/14/2023: ASML, WDC, META, OPRA\n",
      "The Fourth of July in 2023: A Celebration of Economic Resilience\n",
      "TC Energy's (TRP) GTN XPress Expansion Receives FERC Approval\n",
      "Nvidia Dominates AI Silicon, But That Doesn't Justify A $1 Trillion Valuation\n"
     ]
    }
   ],
   "source": [
    "response = articles.generate.near_text(\n",
    "    query=\"cryptocurrency regulation\",\n",
    "    limit=5,\n",
    "    target_vector=\"title\",\n",
    "    grouped_task=\"Briefly, what topics are covered in these articles? Please only use the provided content.\",\n",
    ")\n",
    "\n",
    "print(f\"{PURPLE}=== Generated Response ===\")\n",
    "print(response.generative.text)\n",
    "\n",
    "print(f\"{BLUE}=== Source ===\")\n",
    "for item in response.objects:\n",
    "    print(item.properties[\"article_title\"])"
   ]
  },
  {
   "cell_type": "markdown",
   "metadata": {},
   "source": [
    "## Close the client\n",
    "\n",
    "Always close your connection when finished."
   ]
  },
  {
   "cell_type": "code",
   "execution_count": 9,
   "metadata": {},
   "outputs": [],
   "source": [
    "client.close()"
   ]
  }
 ],
 "metadata": {
  "kernelspec": {
   "display_name": "Python 3 (ipykernel)",
   "language": "python",
   "name": "python3"
  },
  "language_info": {
   "codemirror_mode": {
    "name": "ipython",
    "version": 3
   },
   "file_extension": ".py",
   "mimetype": "text/x-python",
   "name": "python",
   "nbconvert_exporter": "python",
   "pygments_lexer": "ipython3",
   "version": "3.12.9"
  }
 },
 "nbformat": 4,
 "nbformat_minor": 4
}
