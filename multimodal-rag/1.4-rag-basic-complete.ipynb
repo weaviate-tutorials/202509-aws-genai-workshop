{
 "cells": [
  {
   "cell_type": "markdown",
   "metadata": {},
   "source": [
    "# Retrieval Augmented Generation\n",
    "\n",
    "RAG combines search (retrieval) with AI text generation. First retrieve relevant documents, then use them to generate informed responses.\n",
    "\n",
    "![images/llm_2_rag_basic.png](images/llm_2_rag_basic.png)"
   ]
  },
  {
   "cell_type": "markdown",
   "metadata": {},
   "source": [
    "## Connect to Weaviate\n",
    "\n",
    "Connect to a Weaviate instance with third party credentials as needed."
   ]
  },
  {
   "cell_type": "code",
   "execution_count": 1,
   "metadata": {
    "execution": {
     "iopub.execute_input": "2025-09-09T12:44:53.712843Z",
     "iopub.status.busy": "2025-09-09T12:44:53.712667Z",
     "iopub.status.idle": "2025-09-09T12:44:54.528341Z",
     "shell.execute_reply": "2025-09-09T12:44:54.527657Z",
     "shell.execute_reply.started": "2025-09-09T12:44:53.712825Z"
    }
   },
   "outputs": [],
   "source": [
    "# Refresh credentials & load the Weaviate IP\n",
    "from helpers import update_creds\n",
    "\n",
    "AWS_ACCESS_KEY, AWS_SECRET_KEY, AWS_SESSION_TOKEN = update_creds()\n",
    "\n",
    "%store -r WEAVIATE_IP"
   ]
  },
  {
   "cell_type": "code",
   "execution_count": 2,
   "metadata": {
    "execution": {
     "iopub.execute_input": "2025-09-09T12:44:54.530261Z",
     "iopub.status.busy": "2025-09-09T12:44:54.529974Z",
     "iopub.status.idle": "2025-09-09T12:44:54.637703Z",
     "shell.execute_reply": "2025-09-09T12:44:54.637153Z",
     "shell.execute_reply.started": "2025-09-09T12:44:54.530241Z"
    }
   },
   "outputs": [
    {
     "data": {
      "text/plain": [
       "True"
      ]
     },
     "execution_count": 2,
     "metadata": {},
     "output_type": "execute_result"
    }
   ],
   "source": [
    "import weaviate\n",
    "\n",
    "client = weaviate.connect_to_local(\n",
    "    WEAVIATE_IP,\n",
    "    headers = {\n",
    "        \"X-AWS-Access-Key\": AWS_ACCESS_KEY,\n",
    "        \"X-AWS-Secret-Key\": AWS_SECRET_KEY,\n",
    "        \"X-AWS-Session-Token\": AWS_SESSION_TOKEN,\n",
    "    }\n",
    ")\n",
    "\n",
    "client.is_ready()"
   ]
  },
  {
   "cell_type": "markdown",
   "metadata": {},
   "source": [
    "### Start with (R) - Retrieval\n",
    "\n",
    "First step: retrieve relevant documents using search."
   ]
  },
  {
   "cell_type": "code",
   "execution_count": 3,
   "metadata": {
    "execution": {
     "iopub.execute_input": "2025-09-09T12:44:54.641411Z",
     "iopub.status.busy": "2025-09-09T12:44:54.641178Z",
     "iopub.status.idle": "2025-09-09T12:44:54.730271Z",
     "shell.execute_reply": "2025-09-09T12:44:54.729699Z",
     "shell.execute_reply.started": "2025-09-09T12:44:54.641392Z"
    }
   },
   "outputs": [
    {
     "name": "stdout",
     "output_type": "stream",
     "text": [
      "IBM expects to exceed annual revenue target on resilient cloud momentum\n",
      "It’s Been a Tough Run, but Don’t Dump Your Cloudflare Stock Just Yet\n",
      "Alphabet CEO Sundar Pichai Says AI Start-Ups Are Choosing Google Cloud -- Time to Buy the Stock?\n",
      "Splunk's Fiscal Q2 Revenue Declined: Here's Why That's Good News\n",
      "Tech-sponsored study criticises plan to exclude non-EU cloud vendors\n"
     ]
    }
   ],
   "source": [
    "articles = client.collections.use(\"FinancialArticles\")\n",
    "\n",
    "response = articles.query.near_text(\n",
    "    query=\"cloud revenue\",\n",
    "    limit=5,\n",
    "    target_vector=\"title\",\n",
    ")\n",
    "\n",
    "for item in response.objects:\n",
    "    print(item.properties[\"article_title\"])"
   ]
  },
  {
   "cell_type": "markdown",
   "metadata": {},
   "source": [
    "### Add (AG) - augmented generation - to make full RAG\n",
    "\n",
    "Second step: use retrieved documents to generate informed responses."
   ]
  },
  {
   "cell_type": "markdown",
   "metadata": {},
   "source": [
    "#### Single Prompt\n",
    "\n",
    "> Generate a response per **retrieved** object."
   ]
  },
  {
   "cell_type": "code",
   "execution_count": 4,
   "metadata": {
    "execution": {
     "iopub.execute_input": "2025-09-09T12:44:54.734376Z",
     "iopub.status.busy": "2025-09-09T12:44:54.734180Z",
     "iopub.status.idle": "2025-09-09T12:44:54.737098Z",
     "shell.execute_reply": "2025-09-09T12:44:54.736592Z",
     "shell.execute_reply.started": "2025-09-09T12:44:54.734347Z"
    }
   },
   "outputs": [],
   "source": [
    "# Let's add some colour to our lives :)\n",
    "BLUE   = \"\\033[94m\"\n",
    "PURPLE = \"\\033[95m\"\n",
    "RESET  = \"\\033[0\""
   ]
  },
  {
   "cell_type": "code",
   "execution_count": 5,
   "metadata": {
    "execution": {
     "iopub.execute_input": "2025-09-09T12:44:54.737768Z",
     "iopub.status.busy": "2025-09-09T12:44:54.737592Z",
     "iopub.status.idle": "2025-09-09T12:44:55.807783Z",
     "shell.execute_reply": "2025-09-09T12:44:55.807266Z",
     "shell.execute_reply.started": "2025-09-09T12:44:54.737752Z"
    }
   },
   "outputs": [
    {
     "name": "stdout",
     "output_type": "stream",
     "text": [
      "\u001b[94m=== Source ===\n",
      "IBM expects to exceed annual revenue target on resilient cloud momentum\n",
      "\u001b[95m=== Generated Response ===\n",
      "IBM reported better-than-expected quarterly revenue driven by strong demand for its digital services, despite a significant impact from the strong dollar, and now anticipates exceeding its full-year revenue growth targets.\n",
      "\n",
      "\n",
      "\u001b[94m=== Source ===\n",
      "It’s Been a Tough Run, but Don’t Dump Your Cloudflare Stock Just Yet\n",
      "\u001b[95m=== Generated Response ===\n",
      "Cloudflare (NYSE:NET) has faced recent declines in its stock price due to market corrections and competitors' disappointing outlooks, but its strong prospects and emphasis on security differentiate it from others in the Content Delivery Network market, making it a worthwhile hold for long-term investors.\n",
      "\n",
      "\n",
      "\u001b[94m=== Source ===\n",
      "Alphabet CEO Sundar Pichai Says AI Start-Ups Are Choosing Google Cloud -- Time to Buy the Stock?\n",
      "\u001b[95m=== Generated Response ===\n",
      "Alphabet's financial performance improved significantly in the second quarter of 2023, with Google Search, YouTube, and Google Cloud driving revenue growth. Google Cloud, in particular, has become a major player in the AI market, serving as the infrastructure for over 70% of AI unicorns, and is rapidly increasing its profitability. This growth in cloud services, combined with Alphabet's strong cash position and share buybacks, makes it a compelling investment amid the AI hype cycle.\n",
      "\n",
      "\n",
      "\u001b[94m=== Source ===\n",
      "Splunk's Fiscal Q2 Revenue Declined: Here's Why That's Good News\n",
      "\u001b[95m=== Generated Response ===\n",
      "Splunk's fiscal second-quarter performance was disappointing with a 5% year-over-year revenue decline, but its accelerated transition to the cloud and strong cloud performance indicate a more attractive long-term outlook.\n",
      "\n",
      "\n",
      "\u001b[94m=== Source ===\n",
      "Tech-sponsored study criticises plan to exclude non-EU cloud vendors\n",
      "\u001b[95m=== Generated Response ===\n",
      "A proposed European Union cloud security label, which could exclude non-EU cloud services providers like Amazon, Google, and Microsoft, has been criticized by a tech lobbying group as discriminatory and potentially leading to retaliatory measures from EU trading partners. The label requires cloud services providers to have their headquarters in the EU and to operate within the bloc.\n",
      "\n",
      "\n"
     ]
    }
   ],
   "source": [
    "from weaviate.classes.generate import GenerativeConfig\n",
    "\n",
    "gen_config_aws = GenerativeConfig.aws(\n",
    "    region=\"us-west-2\",\n",
    "    service=\"bedrock\",\n",
    "    model=\"us.amazon.nova-lite-v1:0\"\n",
    ")\n",
    "\n",
    "response = articles.generate.near_text(\n",
    "    query=\"cloud revenue\",\n",
    "    limit=5,\n",
    "    target_vector=\"title\",\n",
    "    # STUDENT TODO\n",
    "    # provide generative_provider and single_prompt parameters\n",
    "    # `gen_config_aws`, and `Summarize this article to a sentence or two: {article}`\n",
    "    # START_SOLUTION\n",
    "    generative_provider=gen_config_aws,\n",
    "    single_prompt=\"Summarize this article to a sentence or two: {article}\"\n",
    "    # END_SOLUTION\n",
    ")\n",
    "\n",
    "for item in response.objects:\n",
    "    print(f\"{BLUE}=== Source ===\")\n",
    "    print(item.properties[\"article_title\"])\n",
    "\n",
    "    print(f\"{PURPLE}=== Generated Response ===\")\n",
    "    print(item.generative.text)\n",
    "    print(\"\\n\")"
   ]
  },
  {
   "cell_type": "markdown",
   "metadata": {},
   "source": [
    "#### Grouped Task\n",
    "\n",
    "Generate one response using all retrieved documents together."
   ]
  },
  {
   "cell_type": "code",
   "execution_count": 6,
   "metadata": {
    "execution": {
     "iopub.execute_input": "2025-09-09T12:44:55.810537Z",
     "iopub.status.busy": "2025-09-09T12:44:55.810349Z",
     "iopub.status.idle": "2025-09-09T12:44:58.747508Z",
     "shell.execute_reply": "2025-09-09T12:44:58.746941Z",
     "shell.execute_reply.started": "2025-09-09T12:44:55.810518Z"
    }
   },
   "outputs": [
    {
     "name": "stdout",
     "output_type": "stream",
     "text": [
      "\u001b[95m=== Generated Response ===\n",
      "Here are the top three common trends or learnings from the provided articles:\n",
      "\n",
      "1. **Cloud Services and Digital Transformation**:\n",
      "   - **IBM**: IBM's focus on hybrid cloud services has driven robust growth, with cloud revenue rising by 11% and the company expecting to exceed its full-year revenue growth targets.\n",
      "   - **Google Cloud**: Alphabet's Google Cloud is seeing significant traction, particularly with AI startups, and is becoming a profitable growth lever for the company.\n",
      "   - **Splunk**: Splunk's transition to cloud services is accelerating, with cloud-based bookings and annual recurring revenue (ARR) growing strongly, despite short-term revenue declines.\n",
      "\n",
      "2. **Impact of Economic Factors and Currency Fluctuations**:\n",
      "   - **IBM**: The strong U.S. dollar has negatively impacted IBM's earnings, with a foreign exchange hit of $1.1 billion in the third quarter.\n",
      "   - **Cloud Delivery Networks**: Companies like Cloudflare and Akamai are experiencing market volatility and shifts in investor sentiment, partly due to broader economic conditions and market corrections.\n",
      "\n",
      "3. **Regulatory and Geopolitical Considerations**:\n",
      "   - **EU Cloud Security Label**: A proposed EU cloud security label that could exclude non-EU cloud service providers has been criticized as discriminatory and potentially leading to retaliatory measures from other countries. This highlights the growing importance of regulatory environments in shaping the cloud services landscape.\n",
      "\n",
      "These trends underscore the dynamic nature of the tech industry, where cloud services, economic factors, and regulatory environments play crucial roles in shaping business performance and strategies.\n",
      "\u001b[94m=== Source ===\n",
      "IBM expects to exceed annual revenue target on resilient cloud momentum\n",
      "It’s Been a Tough Run, but Don’t Dump Your Cloudflare Stock Just Yet\n",
      "Alphabet CEO Sundar Pichai Says AI Start-Ups Are Choosing Google Cloud -- Time to Buy the Stock?\n",
      "Splunk's Fiscal Q2 Revenue Declined: Here's Why That's Good News\n",
      "Tech-sponsored study criticises plan to exclude non-EU cloud vendors\n"
     ]
    }
   ],
   "source": [
    "response = articles.generate.near_text(\n",
    "    query=\"cloud revenue\",\n",
    "    limit=5,\n",
    "    target_vector=\"title\",\n",
    "    generative_provider=gen_config_aws,\n",
    "    # STUDENT TODO\n",
    "    # provide grouped_task parameter\n",
    "    # `Explain top 3 or so common trends or overall learnings in these articles. Please only use the provided content.`\n",
    "    # START_SOLUTION\n",
    "    grouped_task=\"Explain top 3 or so common trends or overall learnings in these articles. Please only use the provided content.\"\n",
    "    # END_SOLUTION\n",
    ")\n",
    "\n",
    "print(f\"{PURPLE}=== Generated Response ===\")\n",
    "print(response.generative.text)\n",
    "\n",
    "print(f\"{BLUE}=== Source ===\")\n",
    "for item in response.objects:\n",
    "    print(item.properties[\"article_title\"])"
   ]
  },
  {
   "cell_type": "markdown",
   "metadata": {},
   "source": [
    "![images/llm_3_rag_weaviate.png](images/llm_3_rag_weaviate.png)"
   ]
  },
  {
   "cell_type": "markdown",
   "metadata": {},
   "source": [
    "#### Specify which properties to use for grouped task\n",
    "\n",
    "Control which document fields the AI uses for generation."
   ]
  },
  {
   "cell_type": "code",
   "execution_count": 7,
   "metadata": {
    "execution": {
     "iopub.execute_input": "2025-09-09T12:44:58.752187Z",
     "iopub.status.busy": "2025-09-09T12:44:58.752004Z",
     "iopub.status.idle": "2025-09-09T12:45:00.464742Z",
     "shell.execute_reply": "2025-09-09T12:45:00.464127Z",
     "shell.execute_reply.started": "2025-09-09T12:44:58.752170Z"
    }
   },
   "outputs": [
    {
     "name": "stdout",
     "output_type": "stream",
     "text": [
      "\u001b[95m=== Generated Response ===\n",
      "Based on the provided article titles, the top 3 most common types of articles are:\n",
      "\n",
      "1. Investment and stock market analysis: Many articles focus on specific stocks, investment strategies, and market trends related to AI and technology companies. Examples include \"The 3 Best Growth Stocks to Buy in the Artificial Intelligence Sector,\" \"Buy Alert: 3 AI Stocks Nearing Super Attractive Entry Points,\" and \"Investors Should Buy Nvidia Stock.\"\n",
      "\n",
      "2. Company and product news: Several articles discuss recent developments, product launches, and financial performance of companies in the AI and technology sectors. Examples include \"Nvidia Dominates AI Silicon, But That Doesn't Justify A $1 Trillion Valuation,\" \"Alphabet CEO Sundar Pichai Says AI Start-Ups Are Choosing Google Cloud -- Time to Buy the Stock?,\" and \"Apple Unveils Vision Pro Headset, IOS 17, 15-inch MacBook Air And More.\"\n",
      "\n",
      "3. Opinions and expert analysis: Some articles feature opinions and insights from experts, investors, and industry analysts on various topics related to AI and technology. Examples include \"Shark Tank\" Investor Kevin O'Leary Says in the Majority of AI Plays, \"Nobody's Making Any Money\" -- but There Is 1 Notable Exception,\" \"Elon Musk Just Said That AI Could Make Tesla \"the Most Valuable Company in the World by Far.\" Here's How He Thinks It Can Happen.,\" and \"How Microsoft and Google Are Turning Chatbots into Money-Making Machines.\"\n",
      "\u001b[94m=== Source ===\n",
      "The 3 Best Growth Stocks to Buy in the Artificial Intelligence Sector\n",
      "Buy Alert: 3 AI Stocks Nearing Super Attractive Entry Points\n",
      "Will Tesla's Dojo Supercomputer Disrupt AI in 2022?\n",
      "3 AI Stocks Poised to Mint Millionaires\n",
      "How to Invest in Big Tech’s AI Chatbot Craze\n",
      "\"Shark Tank\" Investor Kevin O'Leary Says in the Majority of AI Plays, \"Nobody's Making Any Money\" -- but There Is 1 Notable Exception\n",
      "Nvidia Dominates AI Silicon, But That Doesn't Justify A $1 Trillion Valuation\n",
      "Alphabet CEO Sundar Pichai Says AI Start-Ups Are Choosing Google Cloud -- Time to Buy the Stock?\n",
      "Nvidia Stock (NASDAQ:NVDA): Striving for AI Dominance with New Chip Launch\n",
      "Salesforce (CRM) Boosts AI Offerings With Einstein 1 Upgrades\n",
      "The U.S. Just Slapped New Trade Restrictions on AI Chips to China: Here's Why Nvidia Investors Shouldn't Panic\n",
      "Elon Musk Just Said That AI Could Make Tesla \"the Most Valuable Company in the World by Far.\" Here's How He Thinks It Can Happen.\n",
      "Cathie Wood Has 2 Big Knocks Against Nvidia. Here Are 2 Artificial Intelligence (AI) Stocks She Likes More\n",
      "American Electric Power Company Inc. Shares Climb 0.1% Past Previous 52-Week High - Market Mover\n",
      "Twitter rival Koo integrates ChatGPT to help users create content\n",
      "Should You Buy Advanced Micro Devices, Inc. After Earnings Beat?\n",
      "AI Cloud-Monitoring Revenue Sends Dynatrace Shares Higher\n",
      "Could Advanced Micro Devices, Inc. Be a Millionaire-Maker Stock?\n",
      "GLOBAL MARKETS-Asian stocks edge up after strong China manufacturing survey\n",
      "Is It Too Early to Get Back Into Nvidia Stock?\n",
      "What's in Store for American Electric (AEP) in Q1 Earnings?\n",
      "Advanced Energy Industries (AEIS) Surpasses Q4 Earnings and Revenue Estimates\n",
      "Dow Movers: AXP, V\n",
      "Make Your Portfolio Smart(er) with These Top Stocks\n",
      "Investors Should Buy Nvidia Stock\n",
      "This Stock Benefits From Nvidia's Success but Trades at a More Reasonable Valuation\n",
      "Are Tensions Thawing Between Amazon and Google?\n",
      "S&P 500 Movers: TSN, CTLT\n",
      "Is Trending Stock Analog Devices, Inc. (ADI) a Buy Now?\n",
      "Nvidia Stock Has Value Way Beyond the Limits of Its GPUs\n",
      "Will Nvidia Stock Hold Key Support As It Nears 2022 Low?\n",
      "NVIDIA: GH200 Grace Hopper Superchips For Accelerated Generative AI Now In Full Production\n",
      "Apple Unveils Vision Pro Headset, IOS 17, 15-inch MacBook Air And More\n",
      "Is Nvidia (NVDA) a Solid Growth Stock? 3 Reasons to Think \"Yes\"\n",
      "Technology Sector Update for 01/05/2022: GOOG,GOOGL,AMZN,AAPL,FB,WATT,GLBE,SHOP,SHOP.TO\n",
      "Why Electronic Arts, Inc. Stock Gained 34.2% in the First Half of 2018\n",
      "3 Top Tech Stocks to Buy in June\n",
      "Tuesday's ETF with Unusual Volume: IGM\n",
      "Trading in Nvidia ETFs shows traders preparing for upbeat earnings\n",
      "Automatic Data Processing (ADP) Stock Is a Trader’s Dream Right Now\n",
      "Monday’s Vital Data: Apple Inc. (AAPL), Tesla Inc (TSLA) and Nvidia Corporation (NVDA)\n",
      "Don’t Let the Class-Action Suit Dissuade You from Nvidia Stock\n",
      "How Microsoft and Google Are Turning Chatbots into Money-Making Machines\n",
      "Why Advanced Micro Devices Stock Should Be Bought on Weakness\n",
      "Does Nvidia Have a $1 Trillion Market Opportunity?\n",
      "Intel Stock Reported a Beat, So Why Is the Stock Down?\n",
      "S&P 500 Movers: CNC, TXN\n",
      "Dow Takes Back 13,000, But Can't Reclaim Key Trendline Support\n",
      "Guru Fundamental Report for CMCSA\n",
      "Qualcomm, Jabil: Should Apple's Suppliers Look Forward To A Strong 2021?\n"
     ]
    }
   ],
   "source": [
    "response = articles.generate.near_text(\n",
    "    query=\"artificial intelligence\",\n",
    "    limit=50,\n",
    "    target_vector=\"title\",\n",
    "    grouped_task=\"What are the top 3 most common types of articles, based on these titles? Please only use the provided content.\",\n",
    "    generative_provider=gen_config_aws,\n",
    "    # STUDENT TODO\n",
    "    # provide grouped_properties parameter\n",
    "    # `[\"article_title\"]`\n",
    "    # START_SOLUTION\n",
    "    grouped_properties=[\"article_title\"]\n",
    "    # END_SOLUTION\n",
    ")\n",
    "\n",
    "print(f\"{PURPLE}=== Generated Response ===\")\n",
    "print(response.generative.text)\n",
    "\n",
    "print(f\"{BLUE}=== Source ===\")\n",
    "for item in response.objects:\n",
    "    print(item.properties[\"article_title\"])"
   ]
  },
  {
   "cell_type": "markdown",
   "metadata": {},
   "source": [
    "## Set default Generative model\n",
    "\n",
    "Configure a default model to avoid specifying it each time."
   ]
  },
  {
   "cell_type": "code",
   "execution_count": 8,
   "metadata": {
    "execution": {
     "iopub.execute_input": "2025-09-09T12:45:00.468247Z",
     "iopub.status.busy": "2025-09-09T12:45:00.468059Z",
     "iopub.status.idle": "2025-09-09T12:45:00.483889Z",
     "shell.execute_reply": "2025-09-09T12:45:00.483215Z",
     "shell.execute_reply.started": "2025-09-09T12:45:00.468229Z"
    }
   },
   "outputs": [],
   "source": [
    "from weaviate.classes.config import Reconfigure\n",
    "\n",
    "articles.config.update(\n",
    "    generative_config=Reconfigure.Generative.aws(\n",
    "        region=\"us-west-2\",\n",
    "        service=\"bedrock\",\n",
    "        model=\"us.amazon.nova-pro-v1:0\"\n",
    "    )\n",
    ")"
   ]
  },
  {
   "cell_type": "markdown",
   "metadata": {},
   "source": [
    "Try generative query without specifying the model (uses default)."
   ]
  },
  {
   "cell_type": "code",
   "execution_count": 9,
   "metadata": {
    "execution": {
     "iopub.execute_input": "2025-09-09T12:45:00.486532Z",
     "iopub.status.busy": "2025-09-09T12:45:00.486354Z",
     "iopub.status.idle": "2025-09-09T12:45:03.466421Z",
     "shell.execute_reply": "2025-09-09T12:45:03.465785Z",
     "shell.execute_reply.started": "2025-09-09T12:45:00.486515Z"
    }
   },
   "outputs": [
    {
     "name": "stdout",
     "output_type": "stream",
     "text": [
      "\u001b[95m=== Generated Response ===\n",
      "1. **US consumer watchdog proposes rules for Big Tech payments, digital wallets**: The article discusses the Consumer Financial Protection Bureau's proposal to regulate tech giants' digital payments and smartphone wallet services, subjecting companies like Alphabet, Apple, and PayPal to bank-like supervision.\n",
      "\n",
      "2. **Is Cryptocurrency Really an Investment for the Long Term?**: The article explores the viability of cryptocurrency as a long-term investment, distinguishing between digital currencies (like Bitcoin) and tokens (like Theta Fuel), and discussing the factors investors should consider for each.\n",
      "\n",
      "3. **PayPal Unveils Crypto Integration**: The article reports on PayPal's launch of the Cryptocurrencies Hub, allowing users to engage with Bitcoin and other cryptocurrencies within their PayPal accounts, and discusses the implications and reactions within the crypto community.\n",
      "\n",
      "4. **PayPal’s Recent Crypto Moves Won’t be Enough to Resist Current Headwinds**: The article analyzes PayPal's efforts to become a major player in the cryptocurrency space amidst broader market headwinds, including declining stock performance and reduced free cash flow, advising caution for investors.\n",
      "\n",
      "5. **Why Bitcoin, Ethereum, and Dogecoin Dropped Again Today**: The article examines the factors contributing to the decline in the value of Bitcoin, Ethereum, and Dogecoin, including market correlations, recent hacks, and shifting investor sentiment towards capital preservation.\n",
      "\u001b[94m=== Source ===\n",
      "US consumer watchdog proposes rules for Big Tech payments, digital wallets\n",
      "Is Cryptocurrency Really an Investment for the Long Term?\n",
      "PayPal Unveils Crypto Integration\n",
      "PayPal’s Recent Crypto Moves Won’t be Enough to Resist Current Headwinds\n",
      "Why Bitcoin, Ethereum, and Dogecoin Dropped Again Today\n"
     ]
    }
   ],
   "source": [
    "response = articles.generate.near_text(\n",
    "    query=\"cryptocurrency regulation\",\n",
    "    limit=5,\n",
    "    target_vector=\"title\",\n",
    "    grouped_task=\"Briefly, what topics are covered in these articles? Please only use the provided content.\",\n",
    ")\n",
    "\n",
    "print(f\"{PURPLE}=== Generated Response ===\")\n",
    "print(response.generative.text)\n",
    "\n",
    "print(f\"{BLUE}=== Source ===\")\n",
    "for item in response.objects:\n",
    "    print(item.properties[\"article_title\"])"
   ]
  },
  {
   "cell_type": "markdown",
   "metadata": {},
   "source": [
    "## Close the client\n",
    "\n",
    "Always close your connection when finished."
   ]
  },
  {
   "cell_type": "code",
   "execution_count": 10,
   "metadata": {
    "execution": {
     "iopub.execute_input": "2025-09-09T12:45:03.469400Z",
     "iopub.status.busy": "2025-09-09T12:45:03.469201Z",
     "iopub.status.idle": "2025-09-09T12:45:03.473104Z",
     "shell.execute_reply": "2025-09-09T12:45:03.472535Z",
     "shell.execute_reply.started": "2025-09-09T12:45:03.469383Z"
    }
   },
   "outputs": [],
   "source": [
    "client.close()"
   ]
  }
 ],
 "metadata": {
  "kernelspec": {
   "display_name": "Python 3 (ipykernel)",
   "language": "python",
   "name": "python3"
  },
  "language_info": {
   "codemirror_mode": {
    "name": "ipython",
    "version": 3
   },
   "file_extension": ".py",
   "mimetype": "text/x-python",
   "name": "python",
   "nbconvert_exporter": "python",
   "pygments_lexer": "ipython3",
   "version": "3.12.9"
  }
 },
 "nbformat": 4,
 "nbformat_minor": 4
}
