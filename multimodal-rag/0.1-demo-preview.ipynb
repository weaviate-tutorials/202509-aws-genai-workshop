{
 "cells": [
  {
   "cell_type": "markdown",
   "metadata": {},
   "source": [
    "# 🎯 Workshop Preview: What You'll Build Today\n",
    "\n",
    "Welcome to the AWS GenAI Workshop with Weaviate! Before we dive into the technical details, let's see what amazing capabilities you'll build by the end of today.\n",
    "\n",
    "**By the end of this workshop, you'll be able to:**\n",
    "- 🔍 Build intelligent semantic search systems\n",
    "- 🧠 Understand how AI \"thinks\" about text through vector embeddings\n",
    "- 📝 Create Retrieval Augmented Generation (RAG) systems\n",
    "- 🖼️ Build multimodal AI that understands both text AND images\n",
    "- ⚡ Compare different search strategies for optimal results\n",
    "\n",
    "Let's see some of these capabilities in action!"
   ]
  },
  {
   "cell_type": "markdown",
   "metadata": {},
   "source": [
    "## Setup\n",
    "First, let's connect to our Weaviate instance that's already been prepared with data."
   ]
  },
  {
   "cell_type": "code",
   "execution_count": null,
   "metadata": {},
   "outputs": [],
   "source": [
    "# Load credentials and connect to Weaviate\n",
    "from helpers import update_creds, setup_weaviate_connection\n",
    "\n",
    "AWS_ACCESS_KEY, AWS_SECRET_KEY, AWS_SESSION_TOKEN = update_creds()\n",
    "%store -r WEAVIATE_IP\n",
    "\n",
    "client = setup_weaviate_connection(WEAVIATE_IP, AWS_ACCESS_KEY, AWS_SECRET_KEY, AWS_SESSION_TOKEN)\n",
    "\n",
    "print(f\"✅ Connected to Weaviate at {WEAVIATE_IP}\")\n",
    "print(f\"🔌 Client ready: {client.is_ready()}\")"
   ]
  },
  {
   "cell_type": "markdown",
   "metadata": {},
   "source": [
    "---\n",
    "\n",
    "## 🧠 Demo 1: How AI \"Sees\" Text - Vector Embeddings Visualization\n",
    "\n",
    "Ever wondered how AI understands that \"dog\" and \"puppy\" are related, or that \"cat\" and \"lion\" are similar concepts? \n",
    "\n",
    "The magic happens through **vector embeddings** - mathematical representations that capture semantic meaning. Let's visualize this!"
   ]
  },
  {
   "cell_type": "code",
   "execution_count": null,
   "metadata": {},
   "outputs": [],
   "source": [
    "from helpers import demo_vector_visualization\n",
    "\n",
    "# This will generate embeddings for various sentences and show how similar concepts cluster together\n",
    "fig = demo_vector_visualization()\n",
    "fig.show()"
   ]
  },
  {
   "cell_type": "markdown",
   "metadata": {},
   "source": [
    "**🎯 What you just saw:**\n",
    "- Each sentence becomes a point in multi-dimensional space\n",
    "- Similar concepts (cats, dogs) automatically cluster together\n",
    "- This is the foundation of semantic search!\n",
    "\n",
    "**💡 Real-world impact:**\n",
    "- Search for \"puppy\" and find results about \"dogs\"\n",
    "- Find similar customer support tickets automatically  \n",
    "- Match job candidates to relevant positions based on skills\n",
    "\n",
    "---"
   ]
  },
  {
   "cell_type": "markdown",
   "metadata": {},
   "source": [
    "## 🔍 Demo 2: Search Revolution - Keyword vs Vector vs Hybrid\n",
    "\n",
    "Traditional search finds exact matches. **Modern AI search** understands *meaning*. Let's compare all three approaches with the same query!"
   ]
  },
  {
   "cell_type": "code",
   "execution_count": null,
   "metadata": {},
   "outputs": [],
   "source": [
    "from helpers import demo_search_comparison, load_articles_collection\n",
    "\n",
    "# Load the financial articles collection into Weaviate\n",
    "load_articles_collection(client)\n",
    "\n",
    "# Compare different search methods on our financial articles dataset\n",
    "demo_search_comparison(client)"
   ]
  },
  {
   "cell_type": "markdown",
   "metadata": {},
   "source": [
    "**🎯 What you just saw:**\n",
    "- **Keyword Search**: Fast, finds exact word matches\n",
    "- **Vector Search**: Understands concepts and context  \n",
    "- **Hybrid Search**: Best of both worlds!\n",
    "\n",
    "**💡 Real-world impact:**\n",
    "- Customer support: Find solutions even when customers describe problems differently\n",
    "- E-commerce: \"comfortable shoes\" finds \"ergonomic footwear\"\n",
    "- Legal: Find relevant cases using different terminology\n",
    "\n",
    "---"
   ]
  },
  {
   "cell_type": "markdown",
   "metadata": {},
   "source": [
    "## 🖼️ Demo 3: The Future is Multimodal - Images + Text + AI\n",
    "\n",
    "The most exciting development: AI that can \"see\" images and reason about them with text. Watch as we search PDF pages using text queries and get intelligent insights about the visual content!"
   ]
  },
  {
   "cell_type": "code",
   "execution_count": null,
   "metadata": {},
   "outputs": [],
   "source": [
    "try:\n",
    "    import pymupdf\n",
    "except ImportError:\n",
    "    %pip install -Uqq pymupdf"
   ]
  },
  {
   "cell_type": "code",
   "execution_count": null,
   "metadata": {},
   "outputs": [],
   "source": [
    "%%bash\n",
    "python pdf_to_img.py hai*.pdf\n",
    "echo \"Images extracted from AI Report PDF\""
   ]
  },
  {
   "cell_type": "code",
   "execution_count": null,
   "metadata": {},
   "outputs": [],
   "source": [
    "from helpers import demo_multimodal_rag, load_pages_collection\n",
    "\n",
    "# Load the PDF pages (as images) into Weaviate\n",
    "load_pages_collection(client)\n",
    "\n",
    "# Search through PDF pages using text, then analyze the visual content with AI\n",
    "demo_multimodal_rag(client)"
   ]
  },
  {
   "cell_type": "markdown",
   "metadata": {},
   "source": [
    "**🎯 What you just saw:**\n",
    "- Text query searched through visual content of PDF pages\n",
    "- AI analyzed the actual images and provided detailed insights\n",
    "- Combined visual and textual understanding in one system\n",
    "\n",
    "**💡 Real-world impact:**\n",
    "- **Document Analysis**: Search through scanned contracts, reports, technical diagrams\n",
    "- **Medical**: Analyze medical images with patient history context\n",
    "- **Manufacturing**: Quality control with visual inspection + text descriptions\n",
    "- **Retail**: \"Find products that look like this\" + text specifications\n",
    "\n",
    "---"
   ]
  },
  {
   "cell_type": "markdown",
   "metadata": {},
   "source": [
    "## 🚀 What's Next?\n",
    "\n",
    "**You just witnessed the power of modern AI systems!** Now let's learn how to build these capabilities step by step:\n",
    "\n",
    "### **📚 Learning Path:**\n",
    "1. **Foundation** (Notebooks 1.1-1.2): Connect to Weaviate & load data\n",
    "2. **Core Concepts** (Notebook 1.3): Deep dive into vectors and embeddings  \n",
    "3. **Search Mastery** (Notebook 1.4): Master different query types\n",
    "4. **RAG Fundamentals** (Notebook 1.5): Build your first AI-powered Q&A system\n",
    "5. **Advanced RAG** (Notebook 2.1): Handle complex documents and chunking\n",
    "6. **Multimodal Magic** (Notebooks 2.2-2.3): Build systems that understand images\n",
    "\n",
    "### **🎯 By the end, you'll have:**\n",
    "- ✅ Hands-on experience with AWS Bedrock + Weaviate\n",
    "- ✅ Working knowledge of vector databases\n",
    "- ✅ Production-ready RAG system templates\n",
    "- ✅ Multimodal AI applications you can adapt to your use cases\n",
    "\n",
    "---\n",
    "\n",
    "## 🎬 Ready to Build?\n",
    "\n",
    "**Let's close this connection and start building these capabilities from scratch!**\n",
    "\n",
    "Next stop: **Notebook 1.1 - Load Data** where you'll learn the fundamentals of working with Weaviate."
   ]
  },
  {
   "cell_type": "code",
   "execution_count": null,
   "metadata": {},
   "outputs": [],
   "source": [
    "# Clean up connection\n",
    "client.close()\n",
    "print(\"✅ Demo complete! Ready to start building...\")"
   ]
  }
 ],
 "metadata": {
  "kernelspec": {
   "display_name": "Python 3",
   "language": "python",
   "name": "python3"
  },
  "language_info": {
   "codemirror_mode": {
    "name": "ipython",
    "version": 3
   },
   "file_extension": ".py",
   "mimetype": "text/x-python",
   "name": "python",
   "nbconvert_exporter": "python",
   "pygments_lexer": "ipython3",
   "version": "3.8.5"
  }
 },
 "nbformat": 4,
 "nbformat_minor": 4
}
