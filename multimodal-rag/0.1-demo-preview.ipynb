{
 "cells": [
  {
   "cell_type": "markdown",
   "metadata": {},
   "source": [
    "# 🎯 Workshop Preview: What You'll Build Today\n",
    "\n",
    "**By the end of this workshop, you'll be able to:**\n",
    "- 🔍 Use intelligent semantic search systems\n",
    "- 🧠 Understand how AI \"thinks\" about text through vector embeddings\n",
    "- 📝 Create Retrieval Augmented Generation (RAG) systems\n",
    "- 🤖 Build AI agents that can make decisions on your behalf\n",
    "- 🖼️ Use multimodal AI that understands both text AND images\n",
    "\n",
    "Let's see some of these capabilities in action"
   ]
  },
  {
   "cell_type": "code",
   "execution_count": null,
   "metadata": {},
   "outputs": [],
   "source": [
    "# Load credentials and connect to Weaviate\n",
    "from helpers import update_creds, setup_weaviate_connection\n",
    "\n",
    "AWS_ACCESS_KEY, AWS_SECRET_KEY, AWS_SESSION_TOKEN = update_creds()\n",
    "%store -r WEAVIATE_IP\n",
    "\n",
    "client = setup_weaviate_connection(WEAVIATE_IP, AWS_ACCESS_KEY, AWS_SECRET_KEY, AWS_SESSION_TOKEN)\n",
    "\n",
    "print(f\"✅ Connected to Weaviate at {WEAVIATE_IP}\")\n",
    "print(f\"🔌 Client ready: {client.is_ready()}\")"
   ]
  },
  {
   "cell_type": "markdown",
   "metadata": {},
   "source": [
    "---\n",
    "\n",
    "## 🧠 Demo: How AI \"Sees\" Text - Vector Embeddings Visualization\n",
    "\n",
    "Ever wondered how AI understands that \"dog\" and \"puppy\" are related, or that \"cat\" and \"lion\" are similar concepts? \n",
    "\n",
    "The magic happens through **vector embeddings**. Let's visualize this:"
   ]
  },
  {
   "cell_type": "code",
   "execution_count": null,
   "metadata": {},
   "outputs": [],
   "source": [
    "from helpers import demo_vector_visualization\n",
    "\n",
    "# This will generate embeddings for various sentences and show how similar concepts cluster together\n",
    "fig = demo_vector_visualization()\n",
    "fig.show()"
   ]
  },
  {
   "cell_type": "markdown",
   "metadata": {},
   "source": [
    "**🎯 What you just saw:**\n",
    "- Each sentence becomes a point in multi-dimensional space\n",
    "- Similar concepts (cats, dogs) automatically nearer to each other\n",
    "- This is the foundation of semantic search!\n",
    "\n",
    "**💡 Real-world impact:**\n",
    "- Search for \"puppy\" and find results about \"dogs\"\n",
    "- Find similar customer support tickets automatically  \n",
    "- Match job candidates to relevant positions based on skills\n",
    "\n",
    "---"
   ]
  },
  {
   "cell_type": "markdown",
   "metadata": {},
   "source": [
    "## 🔍 Demo: Searches - Keyword vs Vector vs Hybrid\n",
    "\n",
    "Traditional search finds exact matches. **Modern AI search** understands *meaning*."
   ]
  },
  {
   "cell_type": "code",
   "execution_count": null,
   "metadata": {},
   "outputs": [],
   "source": [
    "from helpers import demo_search_comparison, load_articles_collection\n",
    "\n",
    "# Load the financial articles collection into Weaviate\n",
    "load_articles_collection(client)"
   ]
  },
  {
   "cell_type": "code",
   "execution_count": null,
   "metadata": {},
   "outputs": [],
   "source": [
    "# Compare different search methods on our financial articles dataset\n",
    "demo_search_comparison(client, query=\"ev sales\")"
   ]
  },
  {
   "cell_type": "markdown",
   "metadata": {},
   "source": [
    "## 🖼️ Demo: The Future is Multimodal - Images + Text + AI\n",
    "\n",
    "AI models can \"see\" images and reason about them with text. "
   ]
  },
  {
   "cell_type": "code",
   "execution_count": null,
   "metadata": {},
   "outputs": [],
   "source": [
    "try:\n",
    "    import pymupdf;\n",
    "except ImportError:\n",
    "    %pip install -Uqq pymupdf;"
   ]
  },
  {
   "cell_type": "code",
   "execution_count": null,
   "metadata": {},
   "outputs": [],
   "source": [
    "%%bash\n",
    "python pdf_to_img.py hai*.pdf\n",
    "echo \"Images extracted from AI Report PDF\""
   ]
  },
  {
   "cell_type": "code",
   "execution_count": null,
   "metadata": {},
   "outputs": [],
   "source": [
    "from helpers import demo_multimodal_rag, load_pages_collection\n",
    "\n",
    "# Load the PDF pages (as images) into Weaviate\n",
    "load_pages_collection(client)\n",
    "\n",
    "# Search through PDF pages using text, then analyze the visual content with AI\n",
    "demo_multimodal_rag(client)"
   ]
  },
  {
   "cell_type": "markdown",
   "metadata": {},
   "source": [
    "**🎯 What you just saw:**\n",
    "- Text query searched through visual content of PDF pages\n",
    "- AI analyzed the actual images and provided detailed insights\n",
    "- Combined visual and textual understanding in one system\n",
    "\n",
    "**💡 Real-world impact:**\n",
    "- **Document Analysis**: Search through scanned contracts, reports, technical diagrams\n",
    "- **Finance**: Analyze financial documents with rich visual data + text\n",
    "- **Manufacturing**: Quality control with visual inspection + text descriptions\n",
    "- **Retail**: \"Find products that look like this\" + text specifications\n",
    "\n",
    "---"
   ]
  },
  {
   "cell_type": "code",
   "execution_count": null,
   "metadata": {},
   "outputs": [],
   "source": [
    "# Clean up connection\n",
    "client.close()\n",
    "print(\"✅ Demo complete! Ready to start building...\")"
   ]
  },
  {
   "cell_type": "markdown",
   "metadata": {},
   "source": [
    "## 🚀 What's Next?\n",
    "\n",
    "Let's learn how to build these capabilities step by step:\n",
    "\n",
    "Next stop: **Notebook 1.1 - Load Data** where you'll learn the fundamentals of working with Weaviate."
   ]
  }
 ],
 "metadata": {
  "kernelspec": {
   "display_name": "Python 3",
   "language": "python",
   "name": "python3"
  },
  "language_info": {
   "codemirror_mode": {
    "name": "ipython",
    "version": 3
   },
   "file_extension": ".py",
   "mimetype": "text/x-python",
   "name": "python",
   "nbconvert_exporter": "python",
   "pygments_lexer": "ipython3",
   "version": "3.8.5"
  }
 },
 "nbformat": 4,
 "nbformat_minor": 4
}
