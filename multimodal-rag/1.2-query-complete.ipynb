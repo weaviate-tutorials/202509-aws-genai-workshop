{
 "cells": [
  {
   "cell_type": "markdown",
   "metadata": {},
   "source": [
    "# Query data\n",
    "\n",
    "Learn three search methods: **Vector** (semantic similarity), **Keyword** (BM25), and **Hybrid** (combines both)."
   ]
  },
  {
   "cell_type": "markdown",
   "metadata": {},
   "source": [
    "## Connect to Weaviate\n",
    "\n",
    "Connect to a Weaviate instance."
   ]
  },
  {
   "cell_type": "code",
   "execution_count": 1,
   "metadata": {
    "execution": {
     "iopub.execute_input": "2025-09-04T16:34:36.286944Z",
     "iopub.status.busy": "2025-09-04T16:34:36.286625Z",
     "iopub.status.idle": "2025-09-04T16:34:36.426265Z",
     "shell.execute_reply": "2025-09-04T16:34:36.425547Z",
     "shell.execute_reply.started": "2025-09-04T16:34:36.286921Z"
    }
   },
   "outputs": [],
   "source": [
    "# Refresh credentials & load the Weaviate IP\n",
    "from helpers import update_creds\n",
    "\n",
    "AWS_ACCESS_KEY, AWS_SECRET_KEY, AWS_SESSION_TOKEN = update_creds()\n",
    "\n",
    "%store -r WEAVIATE_IP"
   ]
  },
  {
   "cell_type": "code",
   "execution_count": null,
   "metadata": {
    "execution": {
     "iopub.execute_input": "2025-09-04T16:34:36.427294Z",
     "iopub.status.busy": "2025-09-04T16:34:36.426937Z",
     "iopub.status.idle": "2025-09-04T16:34:37.331905Z",
     "shell.execute_reply": "2025-09-04T16:34:37.331241Z",
     "shell.execute_reply.started": "2025-09-04T16:34:36.427262Z"
    }
   },
   "outputs": [
    {
     "data": {
      "text/plain": [
       "True"
      ]
     },
     "execution_count": 2,
     "metadata": {},
     "output_type": "execute_result"
    }
   ],
   "source": [
    "import weaviate\n",
    "\n",
    "client = weaviate.connect_to_local(\n",
    "    WEAVIATE_IP,\n",
    "    headers = {\n",
    "        \"X-AWS-Access-Key\": AWS_ACCESS_KEY,\n",
    "        \"X-AWS-Secret-Key\": AWS_SECRET_KEY,\n",
    "        \"X-AWS-Session-Token\": AWS_SESSION_TOKEN,\n",
    "    }\n",
    ")\n",
    "\n",
    "client.is_ready()"
   ]
  },
  {
   "cell_type": "markdown",
   "metadata": {},
   "source": [
    "### Helper function\n",
    "\n",
    "Get our collection of financial articles (5000 articles total)."
   ]
  },
  {
   "cell_type": "code",
   "execution_count": null,
   "metadata": {
    "execution": {
     "iopub.execute_input": "2025-09-04T16:34:37.337183Z",
     "iopub.status.busy": "2025-09-04T16:34:37.336989Z",
     "iopub.status.idle": "2025-09-04T16:34:37.342323Z",
     "shell.execute_reply": "2025-09-04T16:34:37.341659Z",
     "shell.execute_reply.started": "2025-09-04T16:34:37.337165Z"
    }
   },
   "outputs": [],
   "source": [
    "# STUDENT TODO:\n",
    "# Instantiate the \"FinancialArticles\" collection object\n",
    "# BEGIN_SOLUTION\n",
    "articles = client.collections.use(\"FinancialArticles\")\n",
    "# END_SOLUTION"
   ]
  },
  {
   "cell_type": "code",
   "execution_count": null,
   "metadata": {
    "execution": {
     "iopub.execute_input": "2025-09-04T16:34:37.344593Z",
     "iopub.status.busy": "2025-09-04T16:34:37.343951Z",
     "iopub.status.idle": "2025-09-04T16:34:37.351201Z",
     "shell.execute_reply": "2025-09-04T16:34:37.350416Z",
     "shell.execute_reply.started": "2025-09-04T16:34:37.344567Z"
    }
   },
   "outputs": [
    {
     "data": {
      "text/plain": [
       "5000"
      ]
     },
     "execution_count": 4,
     "metadata": {},
     "output_type": "execute_result"
    }
   ],
   "source": [
    "# STUDENT TODO:\n",
    "# Check the collection size (hint: use len())\n",
    "# BEGIN_SOLUTION\n",
    "len(articles)\n",
    "# END_SOLUTION"
   ]
  },
  {
   "cell_type": "markdown",
   "metadata": {},
   "source": [
    "### Fetch objects"
   ]
  },
  {
   "cell_type": "code",
   "execution_count": null,
   "metadata": {},
   "outputs": [
    {
     "name": "stdout",
     "output_type": "stream",
     "text": [
      "Returned object count: 5\n",
      "Qualcomm, Jabil: Should Apple's Suppliers Look Forward To A Strong 2021?\n",
      "Apple Implications Overshadow Qualcomm’s Earnings Beat\n",
      "Apple's Steady Results Prove Why It's the Ultimate Warren Buffett Stock\n",
      "Thursday’s Vital Data: Intel, Apple and Nvidia\n",
      "Is Unity Stock a Buy as It Gets a Major Boost From Apple?\n"
     ]
    }
   ],
   "source": [
    "# STUDENT TODO:\n",
    "# Use .query.fetch_objects() to fetch 5 objects from the collection\n",
    "# And iterate through the response to print the article titles\n",
    "# Hint: response.objects gives you a list of the objects; each object has a .properties dictionary\n",
    "# BEGIN_SOLUTION\n",
    "response = articles.query.fetch_objects(limit=5)\n",
    "\n",
    "for item in response.objects:\n",
    "    print(item.properties[\"article_title\"])\n",
    "# END_SOLUTION"
   ]
  },
  {
   "cell_type": "markdown",
   "metadata": {},
   "source": [
    "## Filters\n",
    "\n",
    "Add conditions to narrow down search results before querying."
   ]
  },
  {
   "cell_type": "markdown",
   "metadata": {},
   "source": [
    "### Fetch with filters"
   ]
  },
  {
   "cell_type": "code",
   "execution_count": null,
   "metadata": {
    "execution": {
     "iopub.execute_input": "2025-09-04T16:34:37.503392Z",
     "iopub.status.busy": "2025-09-04T16:34:37.503097Z",
     "iopub.status.idle": "2025-09-04T16:34:37.517885Z",
     "shell.execute_reply": "2025-09-04T16:34:37.517237Z",
     "shell.execute_reply.started": "2025-09-04T16:34:37.503362Z"
    }
   },
   "outputs": [
    {
     "name": "stdout",
     "output_type": "stream",
     "text": [
      "Returned object count: 5\n",
      "Qualcomm, Jabil: Should Apple's Suppliers Look Forward To A Strong 2021?\n",
      "Apple Implications Overshadow Qualcomm’s Earnings Beat\n",
      "Apple's Steady Results Prove Why It's the Ultimate Warren Buffett Stock\n",
      "Thursday’s Vital Data: Intel, Apple and Nvidia\n",
      "Is Unity Stock a Buy as It Gets a Major Boost From Apple?\n"
     ]
    }
   ],
   "source": [
    "from weaviate.classes.query import Filter\n",
    "\n",
    "# STUDENT TODO:\n",
    "# Perfrom the same query as above, but filter the results to only include articles with \"apple\" in the title\n",
    "# Hint: use Filter.by_property(<property_name>).like(<search_pattern>)\n",
    "# BEGIN_SOLUTION\n",
    "response = articles.query.fetch_objects(\n",
    "    limit=5,\n",
    "    filters=Filter.by_property(\"article_title\").like(\"apple\")\n",
    ")\n",
    "# END_SOLUTION\n",
    "\n",
    "print(f\"Returned object count: {len(response.objects)}\")\n",
    "\n",
    "for item in response.objects:\n",
    "    print(item.properties[\"article_title\"])"
   ]
  },
  {
   "cell_type": "code",
   "execution_count": null,
   "metadata": {
    "execution": {
     "iopub.execute_input": "2025-09-04T16:34:37.519010Z",
     "iopub.status.busy": "2025-09-04T16:34:37.518786Z",
     "iopub.status.idle": "2025-09-04T16:34:37.533534Z",
     "shell.execute_reply": "2025-09-04T16:34:37.532699Z",
     "shell.execute_reply.started": "2025-09-04T16:34:37.518975Z"
    }
   },
   "outputs": [
    {
     "name": "stdout",
     "output_type": "stream",
     "text": [
      "Returned object count: 2\n",
      "ANALYSIS-Australia's push for faster EV uptake will be slow to charge\n",
      "BMW AG (BAMXF) Announces Ambitious EV Plans in China, Austria\n"
     ]
    }
   ],
   "source": [
    "from weaviate.classes.query import Filter\n",
    "\n",
    "# STUDENT TODO:\n",
    "# Try another filter - fetch articles with \"aust*\" and \"ev\" in the title\n",
    "# Hint: use & to combine multiple Filter conditions\n",
    "# BEGIN_SOLUTION\n",
    "response = articles.query.fetch_objects(\n",
    "    limit=5,\n",
    "    filters=(\n",
    "        Filter.by_property(\"article_title\").like(\"aust*\") &\n",
    "        Filter.by_property(\"article_title\").like(\"ev\")\n",
    "    )\n",
    ")\n",
    "# END_SOLUTION\n",
    "\n",
    "print(f\"Returned object count: {len(response.objects)}\")\n",
    "\n",
    "for item in response.objects:\n",
    "    print(item.properties[\"article_title\"])"
   ]
  },
  {
   "cell_type": "markdown",
   "metadata": {},
   "source": [
    "## Keyword Search\n",
    "\n",
    "![images/search_keyword.png](images/search_keyword.png)\n",
    "\n",
    "[Docs - keyword/bm25](https://weaviate.io/developers/weaviate/search/bm25)"
   ]
  },
  {
   "cell_type": "code",
   "execution_count": null,
   "metadata": {
    "execution": {
     "iopub.execute_input": "2025-09-04T16:34:37.614748Z",
     "iopub.status.busy": "2025-09-04T16:34:37.614552Z",
     "iopub.status.idle": "2025-09-04T16:34:37.627374Z",
     "shell.execute_reply": "2025-09-04T16:34:37.626557Z",
     "shell.execute_reply.started": "2025-09-04T16:34:37.614729Z"
    }
   },
   "outputs": [
    {
     "name": "stdout",
     "output_type": "stream",
     "text": [
      "5 Big Takeaways From Costco's Earnings Report\n",
      "1 Number To Watch in Alphabet's Earnings Report\n",
      "Here's What Stood Out in Starbucks' Earnings Report\n",
      "MercadoLibre (MELI) to Report Q2 Earnings: What's in Store?\n",
      "TripAdvisor (TRIP) to Report Q3 Earnings: What's in Store?\n"
     ]
    }
   ],
   "source": [
    "# STUDENT TODO:\n",
    "# Construct a BM25 query to find articles about \"earnings report\"\n",
    "# Query the \"article_title\" property\n",
    "# Limit the results to 5 articles\n",
    "# BEGIN_SOLUTION\n",
    "response = articles.query.bm25(\n",
    "    query=\"earnings report\",\n",
    "    query_properties=[\"article_title\"],\n",
    "    limit=5,\n",
    ")\n",
    "# END_SOLUTION\n",
    "\n",
    "for item in response.objects:\n",
    "    print(item.properties[\"article_title\"])"
   ]
  },
  {
   "cell_type": "code",
   "execution_count": 11,
   "metadata": {
    "execution": {
     "iopub.execute_input": "2025-09-04T16:34:37.628414Z",
     "iopub.status.busy": "2025-09-04T16:34:37.628202Z",
     "iopub.status.idle": "2025-09-04T16:34:37.641119Z",
     "shell.execute_reply": "2025-09-04T16:34:37.640469Z",
     "shell.execute_reply.started": "2025-09-04T16:34:37.628396Z"
    }
   },
   "outputs": [
    {
     "name": "stdout",
     "output_type": "stream",
     "text": [
      "5 Big Takeaways From Costco's Earnings Report\n",
      "2.764371156692505\n",
      "1 Number To Watch in Alphabet's Earnings Report\n",
      "2.6476149559020996\n",
      "Here's What Stood Out in Starbucks' Earnings Report\n",
      "2.6476149559020996\n",
      "MercadoLibre (MELI) to Report Q2 Earnings: What's in Store?\n",
      "2.5403215885162354\n",
      "TripAdvisor (TRIP) to Report Q3 Earnings: What's in Store?\n",
      "2.5403215885162354\n"
     ]
    }
   ],
   "source": [
    "from weaviate.classes.query import MetadataQuery\n",
    "\n",
    "response = articles.query.bm25(\n",
    "    query=\"earnings report\",\n",
    "    query_properties=[\"article_title\"],\n",
    "    limit=5,\n",
    "    return_metadata=MetadataQuery(score=True)\n",
    ")\n",
    "\n",
    "for item in response.objects:\n",
    "    print(item.properties[\"article_title\"])\n",
    "    print(item.metadata.score)"
   ]
  },
  {
   "cell_type": "code",
   "execution_count": null,
   "metadata": {
    "execution": {
     "iopub.execute_input": "2025-09-04T16:34:37.642340Z",
     "iopub.status.busy": "2025-09-04T16:34:37.642112Z",
     "iopub.status.idle": "2025-09-04T16:34:37.726782Z",
     "shell.execute_reply": "2025-09-04T16:34:37.725861Z",
     "shell.execute_reply.started": "2025-09-04T16:34:37.642320Z"
    }
   },
   "outputs": [
    {
     "name": "stdout",
     "output_type": "stream",
     "text": [
      "Drug Stocks' Earnings Previews: KERX, BXLT, BMRN, AGEN, IMGN\n",
      "2.3630902767181396\n",
      "Drug Stocks Earnings Slated for Feb 14: INCY, PRTA & More\n",
      "2.322143316268921\n",
      "Q4 Earnings Inform the Market - Ahead of Wall Street\n",
      "2.313457727432251\n",
      "Can PVH Corp.'s (PVH) Q2 Earnings Maintain Solid Trend?\n",
      "2.306293249130249\n",
      "Semiconductor Stocks Q1 Earnings Preview: SNDK, XLNX, TXN\n",
      "2.304908514022827\n"
     ]
    }
   ],
   "source": [
    "from weaviate.classes.query import MetadataQuery\n",
    "\n",
    "# STUDENT TODO:\n",
    "# Perform the same query, but also return the score metadata\n",
    "# Hint: from weaviate.classes.query import MetadataQuery\n",
    "# Use this in the return_metadata parameter: MetadataQuery(score=True)\n",
    "# BEGIN_SOLUTION\n",
    "response = articles.query.bm25(\n",
    "    query=\"earnings report\",\n",
    "    query_properties=[\"article_title\", \"article\"],\n",
    "    limit=5,\n",
    "    return_metadata=MetadataQuery(score=True)\n",
    ")\n",
    "# END_SOLUTION\n",
    "\n",
    "for item in response.objects:\n",
    "    print(item.properties[\"article_title\"])\n",
    "    print(item.metadata.score)"
   ]
  },
  {
   "cell_type": "markdown",
   "metadata": {},
   "source": [
    "## Vector search\n",
    "\n",
    "![images/search_vector.png](images/search_vector.png)\n",
    "\n",
    "[Docs - near_text](https://weaviate.io/developers/weaviate/search/similarity#an-input-medium)"
   ]
  },
  {
   "cell_type": "code",
   "execution_count": null,
   "metadata": {},
   "outputs": [
    {
     "name": "stdout",
     "output_type": "stream",
     "text": [
      "Technology Sector Update for 05/18/2023: GOOG, META, SNOW\n",
      "Technology Sector Update for 07/28/2023: INTC, YOU, META\n",
      "Technology Sector Update for 05/17/2023: IBM, GOOG, TSLA, TME\n",
      "Technology Sector Update for 01/19/2018: ZAYO,IBM,CRM,LRAD,ALGN,IPHI,WD\n",
      "Technology Sector Update for 01/05/2022: GOOG,GOOGL,AMZN,AAPL,FB,WATT,GLBE,SHOP,SHOP.TO\n"
     ]
    }
   ],
   "source": [
    "# STUDENT TODO:\n",
    "# Perform a `near_text` query to find the top 5 articles\n",
    "# with `title` target vector closest to \"tech market trends\"\n",
    "# BEGIN_SOLUTION\n",
    "response = articles.query.near_text(\n",
    "    query=\"tech market trends\",\n",
    "    limit=5,\n",
    "    target_vector=\"title\"\n",
    ")\n",
    "# END_SOLUTION\n",
    "\n",
    "for item in response.objects:\n",
    "    print(item.properties[\"article_title\"])"
   ]
  },
  {
   "cell_type": "code",
   "execution_count": null,
   "metadata": {},
   "outputs": [
    {
     "name": "stdout",
     "output_type": "stream",
     "text": [
      "Technology Sector Update for 05/18/2023: GOOG, META, SNOW\n",
      "0.5262356400489807\n",
      "Technology Sector Update for 07/28/2023: INTC, YOU, META\n",
      "0.5352218151092529\n",
      "Technology Sector Update for 05/17/2023: IBM, GOOG, TSLA, TME\n",
      "0.5485501289367676\n",
      "Technology Sector Update for 01/19/2018: ZAYO,IBM,CRM,LRAD,ALGN,IPHI,WD\n",
      "0.5497270822525024\n",
      "Technology Sector Update for 01/05/2022: GOOG,GOOGL,AMZN,AAPL,FB,WATT,GLBE,SHOP,SHOP.TO\n",
      "0.5543919801712036\n"
     ]
    }
   ],
   "source": [
    "from weaviate.classes.query import MetadataQuery\n",
    "\n",
    "# STUDENT TODO:\n",
    "# Perform the same query, but also return the distance metadata\n",
    "# Use this in the return_metadata parameter: MetadataQuery(distance=True)\n",
    "# BEGIN_SOLUTION\n",
    "response = articles.query.near_text(\n",
    "    query=\"tech market trends\",\n",
    "    limit=5,\n",
    "    target_vector=\"title\",\n",
    "    return_metadata=MetadataQuery(distance=True)\n",
    ")\n",
    "# END\n",
    "\n",
    "for item in response.objects:\n",
    "    print(item.properties[\"article_title\"])\n",
    "    # STUDENT TODO:\n",
    "    # Print the distance metadata for each item\n",
    "    # BEGIN_SOLUTION\n",
    "    print(item.metadata.distance)\n",
    "    # END_SOLUTION"
   ]
  },
  {
   "cell_type": "markdown",
   "metadata": {},
   "source": [
    "## Search with filters\n",
    "\n",
    "Combine vector search with filters for precise results."
   ]
  },
  {
   "cell_type": "code",
   "execution_count": null,
   "metadata": {},
   "outputs": [
    {
     "name": "stdout",
     "output_type": "stream",
     "text": [
      "Returned object count: 5\n",
      "3 Key Ways Netflix Has Changed Its Content Strategy\n",
      "How I Knew to Stay Away from Netflix Before Earnings\n",
      "Could This Be Netflix's Next Big Move?\n",
      "Zacks Investment Ideas feature highlights: Microsoft, Netflix, Nvidia, Ionq and Oracle\n",
      "The Zacks Analyst Blog Highlights: Time Warner, Netflix, Altria Group, Disney, CBS and Comcast\n"
     ]
    }
   ],
   "source": [
    "from weaviate.classes.query import Filter\n",
    "\n",
    "# STUDENT TODO:\n",
    "# Perform the near_text query again, but filter the results to only include articles with \"netflix\" in the title\n",
    "# Hint: use Filter.by_property(<property_name>).like(<search_pattern>)\n",
    "# BEGIN_SOLUTION\n",
    "response = articles.query.near_text(\n",
    "    query=\"strategy\",\n",
    "    target_vector=\"title\",\n",
    "    limit=5,\n",
    "    filters=Filter.by_property(\"article_title\").like(\"netflix\")\n",
    ")\n",
    "# END_SOLUTION\n",
    "\n",
    "print(f\"Returned object count: {len(response.objects)}\")\n",
    "\n",
    "for item in response.objects:\n",
    "    print(item.properties[\"article_title\"])"
   ]
  },
  {
   "cell_type": "markdown",
   "metadata": {},
   "source": [
    "## Hybrid search\n",
    "\n",
    "![images/search_hybrid.png](images/search_hybrid.png)\n",
    "\n",
    "[Docs - hybrid](https://weaviate.io/developers/weaviate/search/hybrid)"
   ]
  },
  {
   "cell_type": "code",
   "execution_count": null,
   "metadata": {
    "execution": {
     "iopub.execute_input": "2025-09-04T16:34:37.816411Z",
     "iopub.status.busy": "2025-09-04T16:34:37.815934Z",
     "iopub.status.idle": "2025-09-04T16:34:37.899323Z",
     "shell.execute_reply": "2025-09-04T16:34:37.898462Z",
     "shell.execute_reply.started": "2025-09-04T16:34:37.816390Z"
    }
   },
   "outputs": [
    {
     "name": "stdout",
     "output_type": "stream",
     "text": [
      "New Quarterly Earnings Results for DIS, CMG, SNAP and More\n",
      "Electronic Arts' (EA) Q3 Earnings and Revenues Increase Y/Y\n",
      "Q4 Earnings Inform the Market - Ahead of Wall Street\n",
      "Earnings Season: 3 Upcoming Reports Investors Can't Ignore\n",
      "A Review of Big Techs’ Earnings Results\n"
     ]
    }
   ],
   "source": [
    "# STUDENT TODO:\n",
    "# Perform a hybrid query to find articles about \"earnings report\"\n",
    "# Query the \"article_title\" property (the property used for BM25)\n",
    "# Target the \"title\" vector (the vector used for near_text)\n",
    "# Limit the results to 5 articles\n",
    "# Use an alpha value of 0.7 to weight the vector search results more heavily\n",
    "# BEGIN_SOLUTION\n",
    "response = articles.query.hybrid(\n",
    "    query=\"earnings report\",\n",
    "    query_properties=[\"article_title\"],\n",
    "    limit=5,\n",
    "    target_vector=\"title\",\n",
    "    alpha=0.7\n",
    ")\n",
    "# END_SOLUTION\n",
    "\n",
    "for item in response.objects:\n",
    "    print(item.properties[\"article_title\"])"
   ]
  },
  {
   "cell_type": "markdown",
   "metadata": {},
   "source": [
    "### Hybrid - Explain score\n",
    "\n",
    "See how hybrid search combines vector and keyword scores."
   ]
  },
  {
   "cell_type": "code",
   "execution_count": null,
   "metadata": {
    "execution": {
     "iopub.execute_input": "2025-09-04T16:34:37.905462Z",
     "iopub.status.busy": "2025-09-04T16:34:37.904935Z",
     "iopub.status.idle": "2025-09-04T16:34:37.983548Z",
     "shell.execute_reply": "2025-09-04T16:34:37.982637Z",
     "shell.execute_reply.started": "2025-09-04T16:34:37.905429Z"
    }
   },
   "outputs": [
    {
     "name": "stdout",
     "output_type": "stream",
     "text": [
      "New Quarterly Earnings Results for DIS, CMG, SNAP and More\n",
      "0.699999988079071\n",
      "\n",
      "Hybrid (Result Set vector,hybridVector) Document 174bf34a-639b-5229-bd24-532c7f91ccac: original score 0.38914192, normalized score: 0.7\n",
      "Electronic Arts' (EA) Q3 Earnings and Revenues Increase Y/Y\n",
      "0.6494570374488831\n",
      "\n",
      "Hybrid (Result Set vector,hybridVector) Document 7c868813-e065-5e4a-9261-cfd7f197fcf7: original score 0.38081086, normalized score: 0.64945704\n",
      "Q4 Earnings Inform the Market - Ahead of Wall Street\n",
      "0.6336445212364197\n",
      "\n",
      "Hybrid (Result Set vector,hybridVector) Document 1b47ac7d-ac03-588e-a030-b18e9bb4a056: original score 0.37820446, normalized score: 0.6336445\n",
      "Earnings Season: 3 Upcoming Reports Investors Can't Ignore\n",
      "0.5480558276176453\n",
      "\n",
      "Hybrid (Result Set vector,hybridVector) Document 841143ca-0896-51ef-b2c3-c4d2a4dfa1a5: original score 0.36409676, normalized score: 0.5480558\n",
      "A Review of Big Techs’ Earnings Results\n",
      "0.5287110805511475\n",
      "\n",
      "Hybrid (Result Set vector,hybridVector) Document b49744c9-6f88-5943-a0da-1ad149ff6a3a: original score 0.36090815, normalized score: 0.5287111\n"
     ]
    }
   ],
   "source": [
    "from weaviate.classes.query import MetadataQuery\n",
    "\n",
    "# STUDENT TODO:\n",
    "# Perform the same query, but also return the score and explain_score metadata\n",
    "# Use this in the return_metadata parameter: MetadataQuery(score=True, explain_score=True)\n",
    "# BEGIN_SOLUTION\n",
    "response = articles.query.hybrid(\n",
    "    query=\"earnings report\",\n",
    "    query_properties=[\"article_title\"],\n",
    "    limit=5,\n",
    "    target_vector=\"title\",\n",
    "    alpha=0.7,\n",
    "    return_metadata=MetadataQuery(score=True, explain_score=True)\n",
    ")\n",
    "# END_SOLUTION\n",
    "\n",
    "for item in response.objects:\n",
    "    print(item.properties[\"article_title\"])\n",
    "    print(item.metadata.score)\n",
    "    print(item.metadata.explain_score)"
   ]
  },
  {
   "cell_type": "markdown",
   "metadata": {},
   "source": [
    "## Close the client\n",
    "\n",
    "Always close your connection when finished."
   ]
  },
  {
   "cell_type": "code",
   "execution_count": 16,
   "metadata": {
    "execution": {
     "iopub.execute_input": "2025-09-04T16:34:37.987491Z",
     "iopub.status.busy": "2025-09-04T16:34:37.987013Z",
     "iopub.status.idle": "2025-09-04T16:34:37.994092Z",
     "shell.execute_reply": "2025-09-04T16:34:37.993042Z",
     "shell.execute_reply.started": "2025-09-04T16:34:37.987459Z"
    }
   },
   "outputs": [],
   "source": [
    "client.close()"
   ]
  }
 ],
 "metadata": {
  "kernelspec": {
   "display_name": "Python 3 (ipykernel)",
   "language": "python",
   "name": "python3"
  },
  "language_info": {
   "codemirror_mode": {
    "name": "ipython",
    "version": 3
   },
   "file_extension": ".py",
   "mimetype": "text/x-python",
   "name": "python",
   "nbconvert_exporter": "python",
   "pygments_lexer": "ipython3",
   "version": "3.12.9"
  }
 },
 "nbformat": 4,
 "nbformat_minor": 4
}
