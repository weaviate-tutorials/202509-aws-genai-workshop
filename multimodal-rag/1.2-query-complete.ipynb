{
 "cells": [
  {
   "cell_type": "markdown",
   "metadata": {},
   "source": [
    "# Query data\n",
    "\n",
    "Learn three search methods: **Vector** (semantic similarity), **Keyword** (BM25), and **Hybrid** (combines both)."
   ]
  },
  {
   "cell_type": "markdown",
   "metadata": {},
   "source": [
    "## Connect to Weaviate\n",
    "\n",
    "Connect to a Weaviate instance."
   ]
  },
  {
   "cell_type": "code",
   "execution_count": 1,
   "metadata": {
    "execution": {
     "iopub.execute_input": "2025-09-09T12:56:47.248170Z",
     "iopub.status.busy": "2025-09-09T12:56:47.247984Z",
     "iopub.status.idle": "2025-09-09T12:56:48.053070Z",
     "shell.execute_reply": "2025-09-09T12:56:48.052627Z",
     "shell.execute_reply.started": "2025-09-09T12:56:47.248152Z"
    }
   },
   "outputs": [],
   "source": [
    "# Refresh credentials & load the Weaviate IP\n",
    "from helpers import update_creds\n",
    "\n",
    "AWS_ACCESS_KEY, AWS_SECRET_KEY, AWS_SESSION_TOKEN = update_creds()\n",
    "\n",
    "%store -r WEAVIATE_IP"
   ]
  },
  {
   "cell_type": "code",
   "execution_count": 2,
   "metadata": {
    "execution": {
     "iopub.execute_input": "2025-09-09T12:56:48.053941Z",
     "iopub.status.busy": "2025-09-09T12:56:48.053652Z",
     "iopub.status.idle": "2025-09-09T12:56:48.259307Z",
     "shell.execute_reply": "2025-09-09T12:56:48.258766Z",
     "shell.execute_reply.started": "2025-09-09T12:56:48.053920Z"
    }
   },
   "outputs": [
    {
     "data": {
      "text/plain": [
       "True"
      ]
     },
     "execution_count": 2,
     "metadata": {},
     "output_type": "execute_result"
    }
   ],
   "source": [
    "import weaviate\n",
    "\n",
    "client = weaviate.connect_to_local(\n",
    "    WEAVIATE_IP,\n",
    "    headers = {\n",
    "        \"X-AWS-Access-Key\": AWS_ACCESS_KEY,\n",
    "        \"X-AWS-Secret-Key\": AWS_SECRET_KEY,\n",
    "        \"X-AWS-Session-Token\": AWS_SESSION_TOKEN,\n",
    "    }\n",
    ")\n",
    "\n",
    "client.is_ready()"
   ]
  },
  {
   "cell_type": "markdown",
   "metadata": {},
   "source": [
    "### Helper function\n",
    "\n",
    "Get our collection of financial articles (5000 articles total)."
   ]
  },
  {
   "cell_type": "code",
   "execution_count": 3,
   "metadata": {
    "execution": {
     "iopub.execute_input": "2025-09-09T12:56:48.262840Z",
     "iopub.status.busy": "2025-09-09T12:56:48.262654Z",
     "iopub.status.idle": "2025-09-09T12:56:48.266122Z",
     "shell.execute_reply": "2025-09-09T12:56:48.265509Z",
     "shell.execute_reply.started": "2025-09-09T12:56:48.262823Z"
    }
   },
   "outputs": [],
   "source": [
    "# STUDENT TODO:\n",
    "# Instantiate the \"FinancialArticles\" collection object\n",
    "# BEGIN_SOLUTION\n",
    "articles = client.collections.use(\"FinancialArticles\")\n",
    "# END_SOLUTION"
   ]
  },
  {
   "cell_type": "markdown",
   "metadata": {},
   "source": [
    "## Filters\n",
    "\n",
    "Add conditions to narrow down search results before querying."
   ]
  },
  {
   "cell_type": "markdown",
   "metadata": {},
   "source": [
    "### Fetch with filters"
   ]
  },
  {
   "cell_type": "code",
   "execution_count": 4,
   "metadata": {
    "execution": {
     "iopub.execute_input": "2025-09-09T12:56:48.270745Z",
     "iopub.status.busy": "2025-09-09T12:56:48.270556Z",
     "iopub.status.idle": "2025-09-09T12:56:48.278933Z",
     "shell.execute_reply": "2025-09-09T12:56:48.278488Z",
     "shell.execute_reply.started": "2025-09-09T12:56:48.270728Z"
    }
   },
   "outputs": [
    {
     "name": "stdout",
     "output_type": "stream",
     "text": [
      "Returned object count: 5\n",
      "Qualcomm, Jabil: Should Apple's Suppliers Look Forward To A Strong 2021?\n",
      "Apple Implications Overshadow Qualcomm’s Earnings Beat\n",
      "Apple's Steady Results Prove Why It's the Ultimate Warren Buffett Stock\n",
      "Thursday’s Vital Data: Intel, Apple and Nvidia\n",
      "Buying This Fund Is Like Buying Apple With a 12.1% Dividend\n"
     ]
    }
   ],
   "source": [
    "from weaviate.classes.query import Filter\n",
    "\n",
    "# STUDENT TODO:\n",
    "# Perfrom articles.query.fetch_objects, but add a filter the results\n",
    "# to only include articles with \"apple\" in the title\n",
    "# Hint: filters=Filter.by_property(<property_name>).like(<search_pattern>)\n",
    "# BEGIN_SOLUTION\n",
    "response = articles.query.fetch_objects(\n",
    "    limit=5,\n",
    "    filters=Filter.by_property(\"article_title\").like(\"apple\")\n",
    ")\n",
    "# END_SOLUTION\n",
    "\n",
    "print(f\"Returned object count: {len(response.objects)}\")\n",
    "\n",
    "for item in response.objects:\n",
    "    print(item.properties[\"article_title\"])"
   ]
  },
  {
   "cell_type": "code",
   "execution_count": 5,
   "metadata": {
    "execution": {
     "iopub.execute_input": "2025-09-09T12:56:48.279646Z",
     "iopub.status.busy": "2025-09-09T12:56:48.279461Z",
     "iopub.status.idle": "2025-09-09T12:56:48.284939Z",
     "shell.execute_reply": "2025-09-09T12:56:48.284526Z",
     "shell.execute_reply.started": "2025-09-09T12:56:48.279628Z"
    }
   },
   "outputs": [
    {
     "name": "stdout",
     "output_type": "stream",
     "text": [
      "Returned object count: 2\n",
      "ANALYSIS-Australia's push for faster EV uptake will be slow to charge\n",
      "BMW AG (BAMXF) Announces Ambitious EV Plans in China, Austria\n"
     ]
    }
   ],
   "source": [
    "from weaviate.classes.query import Filter\n",
    "\n",
    "response = articles.query.fetch_objects(\n",
    "    limit=5,\n",
    "    filters=(\n",
    "        Filter.by_property(\"article_title\").like(\"aust*\") &\n",
    "        Filter.by_property(\"article_title\").like(\"ev\")\n",
    "    )\n",
    ")\n",
    "\n",
    "print(f\"Returned object count: {len(response.objects)}\")\n",
    "\n",
    "for item in response.objects:\n",
    "    print(item.properties[\"article_title\"])"
   ]
  },
  {
   "cell_type": "markdown",
   "metadata": {},
   "source": [
    "## Keyword Search\n",
    "\n",
    "![images/search_keyword.png](images/search_keyword.png)\n",
    "\n",
    "[Docs - keyword/bm25](https://weaviate.io/developers/weaviate/search/bm25)"
   ]
  },
  {
   "cell_type": "code",
   "execution_count": 6,
   "metadata": {
    "execution": {
     "iopub.execute_input": "2025-09-09T12:56:48.287423Z",
     "iopub.status.busy": "2025-09-09T12:56:48.287247Z",
     "iopub.status.idle": "2025-09-09T12:56:48.381738Z",
     "shell.execute_reply": "2025-09-09T12:56:48.381215Z",
     "shell.execute_reply.started": "2025-09-09T12:56:48.287407Z"
    }
   },
   "outputs": [
    {
     "name": "stdout",
     "output_type": "stream",
     "text": [
      "MercadoLibre (MELI) to Report Q2 Earnings: What's in Store?\n",
      "Here's What Stood Out in Starbucks' Earnings Report\n",
      "Can PVH Corp.'s (PVH) Q2 Earnings Maintain Solid Trend?\n",
      "Fortune Brands (FBHS): What to Expect in Q3 Earnings?\n",
      "Will Currency Volatility Keep Hurting Abbott's (ABT) Earnings?\n"
     ]
    }
   ],
   "source": [
    "# STUDENT TODO:\n",
    "# Keyword search for articles about \"earnings report\"\n",
    "# Limit the results to 5 articles\n",
    "# BEGIN_SOLUTION\n",
    "response = articles.query.bm25(\n",
    "    query=\"earnings report\",\n",
    "    limit=5,\n",
    ")\n",
    "# END_SOLUTION\n",
    "\n",
    "for item in response.objects:\n",
    "    print(item.properties[\"article_title\"])"
   ]
  },
  {
   "cell_type": "markdown",
   "metadata": {},
   "source": [
    "Retrieve scores also"
   ]
  },
  {
   "cell_type": "code",
   "execution_count": 7,
   "metadata": {
    "execution": {
     "iopub.execute_input": "2025-09-09T12:56:48.384401Z",
     "iopub.status.busy": "2025-09-09T12:56:48.384228Z",
     "iopub.status.idle": "2025-09-09T12:56:48.391118Z",
     "shell.execute_reply": "2025-09-09T12:56:48.390527Z",
     "shell.execute_reply.started": "2025-09-09T12:56:48.384384Z"
    }
   },
   "outputs": [
    {
     "name": "stdout",
     "output_type": "stream",
     "text": [
      "Here's What Stood Out in Starbucks' Earnings Report\n",
      "2.6926846504211426\n",
      "MercadoLibre (MELI) to Report Q2 Earnings: What's in Store?\n",
      "2.5838348865509033\n",
      "TripAdvisor (TRIP) to Report Q3 Earnings: What's in Store?\n",
      "2.5838348865509033\n",
      "PACCAR (PCAR) to Report Q3 Earnings: Is a Beat in Store?\n",
      "2.4834437370300293\n",
      "Pre-Market Earnings Report for March 21, 2022 : PDD, MRNS, AXU\n",
      "2.4834437370300293\n"
     ]
    }
   ],
   "source": [
    "from weaviate.classes.query import MetadataQuery\n",
    "\n",
    "response = articles.query.bm25(\n",
    "    query=\"earnings report\",\n",
    "    query_properties=[\"article_title\"],\n",
    "    limit=5,\n",
    "    return_metadata=MetadataQuery(score=True)\n",
    ")\n",
    "\n",
    "for item in response.objects:\n",
    "    print(item.properties[\"article_title\"])\n",
    "    # STUDENT TODO - inspect keyword search \"score\"\n",
    "    # START_SOLUTION\n",
    "    print(item.metadata.score)\n",
    "    # END_SOLUTION"
   ]
  },
  {
   "cell_type": "markdown",
   "metadata": {},
   "source": [
    "## Vector search\n",
    "\n",
    "![images/search_vector.png](images/search_vector.png)\n",
    "\n",
    "[Docs - near_text](https://weaviate.io/developers/weaviate/search/similarity#an-input-medium)"
   ]
  },
  {
   "cell_type": "code",
   "execution_count": 8,
   "metadata": {
    "execution": {
     "iopub.execute_input": "2025-09-09T12:56:48.394647Z",
     "iopub.status.busy": "2025-09-09T12:56:48.394460Z",
     "iopub.status.idle": "2025-09-09T12:56:48.458120Z",
     "shell.execute_reply": "2025-09-09T12:56:48.457494Z",
     "shell.execute_reply.started": "2025-09-09T12:56:48.394631Z"
    }
   },
   "outputs": [
    {
     "name": "stdout",
     "output_type": "stream",
     "text": [
      "Technology Sector Update for 07/28/2023: INTC, YOU, META\n",
      "Technology Sector Update for 01/05/2022: GOOG,GOOGL,AMZN,AAPL,FB,WATT,GLBE,SHOP,SHOP.TO\n",
      "Technology Sector Update for 12/12/2018: FB, INTC, PLAB\n",
      "Technology Sector Update for 07/01/2022: META, ATVI, PING, MU\n",
      "Tech Is a Long-Term Bullish Sector: Recent Meltdown Temporary\n"
     ]
    }
   ],
   "source": [
    "# STUDENT TODO:\n",
    "# Perform a `near_text` query to find the top 5 articles\n",
    "# with `title` target vector closest to \"tech market trends\"\n",
    "# BEGIN_SOLUTION\n",
    "response = articles.query.near_text(\n",
    "    query=\"tech market trends\",\n",
    "    limit=5,\n",
    "    target_vector=\"title\"\n",
    ")\n",
    "# END_SOLUTION\n",
    "\n",
    "for item in response.objects:\n",
    "    print(item.properties[\"article_title\"])"
   ]
  },
  {
   "cell_type": "code",
   "execution_count": 9,
   "metadata": {
    "execution": {
     "iopub.execute_input": "2025-09-09T12:56:48.459028Z",
     "iopub.status.busy": "2025-09-09T12:56:48.458833Z",
     "iopub.status.idle": "2025-09-09T12:56:48.518955Z",
     "shell.execute_reply": "2025-09-09T12:56:48.518220Z",
     "shell.execute_reply.started": "2025-09-09T12:56:48.459011Z"
    }
   },
   "outputs": [
    {
     "name": "stdout",
     "output_type": "stream",
     "text": [
      "Technology Sector Update for 07/28/2023: INTC, YOU, META\n",
      "0.5352218151092529\n",
      "Technology Sector Update for 01/05/2022: GOOG,GOOGL,AMZN,AAPL,FB,WATT,GLBE,SHOP,SHOP.TO\n",
      "0.5543919801712036\n",
      "Technology Sector Update for 12/12/2018: FB, INTC, PLAB\n",
      "0.5621839165687561\n",
      "Technology Sector Update for 07/01/2022: META, ATVI, PING, MU\n",
      "0.5749168395996094\n",
      "Tech Is a Long-Term Bullish Sector: Recent Meltdown Temporary\n",
      "0.5751214027404785\n"
     ]
    }
   ],
   "source": [
    "from weaviate.classes.query import MetadataQuery\n",
    "\n",
    "response = articles.query.near_text(\n",
    "    query=\"tech market trends\",\n",
    "    limit=5,\n",
    "    target_vector=\"title\",\n",
    "    return_metadata=MetadataQuery(distance=True)\n",
    ")\n",
    "\n",
    "for item in response.objects:\n",
    "    print(item.properties[\"article_title\"])\n",
    "    print(item.metadata.distance)"
   ]
  },
  {
   "cell_type": "markdown",
   "metadata": {},
   "source": [
    "## Search with filters\n",
    "\n",
    "Combine vector search with filters for precise results."
   ]
  },
  {
   "cell_type": "code",
   "execution_count": 10,
   "metadata": {
    "execution": {
     "iopub.execute_input": "2025-09-09T12:56:48.521959Z",
     "iopub.status.busy": "2025-09-09T12:56:48.521771Z",
     "iopub.status.idle": "2025-09-09T12:56:48.597809Z",
     "shell.execute_reply": "2025-09-09T12:56:48.597089Z",
     "shell.execute_reply.started": "2025-09-09T12:56:48.521940Z"
    }
   },
   "outputs": [
    {
     "name": "stdout",
     "output_type": "stream",
     "text": [
      "Returned object count: 5\n",
      "Could This Be Netflix's Next Big Move?\n",
      "The Zacks Analyst Blog Highlights: Time Warner, Netflix, Altria Group, Disney, CBS and Comcast\n",
      "Netflix and Alphabet: What's New?\n",
      "Netflix, Inc. and PayPal Holdings, Inc.: Long-Term Growth Stories Find Favor\n",
      "Will Netflix (NFLX) Beat Earnings Estimates? - Analyst Blog\n"
     ]
    }
   ],
   "source": [
    "from weaviate.classes.query import Filter\n",
    "\n",
    "response = articles.query.near_text(\n",
    "    query=\"strategy\",\n",
    "    target_vector=\"title\",\n",
    "    limit=5,\n",
    "    filters=Filter.by_property(\"article_title\").like(\"netflix\")\n",
    ")\n",
    "\n",
    "print(f\"Returned object count: {len(response.objects)}\")\n",
    "\n",
    "for item in response.objects:\n",
    "    print(item.properties[\"article_title\"])"
   ]
  },
  {
   "cell_type": "markdown",
   "metadata": {},
   "source": [
    "## Hybrid search\n",
    "\n",
    "![images/search_hybrid.png](images/search_hybrid.png)\n",
    "\n",
    "[Docs - hybrid](https://weaviate.io/developers/weaviate/search/hybrid)"
   ]
  },
  {
   "cell_type": "code",
   "execution_count": 11,
   "metadata": {
    "execution": {
     "iopub.execute_input": "2025-09-09T12:56:48.600538Z",
     "iopub.status.busy": "2025-09-09T12:56:48.600340Z",
     "iopub.status.idle": "2025-09-09T12:56:48.674860Z",
     "shell.execute_reply": "2025-09-09T12:56:48.674336Z",
     "shell.execute_reply.started": "2025-09-09T12:56:48.600520Z"
    }
   },
   "outputs": [
    {
     "name": "stdout",
     "output_type": "stream",
     "text": [
      "New Quarterly Earnings Results for DIS, CMG, SNAP and More\n",
      "Electronic Arts' (EA) Q3 Earnings and Revenues Increase Y/Y\n",
      "Earnings Outlook Reflects Stability\n",
      "A Slew of New Q2 Earnings Reports: SBUX, T, CMG, V & PYPL\n",
      "Weekly Market Summary: Investors Digest Strong Earnings Reports\n"
     ]
    }
   ],
   "source": [
    "response = articles.query.hybrid(\n",
    "    query=\"earnings report\",\n",
    "    query_properties=[\"article_title\"],\n",
    "    limit=5,\n",
    "    target_vector=\"title\",\n",
    "    alpha=0.7\n",
    ")\n",
    "\n",
    "for item in response.objects:\n",
    "    print(item.properties[\"article_title\"])"
   ]
  },
  {
   "cell_type": "markdown",
   "metadata": {},
   "source": [
    "### Hybrid - Explain score\n",
    "\n",
    "See how hybrid search combines vector and keyword scores."
   ]
  },
  {
   "cell_type": "code",
   "execution_count": 12,
   "metadata": {
    "execution": {
     "iopub.execute_input": "2025-09-09T12:56:48.677465Z",
     "iopub.status.busy": "2025-09-09T12:56:48.677278Z",
     "iopub.status.idle": "2025-09-09T12:56:48.750490Z",
     "shell.execute_reply": "2025-09-09T12:56:48.749879Z",
     "shell.execute_reply.started": "2025-09-09T12:56:48.677446Z"
    }
   },
   "outputs": [
    {
     "name": "stdout",
     "output_type": "stream",
     "text": [
      "New Quarterly Earnings Results for DIS, CMG, SNAP and More\n",
      "0.699999988079071\n",
      "\n",
      "Hybrid (Result Set vector,hybridVector) Document 174bf34a-639b-5229-bd24-532c7f91ccac: original score 0.38914192, normalized score: 0.7\n",
      "Electronic Arts' (EA) Q3 Earnings and Revenues Increase Y/Y\n",
      "0.6610763669013977\n",
      "\n",
      "Hybrid (Result Set vector,hybridVector) Document 7c868813-e065-5e4a-9261-cfd7f197fcf7: original score 0.38081086, normalized score: 0.66107637\n",
      "Earnings Outlook Reflects Stability\n",
      "0.5437194108963013\n",
      "\n",
      "Hybrid (Result Set keyword,bm25) Document f5b65499-8840-56fb-94d0-39f7e91acc86: original score 1.2311968, normalized score: 0.038721338 - \n",
      "Hybrid (Result Set vector,hybridVector) Document f5b65499-8840-56fb-94d0-39f7e91acc86: original score 0.34740448, normalized score: 0.5049981\n",
      "A Slew of New Q2 Earnings Reports: SBUX, T, CMG, V & PYPL\n",
      "0.5307629704475403\n",
      "\n",
      "Hybrid (Result Set vector,hybridVector) Document 1f0f68b8-561e-581d-b65a-ed76c73ef0ba: original score 0.3529191, normalized score: 0.530763\n",
      "Weekly Market Summary: Investors Digest Strong Earnings Reports\n",
      "0.5247564315795898\n",
      "\n",
      "Hybrid (Result Set vector,hybridVector) Document 4a0c0369-226d-587c-a934-ac1bc82dc663: original score 0.3516335, normalized score: 0.52475643\n"
     ]
    }
   ],
   "source": [
    "from weaviate.classes.query import MetadataQuery\n",
    "\n",
    "response = articles.query.hybrid(\n",
    "    query=\"earnings report\",\n",
    "    query_properties=[\"article_title\"],\n",
    "    limit=5,\n",
    "    target_vector=\"title\",\n",
    "    alpha=0.7,\n",
    "    return_metadata=MetadataQuery(score=True, explain_score=True)\n",
    ")\n",
    "\n",
    "for item in response.objects:\n",
    "    print(item.properties[\"article_title\"])\n",
    "    print(item.metadata.score)\n",
    "    print(item.metadata.explain_score)"
   ]
  },
  {
   "cell_type": "markdown",
   "metadata": {},
   "source": [
    "## Close the client\n",
    "\n",
    "Always close your connection when finished."
   ]
  },
  {
   "cell_type": "code",
   "execution_count": 13,
   "metadata": {
    "execution": {
     "iopub.execute_input": "2025-09-09T12:56:48.752933Z",
     "iopub.status.busy": "2025-09-09T12:56:48.752747Z",
     "iopub.status.idle": "2025-09-09T12:56:48.757756Z",
     "shell.execute_reply": "2025-09-09T12:56:48.757270Z",
     "shell.execute_reply.started": "2025-09-09T12:56:48.752916Z"
    }
   },
   "outputs": [],
   "source": [
    "client.close()"
   ]
  }
 ],
 "metadata": {
  "kernelspec": {
   "display_name": "Python 3 (ipykernel)",
   "language": "python",
   "name": "python3"
  },
  "language_info": {
   "codemirror_mode": {
    "name": "ipython",
    "version": 3
   },
   "file_extension": ".py",
   "mimetype": "text/x-python",
   "name": "python",
   "nbconvert_exporter": "python",
   "pygments_lexer": "ipython3",
   "version": "3.12.9"
  }
 },
 "nbformat": 4,
 "nbformat_minor": 4
}
