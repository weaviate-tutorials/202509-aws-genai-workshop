{
 "cells": [
  {
   "cell_type": "markdown",
   "metadata": {},
   "source": [
    "# Query data\n",
    "\n",
    "Learn three search methods: **Vector** (semantic similarity), **Keyword** (BM25), and **Hybrid** (combines both)."
   ]
  },
  {
   "cell_type": "markdown",
   "metadata": {},
   "source": [
    "## Connect to Weaviate\n",
    "\n",
    "Connect to a Weaviate instance."
   ]
  },
  {
   "cell_type": "code",
   "execution_count": null,
   "metadata": {
    "execution": {
     "iopub.execute_input": "2025-09-04T16:34:36.286944Z",
     "iopub.status.busy": "2025-09-04T16:34:36.286625Z",
     "iopub.status.idle": "2025-09-04T16:34:36.426265Z",
     "shell.execute_reply": "2025-09-04T16:34:36.425547Z",
     "shell.execute_reply.started": "2025-09-04T16:34:36.286921Z"
    }
   },
   "outputs": [],
   "source": [
    "# Refresh credentials & load the Weaviate IP\n",
    "from helpers import update_creds\n",
    "\n",
    "AWS_ACCESS_KEY, AWS_SECRET_KEY, AWS_SESSION_TOKEN = update_creds()\n",
    "\n",
    "%store -r WEAVIATE_IP"
   ]
  },
  {
   "cell_type": "code",
   "execution_count": null,
   "metadata": {
    "execution": {
     "iopub.execute_input": "2025-09-04T16:34:36.427294Z",
     "iopub.status.busy": "2025-09-04T16:34:36.426937Z",
     "iopub.status.idle": "2025-09-04T16:34:37.331905Z",
     "shell.execute_reply": "2025-09-04T16:34:37.331241Z",
     "shell.execute_reply.started": "2025-09-04T16:34:36.427262Z"
    }
   },
   "outputs": [],
   "source": [
    "import weaviate\n",
    "\n",
    "client = weaviate.connect_to_local(\n",
    "    WEAVIATE_IP,\n",
    "    headers = {\n",
    "        \"X-AWS-Access-Key\": AWS_ACCESS_KEY,\n",
    "        \"X-AWS-Secret-Key\": AWS_SECRET_KEY,\n",
    "        \"X-AWS-Session-Token\": AWS_SESSION_TOKEN,\n",
    "    }\n",
    ")\n",
    "\n",
    "client.is_ready()"
   ]
  },
  {
   "cell_type": "markdown",
   "metadata": {},
   "source": [
    "### Helper function\n",
    "\n",
    "Get our collection of financial articles (5000 articles total)."
   ]
  },
  {
   "cell_type": "code",
   "execution_count": null,
   "metadata": {
    "execution": {
     "iopub.execute_input": "2025-09-04T16:34:37.337183Z",
     "iopub.status.busy": "2025-09-04T16:34:37.336989Z",
     "iopub.status.idle": "2025-09-04T16:34:37.342323Z",
     "shell.execute_reply": "2025-09-04T16:34:37.341659Z",
     "shell.execute_reply.started": "2025-09-04T16:34:37.337165Z"
    }
   },
   "outputs": [],
   "source": [
    "# STUDENT TODO:\n",
    "# Instantiate the \"FinancialArticles\" collection object\n",
    "# BEGIN_SOLUTION\n",
    "articles = client.collections.use(\"FinancialArticles\")\n",
    "# END_SOLUTION"
   ]
  },
  {
   "cell_type": "markdown",
   "metadata": {},
   "source": [
    "## Filters\n",
    "\n",
    "Add conditions to narrow down search results before querying."
   ]
  },
  {
   "cell_type": "markdown",
   "metadata": {},
   "source": [
    "### Fetch with filters"
   ]
  },
  {
   "cell_type": "code",
   "execution_count": null,
   "metadata": {
    "execution": {
     "iopub.execute_input": "2025-09-04T16:34:37.503392Z",
     "iopub.status.busy": "2025-09-04T16:34:37.503097Z",
     "iopub.status.idle": "2025-09-04T16:34:37.517885Z",
     "shell.execute_reply": "2025-09-04T16:34:37.517237Z",
     "shell.execute_reply.started": "2025-09-04T16:34:37.503362Z"
    }
   },
   "outputs": [],
   "source": [
    "from weaviate.classes.query import Filter\n",
    "\n",
    "# STUDENT TODO:\n",
    "# Perfrom articles.query.fetch_objects, but add a filter the results\n",
    "# to only include articles with \"apple\" in the title\n",
    "# Hint: filters=Filter.by_property(<property_name>).like(<search_pattern>)\n",
    "# BEGIN_SOLUTION\n",
    "response = articles.query.fetch_objects(\n",
    "    limit=5,\n",
    "    filters=Filter.by_property(\"article_title\").like(\"apple\")\n",
    ")\n",
    "# END_SOLUTION\n",
    "\n",
    "print(f\"Returned object count: {len(response.objects)}\")\n",
    "\n",
    "for item in response.objects:\n",
    "    print(item.properties[\"article_title\"])"
   ]
  },
  {
   "cell_type": "code",
   "execution_count": null,
   "metadata": {
    "execution": {
     "iopub.execute_input": "2025-09-04T16:34:37.519010Z",
     "iopub.status.busy": "2025-09-04T16:34:37.518786Z",
     "iopub.status.idle": "2025-09-04T16:34:37.533534Z",
     "shell.execute_reply": "2025-09-04T16:34:37.532699Z",
     "shell.execute_reply.started": "2025-09-04T16:34:37.518975Z"
    }
   },
   "outputs": [],
   "source": [
    "from weaviate.classes.query import Filter\n",
    "\n",
    "response = articles.query.fetch_objects(\n",
    "    limit=5,\n",
    "    filters=(\n",
    "        Filter.by_property(\"article_title\").like(\"aust*\") &\n",
    "        Filter.by_property(\"article_title\").like(\"ev\")\n",
    "    )\n",
    ")\n",
    "\n",
    "print(f\"Returned object count: {len(response.objects)}\")\n",
    "\n",
    "for item in response.objects:\n",
    "    print(item.properties[\"article_title\"])"
   ]
  },
  {
   "cell_type": "markdown",
   "metadata": {},
   "source": [
    "## Keyword Search\n",
    "\n",
    "![images/search_keyword.png](images/search_keyword.png)\n",
    "\n",
    "[Docs - keyword/bm25](https://weaviate.io/developers/weaviate/search/bm25)"
   ]
  },
  {
   "cell_type": "code",
   "execution_count": null,
   "metadata": {
    "execution": {
     "iopub.execute_input": "2025-09-04T16:34:37.614748Z",
     "iopub.status.busy": "2025-09-04T16:34:37.614552Z",
     "iopub.status.idle": "2025-09-04T16:34:37.627374Z",
     "shell.execute_reply": "2025-09-04T16:34:37.626557Z",
     "shell.execute_reply.started": "2025-09-04T16:34:37.614729Z"
    }
   },
   "outputs": [],
   "source": [
    "# STUDENT TODO:\n",
    "# Keyword search for articles about \"earnings report\"\n",
    "# Limit the results to 5 articles\n",
    "# BEGIN_SOLUTION\n",
    "response = articles.query.bm25(\n",
    "    query=\"earnings report\",\n",
    "    limit=5,\n",
    ")\n",
    "# END_SOLUTION\n",
    "\n",
    "for item in response.objects:\n",
    "    print(item.properties[\"article_title\"])"
   ]
  },
  {
   "cell_type": "markdown",
   "metadata": {},
   "source": [
    "Retrieve scores also"
   ]
  },
  {
   "cell_type": "code",
   "execution_count": null,
   "metadata": {
    "execution": {
     "iopub.execute_input": "2025-09-04T16:34:37.628414Z",
     "iopub.status.busy": "2025-09-04T16:34:37.628202Z",
     "iopub.status.idle": "2025-09-04T16:34:37.641119Z",
     "shell.execute_reply": "2025-09-04T16:34:37.640469Z",
     "shell.execute_reply.started": "2025-09-04T16:34:37.628396Z"
    }
   },
   "outputs": [],
   "source": [
    "from weaviate.classes.query import MetadataQuery\n",
    "\n",
    "response = articles.query.bm25(\n",
    "    query=\"earnings report\",\n",
    "    query_properties=[\"article_title\"],\n",
    "    limit=5,\n",
    "    return_metadata=MetadataQuery(score=True)\n",
    ")\n",
    "\n",
    "for item in response.objects:\n",
    "    print(item.properties[\"article_title\"])\n",
    "    # STUDENT TODO - inspect keyword search \"score\"\n",
    "    # START_SOLUTION\n",
    "    print(item.metadata.score)\n",
    "    # END_SOLUTION"
   ]
  },
  {
   "cell_type": "markdown",
   "metadata": {},
   "source": [
    "## Vector search\n",
    "\n",
    "![images/search_vector.png](images/search_vector.png)\n",
    "\n",
    "[Docs - near_text](https://weaviate.io/developers/weaviate/search/similarity#an-input-medium)"
   ]
  },
  {
   "cell_type": "code",
   "execution_count": null,
   "metadata": {},
   "outputs": [],
   "source": [
    "# STUDENT TODO:\n",
    "# Perform a `near_text` query to find the top 5 articles\n",
    "# with `title` target vector closest to \"tech market trends\"\n",
    "# BEGIN_SOLUTION\n",
    "response = articles.query.near_text(\n",
    "    query=\"tech market trends\",\n",
    "    limit=5,\n",
    "    target_vector=\"title\"\n",
    ")\n",
    "# END_SOLUTION\n",
    "\n",
    "for item in response.objects:\n",
    "    print(item.properties[\"article_title\"])"
   ]
  },
  {
   "cell_type": "code",
   "execution_count": null,
   "metadata": {},
   "outputs": [],
   "source": [
    "from weaviate.classes.query import MetadataQuery\n",
    "\n",
    "response = articles.query.near_text(\n",
    "    query=\"tech market trends\",\n",
    "    limit=5,\n",
    "    target_vector=\"title\",\n",
    "    return_metadata=MetadataQuery(distance=True)\n",
    ")\n",
    "\n",
    "for item in response.objects:\n",
    "    print(item.properties[\"article_title\"])\n",
    "    print(item.metadata.distance)"
   ]
  },
  {
   "cell_type": "markdown",
   "metadata": {},
   "source": [
    "## Search with filters\n",
    "\n",
    "Combine vector search with filters for precise results."
   ]
  },
  {
   "cell_type": "code",
   "execution_count": null,
   "metadata": {},
   "outputs": [],
   "source": [
    "from weaviate.classes.query import Filter\n",
    "\n",
    "response = articles.query.near_text(\n",
    "    query=\"strategy\",\n",
    "    target_vector=\"title\",\n",
    "    limit=5,\n",
    "    filters=Filter.by_property(\"article_title\").like(\"netflix\")\n",
    ")\n",
    "\n",
    "print(f\"Returned object count: {len(response.objects)}\")\n",
    "\n",
    "for item in response.objects:\n",
    "    print(item.properties[\"article_title\"])"
   ]
  },
  {
   "cell_type": "markdown",
   "metadata": {},
   "source": [
    "## Hybrid search\n",
    "\n",
    "![images/search_hybrid.png](images/search_hybrid.png)\n",
    "\n",
    "[Docs - hybrid](https://weaviate.io/developers/weaviate/search/hybrid)"
   ]
  },
  {
   "cell_type": "code",
   "execution_count": null,
   "metadata": {
    "execution": {
     "iopub.execute_input": "2025-09-04T16:34:37.816411Z",
     "iopub.status.busy": "2025-09-04T16:34:37.815934Z",
     "iopub.status.idle": "2025-09-04T16:34:37.899323Z",
     "shell.execute_reply": "2025-09-04T16:34:37.898462Z",
     "shell.execute_reply.started": "2025-09-04T16:34:37.816390Z"
    }
   },
   "outputs": [],
   "source": [
    "response = articles.query.hybrid(\n",
    "    query=\"earnings report\",\n",
    "    query_properties=[\"article_title\"],\n",
    "    limit=5,\n",
    "    target_vector=\"title\",\n",
    "    alpha=0.7\n",
    ")\n",
    "\n",
    "for item in response.objects:\n",
    "    print(item.properties[\"article_title\"])"
   ]
  },
  {
   "cell_type": "markdown",
   "metadata": {},
   "source": [
    "### Hybrid - Explain score\n",
    "\n",
    "See how hybrid search combines vector and keyword scores."
   ]
  },
  {
   "cell_type": "code",
   "execution_count": null,
   "metadata": {
    "execution": {
     "iopub.execute_input": "2025-09-04T16:34:37.905462Z",
     "iopub.status.busy": "2025-09-04T16:34:37.904935Z",
     "iopub.status.idle": "2025-09-04T16:34:37.983548Z",
     "shell.execute_reply": "2025-09-04T16:34:37.982637Z",
     "shell.execute_reply.started": "2025-09-04T16:34:37.905429Z"
    }
   },
   "outputs": [],
   "source": [
    "from weaviate.classes.query import MetadataQuery\n",
    "\n",
    "response = articles.query.hybrid(\n",
    "    query=\"earnings report\",\n",
    "    query_properties=[\"article_title\"],\n",
    "    limit=5,\n",
    "    target_vector=\"title\",\n",
    "    alpha=0.7,\n",
    "    return_metadata=MetadataQuery(score=True, explain_score=True)\n",
    ")\n",
    "\n",
    "for item in response.objects:\n",
    "    print(item.properties[\"article_title\"])\n",
    "    print(item.metadata.score)\n",
    "    print(item.metadata.explain_score)"
   ]
  },
  {
   "cell_type": "markdown",
   "metadata": {},
   "source": [
    "## Close the client\n",
    "\n",
    "Always close your connection when finished."
   ]
  },
  {
   "cell_type": "code",
   "execution_count": null,
   "metadata": {
    "execution": {
     "iopub.execute_input": "2025-09-04T16:34:37.987491Z",
     "iopub.status.busy": "2025-09-04T16:34:37.987013Z",
     "iopub.status.idle": "2025-09-04T16:34:37.994092Z",
     "shell.execute_reply": "2025-09-04T16:34:37.993042Z",
     "shell.execute_reply.started": "2025-09-04T16:34:37.987459Z"
    }
   },
   "outputs": [],
   "source": [
    "client.close()"
   ]
  }
 ],
 "metadata": {
  "kernelspec": {
   "display_name": "Python 3 (ipykernel)",
   "language": "python",
   "name": "python3"
  },
  "language_info": {
   "codemirror_mode": {
    "name": "ipython",
    "version": 3
   },
   "file_extension": ".py",
   "mimetype": "text/x-python",
   "name": "python",
   "nbconvert_exporter": "python",
   "pygments_lexer": "ipython3",
   "version": "3.12.9"
  }
 },
 "nbformat": 4,
 "nbformat_minor": 4
}
