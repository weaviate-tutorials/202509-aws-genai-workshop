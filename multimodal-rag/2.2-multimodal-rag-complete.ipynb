{
 "cells": [
  {
   "cell_type": "markdown",
   "id": "c6861ab3-dffd-4da4-a819-b090b8ae756e",
   "metadata": {},
   "source": [
    "### Load chunks as we did before"
   ]
  },
  {
   "cell_type": "code",
   "execution_count": 1,
   "id": "1b54c46a-e478-46ea-9828-1505c9cfef26",
   "metadata": {
    "execution": {
     "iopub.execute_input": "2025-09-09T12:44:03.684229Z",
     "iopub.status.busy": "2025-09-09T12:44:03.684042Z",
     "iopub.status.idle": "2025-09-09T12:44:04.748180Z",
     "shell.execute_reply": "2025-09-09T12:44:04.747432Z",
     "shell.execute_reply.started": "2025-09-09T12:44:03.684209Z"
    }
   },
   "outputs": [],
   "source": [
    "from chonkie import SemanticChunker\n",
    "from pathlib import Path\n",
    "\n",
    "md_filepath = Path(\"data/parsed/WEF_Artificial_Intelligence_in_Financial_Services_2025-parsed-w-imgs.md\")\n",
    "md_txt = md_filepath.read_text()\n",
    "\n",
    "chunker = SemanticChunker(\n",
    "    embedding_model=\"minishlab/potion-base-8M\",  # Default model\n",
    "    threshold=0.5,                               # Similarity threshold (0-1) or (1-100) or \"auto\"\n",
    "    chunk_size=2048,                              # Maximum tokens per chunk\n",
    "    min_sentences=1                              # Initial sentences per chunk\n",
    ")\n",
    "chunk_texts = chunker.chunk(md_txt)"
   ]
  },
  {
   "cell_type": "markdown",
   "id": "92a2a8a4",
   "metadata": {},
   "source": [
    "### Set up Weaviate Collection"
   ]
  },
  {
   "cell_type": "code",
   "execution_count": 2,
   "id": "5e6b22f3-07d4-4f7c-91c3-234ceb94511e",
   "metadata": {
    "execution": {
     "iopub.execute_input": "2025-09-09T12:44:04.751424Z",
     "iopub.status.busy": "2025-09-09T12:44:04.751095Z",
     "iopub.status.idle": "2025-09-09T12:44:05.557111Z",
     "shell.execute_reply": "2025-09-09T12:44:05.556522Z",
     "shell.execute_reply.started": "2025-09-09T12:44:04.751391Z"
    }
   },
   "outputs": [],
   "source": [
    "from helpers import update_creds\n",
    "\n",
    "AWS_ACCESS_KEY, AWS_SECRET_KEY, AWS_SESSION_TOKEN = update_creds()\n",
    "\n",
    "%store -r WEAVIATE_IP"
   ]
  },
  {
   "cell_type": "code",
   "execution_count": 3,
   "id": "22af250e-be00-421a-948c-3daeda7e3b19",
   "metadata": {
    "execution": {
     "iopub.execute_input": "2025-09-09T12:44:05.559339Z",
     "iopub.status.busy": "2025-09-09T12:44:05.559047Z",
     "iopub.status.idle": "2025-09-09T12:44:05.676526Z",
     "shell.execute_reply": "2025-09-09T12:44:05.676025Z",
     "shell.execute_reply.started": "2025-09-09T12:44:05.559319Z"
    }
   },
   "outputs": [
    {
     "data": {
      "text/plain": [
       "True"
      ]
     },
     "execution_count": 3,
     "metadata": {},
     "output_type": "execute_result"
    }
   ],
   "source": [
    "import weaviate\n",
    "\n",
    "client = weaviate.connect_to_local(\n",
    "    WEAVIATE_IP,\n",
    "    headers = {\n",
    "        \"X-AWS-Access-Key\": AWS_ACCESS_KEY,\n",
    "        \"X-AWS-Secret-Key\": AWS_SECRET_KEY,\n",
    "        \"X-AWS-Session-Token\": AWS_SESSION_TOKEN,\n",
    "    }\n",
    ")\n",
    "\n",
    "client.is_ready()"
   ]
  },
  {
   "cell_type": "code",
   "execution_count": 4,
   "id": "842550b9",
   "metadata": {
    "execution": {
     "iopub.execute_input": "2025-09-09T12:44:05.677655Z",
     "iopub.status.busy": "2025-09-09T12:44:05.677353Z",
     "iopub.status.idle": "2025-09-09T12:44:05.687899Z",
     "shell.execute_reply": "2025-09-09T12:44:05.687379Z",
     "shell.execute_reply.started": "2025-09-09T12:44:05.677626Z"
    }
   },
   "outputs": [],
   "source": [
    "client.collections.delete(\"Chunks\")"
   ]
  },
  {
   "cell_type": "code",
   "execution_count": 5,
   "id": "4e202bae",
   "metadata": {
    "execution": {
     "iopub.execute_input": "2025-09-09T12:44:05.688697Z",
     "iopub.status.busy": "2025-09-09T12:44:05.688509Z",
     "iopub.status.idle": "2025-09-09T12:44:05.854322Z",
     "shell.execute_reply": "2025-09-09T12:44:05.853790Z",
     "shell.execute_reply.started": "2025-09-09T12:44:05.688680Z"
    }
   },
   "outputs": [
    {
     "data": {
      "text/plain": [
       "<weaviate.collections.collection.sync.Collection at 0x7f419a452ab0>"
      ]
     },
     "execution_count": 5,
     "metadata": {},
     "output_type": "execute_result"
    }
   ],
   "source": [
    "from weaviate.classes.config import Property, DataType, Configure, Tokenization\n",
    "\n",
    "client.collections.create(\n",
    "    name=\"Chunks\",\n",
    "    properties=[\n",
    "        Property(\n",
    "            name=\"document_title\",\n",
    "            data_type=DataType.TEXT,\n",
    "        ),\n",
    "        Property(\n",
    "            name=\"chunk\",\n",
    "            data_type=DataType.TEXT,\n",
    "        ),\n",
    "        Property(\n",
    "            name=\"chunk_number\",\n",
    "            data_type=DataType.INT,\n",
    "        ),\n",
    "        Property(\n",
    "            name=\"filename\",\n",
    "            data_type=DataType.TEXT,\n",
    "            tokenization=Tokenization.FIELD\n",
    "        ),\n",
    "    ],\n",
    "    vector_config=[\n",
    "        Configure.Vectors.text2vec_aws(\n",
    "            name=\"default\",\n",
    "            source_properties=[\"document_title\", \"chunk\"],\n",
    "            region=\"us-west-2\",\n",
    "            service=\"bedrock\",\n",
    "            model=\"amazon.titan-embed-text-v2:0\"\n",
    "        )\n",
    "    ]\n",
    ")"
   ]
  },
  {
   "cell_type": "code",
   "execution_count": 6,
   "id": "7c9e2f9f",
   "metadata": {
    "execution": {
     "iopub.execute_input": "2025-09-09T12:44:05.855231Z",
     "iopub.status.busy": "2025-09-09T12:44:05.854967Z",
     "iopub.status.idle": "2025-09-09T12:44:05.858544Z",
     "shell.execute_reply": "2025-09-09T12:44:05.858109Z",
     "shell.execute_reply.started": "2025-09-09T12:44:05.855211Z"
    }
   },
   "outputs": [],
   "source": [
    "chunks = client.collections.use(\"Chunks\")"
   ]
  },
  {
   "cell_type": "markdown",
   "id": "f34f3bad",
   "metadata": {},
   "source": [
    "### Import data"
   ]
  },
  {
   "cell_type": "code",
   "execution_count": 7,
   "id": "dee53991",
   "metadata": {
    "execution": {
     "iopub.execute_input": "2025-09-09T12:44:05.861321Z",
     "iopub.status.busy": "2025-09-09T12:44:05.861115Z",
     "iopub.status.idle": "2025-09-09T12:44:07.914912Z",
     "shell.execute_reply": "2025-09-09T12:44:07.914238Z",
     "shell.execute_reply.started": "2025-09-09T12:44:05.861302Z"
    }
   },
   "outputs": [
    {
     "name": "stderr",
     "output_type": "stream",
     "text": [
      "111it [00:00, 38518.06it/s]\n"
     ]
    }
   ],
   "source": [
    "from tqdm import tqdm\n",
    "\n",
    "with chunks.batch.fixed_size(batch_size=100) as batch:\n",
    "    for i, chunk_text in tqdm(enumerate(chunk_texts)):\n",
    "        obj = {\n",
    "            \"document_title\": \"WEF AI Financial Services 2025\",\n",
    "            \"filename\": \"data/pdfs/WEF_Artificial_Intelligence_in_Financial_Services_2025.pdf\",\n",
    "            \"chunk\": chunk_text.text,\n",
    "            \"chunk_number\": i + 1,\n",
    "        }\n",
    "\n",
    "        # Add object to batch for import with (batch.add_object())\n",
    "        # BEGIN_SOLUTION\n",
    "        batch.add_object(\n",
    "            properties=obj\n",
    "        )\n",
    "        # END_SOLUTION"
   ]
  },
  {
   "cell_type": "markdown",
   "id": "f0ed8bc9",
   "metadata": {},
   "source": [
    "### RAG queries\n",
    "\n",
    "In this scenario, let's:\n",
    "\n",
    "- Retrieve text chunks\n",
    "- Get images referred to in the text\n",
    "- Convert the images to base64\n",
    "- Send (retrieved text + images + prompt) to LLM for RAG"
   ]
  },
  {
   "cell_type": "code",
   "execution_count": 8,
   "id": "cae8dd66",
   "metadata": {
    "execution": {
     "iopub.execute_input": "2025-09-09T12:44:07.917951Z",
     "iopub.status.busy": "2025-09-09T12:44:07.917683Z",
     "iopub.status.idle": "2025-09-09T12:44:08.044201Z",
     "shell.execute_reply": "2025-09-09T12:44:08.043571Z",
     "shell.execute_reply.started": "2025-09-09T12:44:07.917931Z"
    }
   },
   "outputs": [
    {
     "name": "stdout",
     "output_type": "stream",
     "text": [
      "\n",
      "========================================\n",
      "|    28 | To read more about AI and talent transformation across all industries, please see: World Economic Forum. (2025). AI in Action: Beyond Experimentation to Transform Industry . ...\n",
      "\n",
      "========================================\n",
      "|-------|-------------------------------------------------------------------------------------------------------------------------------------------------------------------------------------------------------------------------------------------------------------------|\n",
      "...\n",
      "\n",
      "========================================\n",
      "The three challenges of AI regulation . Brookings. https://www.brookings.edu/articles/the-three-challenges-of-ai-regulation/.                                                                                                                 |\n",
      "...\n",
      "\n",
      "========================================\n",
      "The three challenges of AI regulation . Brookings. https://www.brookings.edu/articles/the-three- challenges-of-ai-regulation/.                                                                                                                |\n",
      "...\n",
      "\n",
      "========================================\n",
      "                                                                                        |\n",
      "...\n",
      "\n",
      "========================================\n",
      "|    27 | Organisation for Economic Co-operation and Development (OECD). (2024). Regulatory approaches to Artificial Intelligence in finance . https://doi.org/10.1787/f1498c02-en. ...\n",
      "\n",
      "========================================\n",
      "|    26 | Wheeler, T. (2023). ...\n",
      "\n",
      "========================================\n",
      "|\n",
      "|    30 | Accenture. (2024). The age of AI: Banking's new reality . https://www.accenture.com/content/dam/accenture/final/ accenture-com/document-2/Accenture-Age-AI-Banking-New-Reality.pdf.                                                                               |\n",
      "...\n",
      "\n",
      "========================================\n",
      "\n",
      "![Image](data/parsed/WEF_Artificial_Intelligence_in_Financial_Services_2025-parsed-w-imgs_artifacts/image_000026_e37b0648ffba65177e238f2c659482267f232b2c702d797c628afab71b999bd4.png)\n",
      "...\n",
      "\n",
      "========================================\n",
      "|                                                                                                                         | Science, PayPal                                                                                                                   |\n",
      "| Rayhaneh Sharif-Askary Managing Director; Head of Product and Research, Grayscale Investments                           | Jonathan Welburn Operations Researcher; Professor, Pardee RAND Graduate School, RAND Corporation                                  |\n",
      "| Luis Silva Founder, Chairman and Chief Executive Officer, CloudWalk                                                     | Jon Whitehouse Global Head of Government and Regulatory Oversight, Barclays                                                       |\n",
      "| Cecilia Skingsley Head, BIS Innovation Hub, Bank for International Settlements (BIS)                                    | James Whittington Senior Vice-President, Financial Services, General Atlantic Service Company               ...\n"
     ]
    }
   ],
   "source": [
    "response = chunks.query.hybrid(\n",
    "    query=\"AI spending by industry and sector\",\n",
    "    limit=10\n",
    ")\n",
    "\n",
    "for o in response.objects:\n",
    "    print(f\"\\n\" + \"=\" * 40)\n",
    "    print(o.properties[\"chunk\"][:1000] + \"...\")"
   ]
  },
  {
   "cell_type": "code",
   "execution_count": 9,
   "id": "5a729583",
   "metadata": {
    "execution": {
     "iopub.execute_input": "2025-09-09T12:44:08.045025Z",
     "iopub.status.busy": "2025-09-09T12:44:08.044810Z",
     "iopub.status.idle": "2025-09-09T12:44:08.048223Z",
     "shell.execute_reply": "2025-09-09T12:44:08.047628Z",
     "shell.execute_reply.started": "2025-09-09T12:44:08.045007Z"
    }
   },
   "outputs": [],
   "source": [
    "import re\n",
    "\n",
    "def extract_image_paths(text):\n",
    "    \"\"\"Extract image paths from markdown-style image references.\"\"\"\n",
    "    pattern = r'!\\[.*?\\]\\((.*?)\\)'\n",
    "    return re.findall(pattern, text)"
   ]
  },
  {
   "cell_type": "code",
   "execution_count": 10,
   "id": "9d036efe",
   "metadata": {
    "execution": {
     "iopub.execute_input": "2025-09-09T12:44:08.049017Z",
     "iopub.status.busy": "2025-09-09T12:44:08.048823Z",
     "iopub.status.idle": "2025-09-09T12:44:08.052623Z",
     "shell.execute_reply": "2025-09-09T12:44:08.052039Z",
     "shell.execute_reply.started": "2025-09-09T12:44:08.049001Z"
    }
   },
   "outputs": [],
   "source": [
    "def get_image_base64s(image_paths, base_path=None):\n",
    "    import base64\n",
    "    base64_images = []\n",
    "    for img_path in image_paths:\n",
    "        full_path = Path(base_path) / img_path if base_path else Path(img_path)\n",
    "        image_bytes = full_path.read_bytes()\n",
    "        base64_string = base64.b64encode(image_bytes).decode(\"utf-8\")\n",
    "        base64_images.append(base64_string)\n",
    "\n",
    "    return base64_images"
   ]
  },
  {
   "cell_type": "code",
   "execution_count": 11,
   "id": "430397bd",
   "metadata": {
    "execution": {
     "iopub.execute_input": "2025-09-09T12:44:08.053620Z",
     "iopub.status.busy": "2025-09-09T12:44:08.053290Z",
     "iopub.status.idle": "2025-09-09T12:44:08.058080Z",
     "shell.execute_reply": "2025-09-09T12:44:08.057455Z",
     "shell.execute_reply.started": "2025-09-09T12:44:08.053594Z"
    }
   },
   "outputs": [
    {
     "name": "stdout",
     "output_type": "stream",
     "text": [
      "Adding image paths: []\n",
      "Adding image paths: []\n",
      "Adding image paths: []\n",
      "Adding image paths: []\n",
      "Adding image paths: []\n",
      "Adding image paths: []\n",
      "Adding image paths: []\n",
      "Adding image paths: []\n",
      "Adding image paths: ['data/parsed/WEF_Artificial_Intelligence_in_Financial_Services_2025-parsed-w-imgs_artifacts/image_000026_e37b0648ffba65177e238f2c659482267f232b2c702d797c628afab71b999bd4.png']\n",
      "Adding image paths: []\n"
     ]
    }
   ],
   "source": [
    "all_chunks = \"\"\n",
    "all_images = []\n",
    "\n",
    "for o in response.objects:\n",
    "    chunk_text = o.properties[\"chunk\"]\n",
    "    image_paths = extract_image_paths(chunk_text)\n",
    "    print(f\"Adding image paths: {image_paths}\")\n",
    "    all_images.extend(get_image_base64s(image_paths, base_path=\"data/parsed\"))\n",
    "\n",
    "    all_chunks += \"\\n\\n\" + chunk_text"
   ]
  },
  {
   "cell_type": "code",
   "execution_count": 12,
   "id": "d93da885",
   "metadata": {
    "execution": {
     "iopub.execute_input": "2025-09-09T12:44:08.059731Z",
     "iopub.status.busy": "2025-09-09T12:44:08.059541Z",
     "iopub.status.idle": "2025-09-09T12:44:08.063259Z",
     "shell.execute_reply": "2025-09-09T12:44:08.062693Z",
     "shell.execute_reply.started": "2025-09-09T12:44:08.059714Z"
    }
   },
   "outputs": [],
   "source": [
    "message_list = [{\n",
    "    \"role\": \"user\",\n",
    "    \"content\": []\n",
    "}]\n",
    "\n",
    "for img in all_images:\n",
    "    content = {\n",
    "        \"image\": {\n",
    "            \"format\": \"png\",\n",
    "            \"source\": {\"bytes\": img},\n",
    "        }\n",
    "    }\n",
    "    message_list[0][\"content\"].append(content)\n",
    "\n",
    "task_text = \"\"\"\n",
    "Based on this, which industries are spending more on AI and why might that be?\n",
    "\n",
    "Make sure to also describe any and all key details from the figures used in the analysis.\n",
    "\"\"\" + \"\\n\\n\" + all_chunks\n",
    "message_list[0][\"content\"].append({\"text\": task_text})"
   ]
  },
  {
   "cell_type": "code",
   "execution_count": 13,
   "id": "e3b0c9d7-352c-4ea9-ba2a-8e0eac890adf",
   "metadata": {
    "execution": {
     "iopub.execute_input": "2025-09-09T12:44:08.064071Z",
     "iopub.status.busy": "2025-09-09T12:44:08.063835Z",
     "iopub.status.idle": "2025-09-09T12:44:16.147193Z",
     "shell.execute_reply": "2025-09-09T12:44:16.146549Z",
     "shell.execute_reply.started": "2025-09-09T12:44:08.064054Z"
    }
   },
   "outputs": [
    {
     "name": "stderr",
     "output_type": "stream",
     "text": [
      "/opt/conda/lib/python3.12/site-packages/botocore/auth.py:425: DeprecationWarning: datetime.datetime.utcnow() is deprecated and scheduled for removal in a future version. Use timezone-aware objects to represent datetimes in UTC: datetime.datetime.now(datetime.UTC).\n",
      "  datetime_now = datetime.datetime.utcnow()\n"
     ]
    },
    {
     "name": "stdout",
     "output_type": "stream",
     "text": [
      "\n",
      "[Response Content Text]\n",
      "**Answer:**\n",
      "\n",
      "Based on the provided text and references, the financial services industry is spending significantly more on AI. This trend is driven by the need for enhanced efficiency, improved customer service, and better risk management. The World Economic Forum and Accenture highlight the transformative impact of AI in banking, indicating that institutions are investing heavily to stay competitive.\n",
      "\n",
      "**Key Details:**\n",
      "\n",
      "1. **Financial Sector AI Spending:** The financial sector is forecasted to increase its AI spending, with significant investments aimed at leveraging AI for automation, fraud detection, and personalized banking services.\n",
      "\n",
      "2. **Industry Transformation:** Reports from the World Economic Forum emphasize AI's role in transforming industries, particularly finance, by moving beyond experimentation to practical applications that drive value.\n",
      "\n",
      "3. **Expert Insights:** The list of contributors includes leaders from major financial institutions and tech companies, underscoring the collaborative effort to integrate AI into financial services.\n",
      "\n",
      "In summary, the financial services industry is at the forefront of AI investment, driven by the potential for AI to revolutionize traditional banking operations and customer interactions.\n"
     ]
    }
   ],
   "source": [
    "import boto3\n",
    "import json\n",
    "\n",
    "client = boto3.client(\n",
    "    \"bedrock-runtime\",\n",
    "    region_name=\"us-west-2\",\n",
    ")\n",
    "\n",
    "# MODEL_ID = \"us.amazon.nova-lite-v1:0\"\n",
    "# MODEL_ID = \"us.amazon.nova-pro-v1:0\"\n",
    "MODEL_ID = \"us.amazon.nova-premier-v1:0\"\n",
    "\n",
    "# Define your system prompt(s).\n",
    "system_list = [{\"text\": \"You are an expert. Answer the questions thoughtfully but succinctly based on the provided text and images.\"}]\n",
    "\n",
    "native_request = {\n",
    "    \"schemaVersion\": \"messages-v1\",\n",
    "    \"messages\": message_list,\n",
    "    \"system\": system_list,\n",
    "    \"inferenceConfig\": {\"maxTokens\": 2000, \"topP\": 0.1, \"topK\": 20, \"temperature\": 0.3},\n",
    "}\n",
    "\n",
    "# Invoke the model and extract the response body.\n",
    "response = client.invoke_model(modelId=MODEL_ID, body=json.dumps(native_request))\n",
    "model_response = json.loads(response[\"body\"].read())\n",
    "\n",
    "# Print the text content for easy readability.\n",
    "content_text = model_response[\"output\"][\"message\"][\"content\"][0][\"text\"]\n",
    "print(\"\\n[Response Content Text]\")\n",
    "print(content_text)"
   ]
  },
  {
   "cell_type": "code",
   "execution_count": 14,
   "id": "5d67fd35",
   "metadata": {
    "execution": {
     "iopub.execute_input": "2025-09-09T12:44:16.148113Z",
     "iopub.status.busy": "2025-09-09T12:44:16.147839Z",
     "iopub.status.idle": "2025-09-09T12:44:16.151009Z",
     "shell.execute_reply": "2025-09-09T12:44:16.150416Z",
     "shell.execute_reply.started": "2025-09-09T12:44:16.148093Z"
    }
   },
   "outputs": [],
   "source": [
    "client.close()"
   ]
  }
 ],
 "metadata": {
  "kernelspec": {
   "display_name": "Python 3 (ipykernel)",
   "language": "python",
   "name": "python3"
  },
  "language_info": {
   "codemirror_mode": {
    "name": "ipython",
    "version": 3
   },
   "file_extension": ".py",
   "mimetype": "text/x-python",
   "name": "python",
   "nbconvert_exporter": "python",
   "pygments_lexer": "ipython3",
   "version": "3.12.9"
  }
 },
 "nbformat": 4,
 "nbformat_minor": 5
}
