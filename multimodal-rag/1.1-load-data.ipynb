{
 "cells": [
  {
   "cell_type": "markdown",
   "metadata": {},
   "source": [
    "Refresh credentials and load the Weaviate IP. \n",
    "\n",
    "If the credentials expire, run this cell again to refresh them."
   ]
  },
  {
   "cell_type": "code",
   "execution_count": null,
   "metadata": {},
   "outputs": [],
   "source": [
    "from helpers import update_creds\n",
    "\n",
    "AWS_ACCESS_KEY, AWS_SECRET_KEY, AWS_SESSION_TOKEN = update_creds()\n",
    "\n",
    "%store -r WEAVIATE_IP"
   ]
  },
  {
   "cell_type": "markdown",
   "metadata": {},
   "source": [
    "# Working with Weaviate"
   ]
  },
  {
   "cell_type": "markdown",
   "metadata": {},
   "source": [
    "![Weaviate architecture](images/weaviate-explainer-architecture.png)"
   ]
  },
  {
   "cell_type": "markdown",
   "metadata": {},
   "source": [
    "Connect to a Weaviate instance"
   ]
  },
  {
   "cell_type": "code",
   "execution_count": null,
   "metadata": {},
   "outputs": [],
   "source": [
    "import weaviate\n",
    "import os\n",
    "from weaviate.classes.init import Auth\n",
    "\n",
    "client = weaviate.connect_to_local(\n",
    "    # STUDENT TODO:\n",
    "    # Add WEAVIATE_IP as the first positional argument\n",
    "    # ADD YOUR CODE HERE\n",
    "    # These are the AWS credentials for Weaviate to use\n",
    "    headers = {\n",
    "        \"X-AWS-Access-Key\": AWS_ACCESS_KEY,\n",
    "        \"X-AWS-Secret-Key\": AWS_SECRET_KEY,\n",
    "        \"X-AWS-Session-Token\": AWS_SESSION_TOKEN,\n",
    "    }\n",
    ")\n",
    "\n",
    "client.is_ready()"
   ]
  },
  {
   "cell_type": "markdown",
   "metadata": {},
   "source": [
    "## Create collection with vectorizer\n",
    "\n",
    "Create a collection for financial articles with separate embeddings for title and content.\n",
    "\n",
    "[Docs - Collection configuration](https://weaviate.io/developers/weaviate/manage-data/collections)"
   ]
  },
  {
   "cell_type": "markdown",
   "metadata": {},
   "source": [
    "![Weaviate collections](images/weaviate-explainer-collections.png)"
   ]
  },
  {
   "cell_type": "code",
   "execution_count": null,
   "metadata": {},
   "outputs": [],
   "source": [
    "from weaviate.classes.config import Configure, Property, DataType\n",
    "\n",
    "# Delete collection if it exists\n",
    "if client.collections.exists(\"FinancialArticles\"):\n",
    "    client.collections.delete(\"FinancialArticles\")\n",
    "\n",
    "# Create collection with named vectors for title and content\n",
    "client.collections.create(\n",
    "    name=\"FinancialArticles\",\n",
    "    # Define property schema\n",
    "    properties=[\n",
    "        Property(name=\"article_title\", data_type=DataType.TEXT),\n",
    "        # STUDENT TODO:\n",
    "        # Add two additional properties - \"article\" and \"url\"\n",
    "        # Both should be of data_type DataType.TEXT\n",
    "        # ADD YOUR CODE HERE\n",
    "    ],\n",
    "    # Configure separate embeddings for title and article content\n",
    "    vector_config=[\n",
    "        Configure.Vectors.text2vec_aws(\n",
    "            name=\"title\",\n",
    "            source_properties=[\"article_title\"],\n",
    "            region=\"us-west-2\",\n",
    "            service=\"bedrock\",\n",
    "            model=\"amazon.titan-embed-text-v2:0\"\n",
    "        ),\n",
    "        # STUDENT TODO:\n",
    "        # Add a second vector configuration\n",
    "        # using the same region, service, and model as above\n",
    "        # Change the name to \"content\"\n",
    "        # Change source properties to \"article\"\n",
    "        # ADD YOUR CODE HERE\n",
    "    ],\n",
    ")"
   ]
  },
  {
   "cell_type": "markdown",
   "metadata": {},
   "source": [
    "## Load financial articles data\n",
    "\n",
    "Import the financial news dataset using batch processing for efficient loading."
   ]
  },
  {
   "cell_type": "code",
   "execution_count": null,
   "metadata": {},
   "outputs": [],
   "source": [
    "import pandas as pd\n",
    "from tqdm import tqdm\n",
    "from weaviate.util import generate_uuid5\n",
    "\n",
    "# Load the financial articles dataset\n",
    "df = pd.read_parquet(\"data/fin_news_articles_5000.parquet\")\n",
    "\n",
    "print(f\"Loaded {len(df)} articles\")\n",
    "print(\"Sample data:\")\n",
    "df.head()"
   ]
  },
  {
   "cell_type": "code",
   "execution_count": null,
   "metadata": {},
   "outputs": [],
   "source": [
    "# Get collection reference\n",
    "# STUDENT TODO:\n",
    "# Assign client.collections.use(\"FinancialArticles\") to variable 'articles'\n",
    "# ADD YOUR CODE HERE"
   ]
  },
  {
   "cell_type": "code",
   "execution_count": null,
   "metadata": {},
   "outputs": [],
   "source": [
    "# Import data with batch processing\n",
    "with articles.batch.fixed_size(batch_size=100) as batch:\n",
    "    for _, row in tqdm(df.iterrows(), total=len(df)):\n",
    "        # Create object from dataframe row\n",
    "        obj = {\n",
    "            \"article_title\": row[\"article_title\"],\n",
    "            \"article\": row[\"article\"],\n",
    "            \"url\": row[\"url\"] if \"url\" in row else \"\"\n",
    "        }\n",
    "\n",
    "        # Generate UUID to prevent duplicates\n",
    "        uuid = generate_uuid5(row[\"article_title\"] + str(row.get(\"url\", \"\")))\n",
    "\n",
    "        # STUDENT TODO:\n",
    "        # Add the object to the batch\n",
    "        # using batch.add_object\n",
    "        # with properties=obj, uuid=uuid\n",
    "        # ADD YOUR CODE HERE\n",
    "\n",
    "        # Check for errors during import\n",
    "        if batch.number_errors > 10:\n",
    "            print(\"Too many errors during import\")\n",
    "            break\n",
    "\n",
    "print(f\"\\nImported {len(articles)} articles\")"
   ]
  },
  {
   "cell_type": "markdown",
   "metadata": {},
   "source": [
    "## Check for import errors"
   ]
  },
  {
   "cell_type": "code",
   "execution_count": null,
   "metadata": {},
   "outputs": [],
   "source": [
    "if len(articles.batch.failed_objects) > 0:\n",
    "    print(f\"Import completed with {len(articles.batch.failed_objects)} errors\")\n",
    "    for err in articles.batch.failed_objects[:5]:  # Show first 5 errors\n",
    "        print(err)\n",
    "else:\n",
    "    print(\"Import completed successfully with no errors\")"
   ]
  },
  {
   "cell_type": "markdown",
   "metadata": {},
   "source": [
    "## Verify the data\n",
    "\n",
    "Check that articles were imported correctly with embeddings."
   ]
  },
  {
   "cell_type": "code",
   "execution_count": null,
   "metadata": {},
   "outputs": [],
   "source": [
    "# Check collection size\n",
    "# STUDENT TODO:\n",
    "# Use the built-in len() function on the 'articles' collection to get the total number of articles\n",
    "# ADD YOUR CODE HERE"
   ]
  },
  {
   "cell_type": "code",
   "execution_count": null,
   "metadata": {},
   "outputs": [],
   "source": [
    "# View sample data\n",
    "# STUDENT TODO:\n",
    "# Fetch 3 articles\n",
    "# Use articles.query.fetch_objects with `limit=3``\n",
    "# START_SOLUTION\n",
    "response = articles.query.fetch_objects(limit=3)\n",
    "# END_SOLUTION\n",
    "\n",
    "# Inspect the response\n",
    "for item in response.objects:\n",
    "    print(f\"Title: {item.properties['article_title']}\")\n",
    "    print(f\"Content preview: {item.properties['article'][:100]}...\\n\")"
   ]
  },
  {
   "cell_type": "markdown",
   "metadata": {},
   "source": [
    "## Test basic search\n",
    "\n",
    "Quick test to verify the collection works with semantic search."
   ]
  },
  {
   "cell_type": "code",
   "execution_count": null,
   "metadata": {},
   "outputs": [],
   "source": [
    "# Try semantic search on titles\n",
    "# STUDENT TODO:\n",
    "# Use `.query.near_text` to search for articles related to \"technology earnings\"\n",
    "# Supply the target_vector argument as \"title\"\n",
    "# Limit results to 3\n",
    "# START_SOLUTION\n",
    "response = articles.query.near_text(\n",
    "    query=\"technology earnings\",\n",
    "    target_vector=\"title\",\n",
    "    limit=3\n",
    ")\n",
    "# END_SOLUTION\n",
    "\n",
    "\n",
    "print(\"Search results for 'technology earnings':\")\n",
    "# Inspect the response\n",
    "# STUDENT TODO:\n",
    "# START_SOLUTION\n",
    "for item in response.objects:\n",
    "    print(f\"Title: {item.properties['article_title']}\")\n",
    "    print(f\"Content preview: {item.properties['article'][:100]}...\\n\")\n",
    "# END_SOLUTION"
   ]
  },
  {
   "cell_type": "markdown",
   "metadata": {},
   "source": [
    "## Close the client\n",
    "\n",
    "Always close your connection when finished."
   ]
  },
  {
   "cell_type": "code",
   "execution_count": null,
   "metadata": {},
   "outputs": [],
   "source": [
    "# Close the client after use\n",
    "client.close()"
   ]
  },
  {
   "cell_type": "code",
   "execution_count": null,
   "metadata": {},
   "outputs": [],
   "source": []
  }
 ],
 "metadata": {
  "kernelspec": {
   "display_name": "Python 3 (ipykernel)",
   "language": "python",
   "name": "python3"
  },
  "language_info": {
   "codemirror_mode": {
    "name": "ipython",
    "version": 3
   },
   "file_extension": ".py",
   "mimetype": "text/x-python",
   "name": "python",
   "nbconvert_exporter": "python",
   "pygments_lexer": "ipython3",
   "version": "3.12.9"
  }
 },
 "nbformat": 4,
 "nbformat_minor": 4
}
